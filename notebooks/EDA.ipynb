{
 "cells": [
  {
   "cell_type": "code",
   "execution_count": 1,
   "metadata": {
    "pycharm": {
     "is_executing": false
    }
   },
   "outputs": [],
   "source": [
    "import pandas as pd\n",
    "import numpy as np"
   ]
  },
  {
   "cell_type": "markdown",
   "source": [
    "### Reading in the data, checking for nulls or unexpected data types."
   ],
   "metadata": {
    "collapsed": false,
    "pycharm": {
     "name": "#%% md\n"
    }
   }
  },
  {
   "cell_type": "code",
   "execution_count": 2,
   "metadata": {
    "pycharm": {
     "is_executing": false
    }
   },
   "outputs": [
    {
     "data": {
      "text/plain": "    date    device  attribute1  attribute2  attribute3  attribute4  \\\n0  15001  S1F01085   215630672          56           0          52   \n1  15001  S1F0166B    61370680           0           3           0   \n2  15001  S1F01E6Y   173295968           0           0           0   \n3  15001  S1F01JE0    79694024           0           0           0   \n4  15001  S1F01R2B   135970480           0           0           0   \n\n   attribute5  attribute6  attribute7  attribute8  attribute9  failure  \n0           6      407438           0           0           7        0  \n1           6      403174           0           0           0        0  \n2          12      237394           0           0           0        0  \n3           6      410186           0           0           0        0  \n4          15      313173           0           0           3        0  ",
      "text/html": "<div>\n<style scoped>\n    .dataframe tbody tr th:only-of-type {\n        vertical-align: middle;\n    }\n\n    .dataframe tbody tr th {\n        vertical-align: top;\n    }\n\n    .dataframe thead th {\n        text-align: right;\n    }\n</style>\n<table border=\"1\" class=\"dataframe\">\n  <thead>\n    <tr style=\"text-align: right;\">\n      <th></th>\n      <th>date</th>\n      <th>device</th>\n      <th>attribute1</th>\n      <th>attribute2</th>\n      <th>attribute3</th>\n      <th>attribute4</th>\n      <th>attribute5</th>\n      <th>attribute6</th>\n      <th>attribute7</th>\n      <th>attribute8</th>\n      <th>attribute9</th>\n      <th>failure</th>\n    </tr>\n  </thead>\n  <tbody>\n    <tr>\n      <th>0</th>\n      <td>15001</td>\n      <td>S1F01085</td>\n      <td>215630672</td>\n      <td>56</td>\n      <td>0</td>\n      <td>52</td>\n      <td>6</td>\n      <td>407438</td>\n      <td>0</td>\n      <td>0</td>\n      <td>7</td>\n      <td>0</td>\n    </tr>\n    <tr>\n      <th>1</th>\n      <td>15001</td>\n      <td>S1F0166B</td>\n      <td>61370680</td>\n      <td>0</td>\n      <td>3</td>\n      <td>0</td>\n      <td>6</td>\n      <td>403174</td>\n      <td>0</td>\n      <td>0</td>\n      <td>0</td>\n      <td>0</td>\n    </tr>\n    <tr>\n      <th>2</th>\n      <td>15001</td>\n      <td>S1F01E6Y</td>\n      <td>173295968</td>\n      <td>0</td>\n      <td>0</td>\n      <td>0</td>\n      <td>12</td>\n      <td>237394</td>\n      <td>0</td>\n      <td>0</td>\n      <td>0</td>\n      <td>0</td>\n    </tr>\n    <tr>\n      <th>3</th>\n      <td>15001</td>\n      <td>S1F01JE0</td>\n      <td>79694024</td>\n      <td>0</td>\n      <td>0</td>\n      <td>0</td>\n      <td>6</td>\n      <td>410186</td>\n      <td>0</td>\n      <td>0</td>\n      <td>0</td>\n      <td>0</td>\n    </tr>\n    <tr>\n      <th>4</th>\n      <td>15001</td>\n      <td>S1F01R2B</td>\n      <td>135970480</td>\n      <td>0</td>\n      <td>0</td>\n      <td>0</td>\n      <td>15</td>\n      <td>313173</td>\n      <td>0</td>\n      <td>0</td>\n      <td>3</td>\n      <td>0</td>\n    </tr>\n  </tbody>\n</table>\n</div>"
     },
     "metadata": {},
     "output_type": "execute_result",
     "execution_count": 2
    }
   ],
   "source": [
    "df = pd.read_csv(\"../data/device_failure_data_scientist.csv\")\n",
    "df.head()"
   ]
  },
  {
   "cell_type": "code",
   "execution_count": 3,
   "metadata": {
    "pycharm": {
     "is_executing": false
    }
   },
   "outputs": [
    {
     "data": {
      "text/plain": "         date    device  attribute1  attribute2  attribute3  attribute4  \\\n124489  15306  Z1F0MA1S    18310224           0           0           0   \n124490  15306  Z1F0Q8RT   172556680          96         107           4   \n124491  15306  Z1F0QK05    19029120        4832           0           0   \n124492  15306  Z1F0QL3N   226953408           0           0           0   \n124493  15306  Z1F0QLC1    17572840           0           0           0   \n\n        attribute5  attribute6  attribute7  attribute8  attribute9  failure  \n124489          10      353705           8           8           0        0  \n124490          11      332792           0           0          13        0  \n124491          11      350410           0           0           0        0  \n124492          12      358980           0           0           0        0  \n124493          10      351431           0           0           0        0  ",
      "text/html": "<div>\n<style scoped>\n    .dataframe tbody tr th:only-of-type {\n        vertical-align: middle;\n    }\n\n    .dataframe tbody tr th {\n        vertical-align: top;\n    }\n\n    .dataframe thead th {\n        text-align: right;\n    }\n</style>\n<table border=\"1\" class=\"dataframe\">\n  <thead>\n    <tr style=\"text-align: right;\">\n      <th></th>\n      <th>date</th>\n      <th>device</th>\n      <th>attribute1</th>\n      <th>attribute2</th>\n      <th>attribute3</th>\n      <th>attribute4</th>\n      <th>attribute5</th>\n      <th>attribute6</th>\n      <th>attribute7</th>\n      <th>attribute8</th>\n      <th>attribute9</th>\n      <th>failure</th>\n    </tr>\n  </thead>\n  <tbody>\n    <tr>\n      <th>124489</th>\n      <td>15306</td>\n      <td>Z1F0MA1S</td>\n      <td>18310224</td>\n      <td>0</td>\n      <td>0</td>\n      <td>0</td>\n      <td>10</td>\n      <td>353705</td>\n      <td>8</td>\n      <td>8</td>\n      <td>0</td>\n      <td>0</td>\n    </tr>\n    <tr>\n      <th>124490</th>\n      <td>15306</td>\n      <td>Z1F0Q8RT</td>\n      <td>172556680</td>\n      <td>96</td>\n      <td>107</td>\n      <td>4</td>\n      <td>11</td>\n      <td>332792</td>\n      <td>0</td>\n      <td>0</td>\n      <td>13</td>\n      <td>0</td>\n    </tr>\n    <tr>\n      <th>124491</th>\n      <td>15306</td>\n      <td>Z1F0QK05</td>\n      <td>19029120</td>\n      <td>4832</td>\n      <td>0</td>\n      <td>0</td>\n      <td>11</td>\n      <td>350410</td>\n      <td>0</td>\n      <td>0</td>\n      <td>0</td>\n      <td>0</td>\n    </tr>\n    <tr>\n      <th>124492</th>\n      <td>15306</td>\n      <td>Z1F0QL3N</td>\n      <td>226953408</td>\n      <td>0</td>\n      <td>0</td>\n      <td>0</td>\n      <td>12</td>\n      <td>358980</td>\n      <td>0</td>\n      <td>0</td>\n      <td>0</td>\n      <td>0</td>\n    </tr>\n    <tr>\n      <th>124493</th>\n      <td>15306</td>\n      <td>Z1F0QLC1</td>\n      <td>17572840</td>\n      <td>0</td>\n      <td>0</td>\n      <td>0</td>\n      <td>10</td>\n      <td>351431</td>\n      <td>0</td>\n      <td>0</td>\n      <td>0</td>\n      <td>0</td>\n    </tr>\n  </tbody>\n</table>\n</div>"
     },
     "metadata": {},
     "output_type": "execute_result",
     "execution_count": 3
    }
   ],
   "source": [
    "df.tail()"
   ]
  },
  {
   "cell_type": "markdown",
   "source": [
    "Checking for null values"
   ],
   "metadata": {
    "collapsed": false,
    "pycharm": {
     "name": "#%% md\n"
    }
   }
  },
  {
   "cell_type": "code",
   "execution_count": 4,
   "metadata": {
    "pycharm": {
     "is_executing": false
    },
    "scrolled": true
   },
   "outputs": [
    {
     "data": {
      "text/plain": "date          0\ndevice        0\nattribute1    0\nattribute2    0\nattribute3    0\nattribute4    0\nattribute5    0\nattribute6    0\nattribute7    0\nattribute8    0\nattribute9    0\nfailure       0\ndtype: int64"
     },
     "metadata": {},
     "output_type": "execute_result",
     "execution_count": 4
    }
   ],
   "source": [
    "df.isnull().sum()"
   ]
  },
  {
   "cell_type": "code",
   "execution_count": 17,
   "outputs": [
    {
     "data": {
      "text/plain": "45203    Z1F2PBHX\n43187    Z1F2PBHX\n54650    Z1F2PBHX\n28591    Z1F2PBHX\n30726    Z1F2PBHX\n           ...   \n2326     S1F01085\n4651     S1F01085\n5812     S1F01085\n3489     S1F01085\n0        S1F01085\nName: device, Length: 124494, dtype: object"
     },
     "metadata": {},
     "output_type": "execute_result",
     "execution_count": 17
    }
   ],
   "source": [
    "# Make sure all the devices are actually there and not empty strings\n",
    "df['device'].sort_values(ascending=False)"
   ],
   "metadata": {
    "collapsed": false,
    "pycharm": {
     "name": "#%%\n",
     "is_executing": false
    }
   }
  },
  {
   "cell_type": "code",
   "execution_count": 5,
   "metadata": {
    "pycharm": {
     "is_executing": false
    }
   },
   "outputs": [
    {
     "data": {
      "text/plain": "(124494, 12)"
     },
     "metadata": {},
     "output_type": "execute_result",
     "execution_count": 5
    }
   ],
   "source": [
    "df.shape"
   ]
  },
  {
   "cell_type": "code",
   "execution_count": 6,
   "metadata": {
    "pycharm": {
     "is_executing": false
    }
   },
   "outputs": [
    {
     "data": {
      "text/plain": "date           int64\ndevice        object\nattribute1     int64\nattribute2     int64\nattribute3     int64\nattribute4     int64\nattribute5     int64\nattribute6     int64\nattribute7     int64\nattribute8     int64\nattribute9     int64\nfailure        int64\ndtype: object"
     },
     "metadata": {},
     "output_type": "execute_result",
     "execution_count": 6
    }
   ],
   "source": [
    "df.dtypes"
   ]
  },
  {
   "cell_type": "markdown",
   "source": [
    "### Looking at the two classes\n",
    "Baseline accuracy $= 0.999$ (very large class imbalance)"
   ],
   "metadata": {
    "collapsed": false,
    "pycharm": {
     "name": "#%% md\n"
    }
   }
  },
  {
   "cell_type": "code",
   "execution_count": 43,
   "metadata": {
    "pycharm": {
     "is_executing": false
    },
    "scrolled": true
   },
   "outputs": [
    {
     "data": {
      "text/plain": "0    124388\n1       106\nName: failure, dtype: int64"
     },
     "metadata": {},
     "output_type": "execute_result",
     "execution_count": 43
    }
   ],
   "source": [
    "df['failure'].value_counts()"
   ]
  },
  {
   "cell_type": "code",
   "execution_count": 51,
   "outputs": [
    {
     "data": {
      "text/plain": "array(['S1F01085', 'S1F0166B', 'S1F01E6Y', ..., 'S1F02W1L', 'S1F02XLX',\n       'S1F03499'], dtype=object)"
     },
     "metadata": {},
     "output_type": "execute_result",
     "execution_count": 51
    }
   ],
   "source": [
    "df['device'].unique()"
   ],
   "metadata": {
    "collapsed": false,
    "pycharm": {
     "name": "#%%\n",
     "is_executing": false
    }
   }
  },
  {
   "cell_type": "code",
   "execution_count": 53,
   "metadata": {
    "scrolled": true,
    "pycharm": {
     "is_executing": false
    }
   },
   "outputs": [
    {
     "data": {
      "text/plain": "Z1F0MA1S    304\nZ1F0QL3N    304\nW1F0FZPA    304\nZ1F0QK05    304\nW1F0JY02    304\n           ... \nZ1F0L4J2      5\nS1F0CVRM      5\nS1F0BN0S      5\nS1F04KSC      4\nW1F0WJFT      3\nName: device, Length: 1168, dtype: int64"
     },
     "metadata": {},
     "output_type": "execute_result",
     "execution_count": 53
    }
   ],
   "source": [
    "df['device'].value_counts()"
   ]
  },
  {
   "cell_type": "markdown",
   "source": [
    "`failed_devices` is a list of all the devices that failed.  Failed devices had telemetry data until the day they did \n",
    "fail while not-failed devices (unsurprisingly) continued transmitting telemetry data.  I can use this list to filter \n",
    "the data frame to look specifically at devices that failed or devices that didn't fail, removing all of the data of \n",
    "failed devices.  I can better compare the differences in telemetry data and figure out which attributes are relevant."
   ],
   "metadata": {
    "collapsed": false,
    "pycharm": {
     "name": "#%% md\n"
    }
   }
  },
  {
   "cell_type": "code",
   "execution_count": 76,
   "outputs": [
    {
     "data": {
      "text/plain": "['S1F0RRB1',\n 'S1F0CTDN',\n 'W1F0PNA5',\n 'W1F13SRV',\n 'W1F1230J',\n 'W1F0T034',\n 'S1F0GG8X',\n 'S1F023H2',\n 'S1F0QY11',\n 'S1F0S2WJ',\n 'W1F0Z1W9',\n 'W1F15S4D',\n 'Z1F0LVPW',\n 'Z1F0NVZA',\n 'Z1F1FCH5',\n 'S1F0P3G2',\n 'W1F0F6BN',\n 'W1F0P114',\n 'W1F0X4FC',\n 'S1F0LCTV',\n 'W1F03DP4',\n 'W1F0FW0S',\n 'S1F10E6M',\n 'S1F11MB0',\n 'W1F0SGHR',\n 'W1F0VDH2',\n 'W1F0TA59',\n 'Z1F0LVGY',\n 'Z1F0MCCA',\n 'Z1F0P5D9',\n 'W1F0NZZZ',\n 'W1F0T074',\n 'S1F0DSTY',\n 'S1F0TQCV',\n 'Z1F04GCH',\n 'W1F08EDA',\n 'W1F1C9TE',\n 'S1F0S4CA',\n 'W1F19BPT',\n 'Z1F130LH',\n 'S1F0GJW3',\n 'S1F0LD2C',\n 'W1F0Q8FH',\n 'Z1F0FSBY',\n 'W1F0Z4EA',\n 'Z1F0QH0C',\n 'S1F0S4T6',\n 'W1F1CDDP',\n 'S1F0S57T',\n 'S1F0JD7P',\n 'S1F13H80',\n 'Z1F148T1',\n 'S1F0RSZP',\n 'S1F0GKFX',\n 'S1F0LCVC',\n 'W1F1BZTM',\n 'Z1F1RJFA',\n 'S1F13589',\n 'S1F136J0',\n 'S1F0F4EB',\n 'W1F1C9WG',\n 'S1F0RR35',\n 'Z1F1653X',\n 'Z1F1AG5N',\n 'W1F0KCP2',\n 'W1F0M35B',\n 'Z1F1901P',\n 'S1F0GKL6',\n 'Z1F0K451',\n 'W1F03D4L',\n 'W1F0FKWW',\n 'S1F0PJJW',\n 'W1F0X5GW',\n 'S1F0L0DW',\n 'W1F0WBTM',\n 'S1F0GSD9',\n 'S1F0QF3R',\n 'W1F0Z3KR',\n 'W1F0M4BZ',\n 'Z1F0B4XZ',\n 'W1F0GCAZ',\n 'Z1F0LSNZ',\n 'Z1F1VQFY',\n 'Z1F0P16F',\n 'S1F0S65X',\n 'W1F1BS0H',\n 'W1F0PAXH',\n 'S1F0GPFZ',\n 'S1F0J5JH',\n 'W1F1CJ1K',\n 'S1F0S4EG',\n 'S1F09DZQ',\n 'W1F11ZG9',\n 'S1F0LD15',\n 'W1F1BFP5',\n 'S1F0T2LA',\n 'W1F14XGD',\n 'S1F135TN',\n 'W1F1DQN8',\n 'S1F03YZM',\n 'S1F0GSHB',\n 'W1F1CB5E',\n 'Z1F0MRPJ',\n 'S1F0JGJV',\n 'Z1F14BGY',\n 'W1F0T0B1']"
     },
     "metadata": {},
     "output_type": "execute_result",
     "execution_count": 76
    }
   ],
   "source": [
    "failed_devices = list(df.query(\"failure == 1\")['device'])\n",
    "failed_devices\n"
   ],
   "metadata": {
    "collapsed": false,
    "pycharm": {
     "name": "#%%\n",
     "is_executing": false
    }
   }
  },
  {
   "cell_type": "markdown",
   "source": [
    "### Separating the failed devices into a separate data frame for easier viewing."
   ],
   "metadata": {
    "collapsed": false,
    "pycharm": {
     "name": "#%% md\n"
    }
   }
  },
  {
   "cell_type": "code",
   "execution_count": 9,
   "metadata": {
    "pycharm": {
     "is_executing": false
    }
   },
   "outputs": [],
   "source": [
    "failed_df = df.query(\"failure == 1\")"
   ]
  },
  {
   "cell_type": "code",
   "execution_count": 10,
   "metadata": {
    "pycharm": {
     "is_executing": false
    }
   },
   "outputs": [],
   "source": [
    "failed_df.reset_index(inplace=True)\n"
   ]
  },
  {
   "cell_type": "code",
   "execution_count": 18,
   "metadata": {
    "pycharm": {
     "is_executing": false
    }
   },
   "outputs": [
    {
     "data": {
      "text/plain": "W1F0VDH2    1\nZ1F0P16F    1\nS1F0QY11    1\nW1F19BPT    1\nW1F0FKWW    1\n           ..\nZ1F0P5D9    1\nW1F0WBTM    1\nS1F0RSZP    1\nS1F0PJJW    1\nS1F023H2    1\nName: device, Length: 106, dtype: int64"
     },
     "metadata": {},
     "output_type": "execute_result",
     "execution_count": 18
    }
   ],
   "source": [
    "failed_df['device'].value_counts() # Not dependent on device"
   ]
  },
  {
   "cell_type": "markdown",
   "source": [
    "### Looking more closely at telemetry data."
   ],
   "metadata": {
    "collapsed": false,
    "pycharm": {
     "name": "#%% md\n"
    }
   }
  },
  {
   "cell_type": "code",
   "execution_count": 13,
   "metadata": {
    "scrolled": true,
    "pycharm": {
     "is_executing": false
    }
   },
   "outputs": [
    {
     "data": {
      "text/plain": "date          1.510622e+04\nattribute1    1.223868e+08\nattribute2    1.594848e+02\nattribute3    9.940455e+00\nattribute4    1.741120e+00\nattribute5    1.422269e+01\nattribute6    2.601729e+05\nattribute7    2.925282e-01\nattribute8    2.925282e-01\nattribute9    1.245152e+01\nfailure       8.514467e-04\ndtype: float64"
     },
     "metadata": {},
     "output_type": "execute_result",
     "execution_count": 13
    }
   ],
   "source": [
    "df.aggregate(np.mean)"
   ]
  },
  {
   "cell_type": "code",
   "execution_count": 14,
   "metadata": {
    "scrolled": true,
    "pycharm": {
     "is_executing": false
    }
   },
   "outputs": [
    {
     "data": {
      "text/plain": "date          1.510791e+04\nattribute1    1.271755e+08\nattribute2    4.109434e+03\nattribute3    3.905660e+00\nattribute4    5.463208e+01\nattribute5    1.546226e+01\nattribute6    2.583035e+05\nattribute7    3.062264e+01\nattribute8    3.062264e+01\nattribute9    2.308491e+01\nfailure       1.000000e+00\ndtype: float64"
     },
     "metadata": {},
     "output_type": "execute_result",
     "execution_count": 14
    }
   ],
   "source": [
    "df.query('failure == 1').aggregate(np.mean)"
   ]
  },
  {
   "cell_type": "code",
   "execution_count": 15,
   "metadata": {
    "pycharm": {
     "is_executing": false
    }
   },
   "outputs": [
    {
     "data": {
      "text/plain": "date          1.510622e+04\nattribute1    1.223827e+08\nattribute2    1.561187e+02\nattribute3    9.945598e+00\nattribute4    1.696048e+00\nattribute5    1.422164e+01\nattribute6    2.601745e+05\nattribute7    2.666817e-01\nattribute8    2.666817e-01\nattribute9    1.244246e+01\nfailure       0.000000e+00\ndtype: float64"
     },
     "metadata": {},
     "output_type": "execute_result",
     "execution_count": 15
    }
   ],
   "source": [
    "df.query('failure==0').aggregate(np.mean)"
   ]
  },
  {
   "cell_type": "code",
   "execution_count": 96,
   "outputs": [
    {
     "data": {
      "text/plain": "       date    device  attribute1  attribute2  attribute3  attribute4  \\\n235   15001  S1F0RRB1     5230888        2288           0          37   \n1398  15002  S1F0RRB1    13307628       64776           0          49   \n2561  15003  S1F0RRB1    26258330       64776           0         135   \n3724  15004  S1F0RRB1    37985862       64776           0         763   \n4885  15005  S1F0RRB1    48467332       64776           0         841   \n\n      attribute5  attribute6  attribute7  attribute8  attribute9  failure  \n235            8       39267          24          24           1        0  \n1398           8       39267          56          56           1        0  \n2561           8       39267          56          56           1        0  \n3724           8       39267          56          56           1        0  \n4885           8       39267          56          56           1        1  ",
      "text/html": "<div>\n<style scoped>\n    .dataframe tbody tr th:only-of-type {\n        vertical-align: middle;\n    }\n\n    .dataframe tbody tr th {\n        vertical-align: top;\n    }\n\n    .dataframe thead th {\n        text-align: right;\n    }\n</style>\n<table border=\"1\" class=\"dataframe\">\n  <thead>\n    <tr style=\"text-align: right;\">\n      <th></th>\n      <th>date</th>\n      <th>device</th>\n      <th>attribute1</th>\n      <th>attribute2</th>\n      <th>attribute3</th>\n      <th>attribute4</th>\n      <th>attribute5</th>\n      <th>attribute6</th>\n      <th>attribute7</th>\n      <th>attribute8</th>\n      <th>attribute9</th>\n      <th>failure</th>\n    </tr>\n  </thead>\n  <tbody>\n    <tr>\n      <th>235</th>\n      <td>15001</td>\n      <td>S1F0RRB1</td>\n      <td>5230888</td>\n      <td>2288</td>\n      <td>0</td>\n      <td>37</td>\n      <td>8</td>\n      <td>39267</td>\n      <td>24</td>\n      <td>24</td>\n      <td>1</td>\n      <td>0</td>\n    </tr>\n    <tr>\n      <th>1398</th>\n      <td>15002</td>\n      <td>S1F0RRB1</td>\n      <td>13307628</td>\n      <td>64776</td>\n      <td>0</td>\n      <td>49</td>\n      <td>8</td>\n      <td>39267</td>\n      <td>56</td>\n      <td>56</td>\n      <td>1</td>\n      <td>0</td>\n    </tr>\n    <tr>\n      <th>2561</th>\n      <td>15003</td>\n      <td>S1F0RRB1</td>\n      <td>26258330</td>\n      <td>64776</td>\n      <td>0</td>\n      <td>135</td>\n      <td>8</td>\n      <td>39267</td>\n      <td>56</td>\n      <td>56</td>\n      <td>1</td>\n      <td>0</td>\n    </tr>\n    <tr>\n      <th>3724</th>\n      <td>15004</td>\n      <td>S1F0RRB1</td>\n      <td>37985862</td>\n      <td>64776</td>\n      <td>0</td>\n      <td>763</td>\n      <td>8</td>\n      <td>39267</td>\n      <td>56</td>\n      <td>56</td>\n      <td>1</td>\n      <td>0</td>\n    </tr>\n    <tr>\n      <th>4885</th>\n      <td>15005</td>\n      <td>S1F0RRB1</td>\n      <td>48467332</td>\n      <td>64776</td>\n      <td>0</td>\n      <td>841</td>\n      <td>8</td>\n      <td>39267</td>\n      <td>56</td>\n      <td>56</td>\n      <td>1</td>\n      <td>1</td>\n    </tr>\n  </tbody>\n</table>\n</div>"
     },
     "metadata": {},
     "output_type": "execute_result",
     "execution_count": 96
    }
   ],
   "source": [
    "df.query(\"device == 'S1F0RRB1'\")"
   ],
   "metadata": {
    "collapsed": false,
    "pycharm": {
     "name": "#%%\n",
     "is_executing": false
    }
   }
  },
  {
   "cell_type": "code",
   "execution_count": 98,
   "outputs": [
    {
     "data": {
      "text/plain": "        date    device  attribute1  attribute2  attribute3  attribute4  \\\n557    15001  W1F0F6BN   113361680           0           0           0   \n1720   15002  W1F0F6BN   132121976           0           0           0   \n2883   15003  W1F0F6BN   153745136           0           0           0   \n4046   15004  W1F0F6BN   176403712           0           0           0   \n5207   15005  W1F0F6BN   200875200           0           0           0   \n6321   15006  W1F0F6BN   221711128           0           0           0   \n7245   15007  W1F0F6BN     1509976           0           0           0   \n8009   15008  W1F0F6BN    22376168           0           0           0   \n8765   15009  W1F0F6BN    49165752           0           0           0   \n9521   15010  W1F0F6BN    70592240           0           0           0   \n10276  15011  W1F0F6BN    94078840           0           0           0   \n11031  15012  W1F0F6BN   114799880           0           0           0   \n11786  15013  W1F0F6BN   139922104           0           0           0   \n12517  15014  W1F0F6BN   160516016           0           0           0   \n13233  15015  W1F0F6BN   180323664           0           0           0   \n13948  15016  W1F0F6BN   205865400           0           0           0   \n14663  15017  W1F0F6BN   148907576           0           0          16   \n15378  15018  W1F0F6BN    44449030           0           0          28   \n16091  15019  W1F0F6BN   140931864           0           0          28   \n16807  15020  W1F0F6BN   224349792           0           0          34   \n17519  15021  W1F0F6BN   105159792           0           0          58   \n18231  15022  W1F0F6BN    22646880           0           0          58   \n\n       attribute5  attribute6  attribute7  attribute8  attribute9  failure  \n557            12      225194           0           0           0        0  \n1720           12      226495           0           0           0        0  \n2883           12      227728           0           0           0        0  \n4046           12      228862           0           0           0        0  \n5207           12      230151           0           0           0        0  \n6321           12      231468           0           0           0        0  \n7245           12      232777           0           0           0        0  \n8009           12      234010           0           0           0        0  \n8765           12      235082           0           0           0        0  \n9521           12      236340           0           0           0        0  \n10276          12      237635           0           0           0        0  \n11031          12      238884           0           0           0        0  \n11786          12      239953           0           0           0        0  \n12517          12      241283           0           0           0        0  \n13233          12      242533           0           0           0        0  \n13948          12      243680           0           0           0        0  \n14663          12      243751           0           0           0        0  \n15378          12      243751           0           0           0        0  \n16091          12      243751         152         152           0        0  \n16807          12      243751         152         152           0        0  \n17519          12      243903           0           0           0        0  \n18231          12      244253           0           0           0        1  ",
      "text/html": "<div>\n<style scoped>\n    .dataframe tbody tr th:only-of-type {\n        vertical-align: middle;\n    }\n\n    .dataframe tbody tr th {\n        vertical-align: top;\n    }\n\n    .dataframe thead th {\n        text-align: right;\n    }\n</style>\n<table border=\"1\" class=\"dataframe\">\n  <thead>\n    <tr style=\"text-align: right;\">\n      <th></th>\n      <th>date</th>\n      <th>device</th>\n      <th>attribute1</th>\n      <th>attribute2</th>\n      <th>attribute3</th>\n      <th>attribute4</th>\n      <th>attribute5</th>\n      <th>attribute6</th>\n      <th>attribute7</th>\n      <th>attribute8</th>\n      <th>attribute9</th>\n      <th>failure</th>\n    </tr>\n  </thead>\n  <tbody>\n    <tr>\n      <th>557</th>\n      <td>15001</td>\n      <td>W1F0F6BN</td>\n      <td>113361680</td>\n      <td>0</td>\n      <td>0</td>\n      <td>0</td>\n      <td>12</td>\n      <td>225194</td>\n      <td>0</td>\n      <td>0</td>\n      <td>0</td>\n      <td>0</td>\n    </tr>\n    <tr>\n      <th>1720</th>\n      <td>15002</td>\n      <td>W1F0F6BN</td>\n      <td>132121976</td>\n      <td>0</td>\n      <td>0</td>\n      <td>0</td>\n      <td>12</td>\n      <td>226495</td>\n      <td>0</td>\n      <td>0</td>\n      <td>0</td>\n      <td>0</td>\n    </tr>\n    <tr>\n      <th>2883</th>\n      <td>15003</td>\n      <td>W1F0F6BN</td>\n      <td>153745136</td>\n      <td>0</td>\n      <td>0</td>\n      <td>0</td>\n      <td>12</td>\n      <td>227728</td>\n      <td>0</td>\n      <td>0</td>\n      <td>0</td>\n      <td>0</td>\n    </tr>\n    <tr>\n      <th>4046</th>\n      <td>15004</td>\n      <td>W1F0F6BN</td>\n      <td>176403712</td>\n      <td>0</td>\n      <td>0</td>\n      <td>0</td>\n      <td>12</td>\n      <td>228862</td>\n      <td>0</td>\n      <td>0</td>\n      <td>0</td>\n      <td>0</td>\n    </tr>\n    <tr>\n      <th>5207</th>\n      <td>15005</td>\n      <td>W1F0F6BN</td>\n      <td>200875200</td>\n      <td>0</td>\n      <td>0</td>\n      <td>0</td>\n      <td>12</td>\n      <td>230151</td>\n      <td>0</td>\n      <td>0</td>\n      <td>0</td>\n      <td>0</td>\n    </tr>\n    <tr>\n      <th>6321</th>\n      <td>15006</td>\n      <td>W1F0F6BN</td>\n      <td>221711128</td>\n      <td>0</td>\n      <td>0</td>\n      <td>0</td>\n      <td>12</td>\n      <td>231468</td>\n      <td>0</td>\n      <td>0</td>\n      <td>0</td>\n      <td>0</td>\n    </tr>\n    <tr>\n      <th>7245</th>\n      <td>15007</td>\n      <td>W1F0F6BN</td>\n      <td>1509976</td>\n      <td>0</td>\n      <td>0</td>\n      <td>0</td>\n      <td>12</td>\n      <td>232777</td>\n      <td>0</td>\n      <td>0</td>\n      <td>0</td>\n      <td>0</td>\n    </tr>\n    <tr>\n      <th>8009</th>\n      <td>15008</td>\n      <td>W1F0F6BN</td>\n      <td>22376168</td>\n      <td>0</td>\n      <td>0</td>\n      <td>0</td>\n      <td>12</td>\n      <td>234010</td>\n      <td>0</td>\n      <td>0</td>\n      <td>0</td>\n      <td>0</td>\n    </tr>\n    <tr>\n      <th>8765</th>\n      <td>15009</td>\n      <td>W1F0F6BN</td>\n      <td>49165752</td>\n      <td>0</td>\n      <td>0</td>\n      <td>0</td>\n      <td>12</td>\n      <td>235082</td>\n      <td>0</td>\n      <td>0</td>\n      <td>0</td>\n      <td>0</td>\n    </tr>\n    <tr>\n      <th>9521</th>\n      <td>15010</td>\n      <td>W1F0F6BN</td>\n      <td>70592240</td>\n      <td>0</td>\n      <td>0</td>\n      <td>0</td>\n      <td>12</td>\n      <td>236340</td>\n      <td>0</td>\n      <td>0</td>\n      <td>0</td>\n      <td>0</td>\n    </tr>\n    <tr>\n      <th>10276</th>\n      <td>15011</td>\n      <td>W1F0F6BN</td>\n      <td>94078840</td>\n      <td>0</td>\n      <td>0</td>\n      <td>0</td>\n      <td>12</td>\n      <td>237635</td>\n      <td>0</td>\n      <td>0</td>\n      <td>0</td>\n      <td>0</td>\n    </tr>\n    <tr>\n      <th>11031</th>\n      <td>15012</td>\n      <td>W1F0F6BN</td>\n      <td>114799880</td>\n      <td>0</td>\n      <td>0</td>\n      <td>0</td>\n      <td>12</td>\n      <td>238884</td>\n      <td>0</td>\n      <td>0</td>\n      <td>0</td>\n      <td>0</td>\n    </tr>\n    <tr>\n      <th>11786</th>\n      <td>15013</td>\n      <td>W1F0F6BN</td>\n      <td>139922104</td>\n      <td>0</td>\n      <td>0</td>\n      <td>0</td>\n      <td>12</td>\n      <td>239953</td>\n      <td>0</td>\n      <td>0</td>\n      <td>0</td>\n      <td>0</td>\n    </tr>\n    <tr>\n      <th>12517</th>\n      <td>15014</td>\n      <td>W1F0F6BN</td>\n      <td>160516016</td>\n      <td>0</td>\n      <td>0</td>\n      <td>0</td>\n      <td>12</td>\n      <td>241283</td>\n      <td>0</td>\n      <td>0</td>\n      <td>0</td>\n      <td>0</td>\n    </tr>\n    <tr>\n      <th>13233</th>\n      <td>15015</td>\n      <td>W1F0F6BN</td>\n      <td>180323664</td>\n      <td>0</td>\n      <td>0</td>\n      <td>0</td>\n      <td>12</td>\n      <td>242533</td>\n      <td>0</td>\n      <td>0</td>\n      <td>0</td>\n      <td>0</td>\n    </tr>\n    <tr>\n      <th>13948</th>\n      <td>15016</td>\n      <td>W1F0F6BN</td>\n      <td>205865400</td>\n      <td>0</td>\n      <td>0</td>\n      <td>0</td>\n      <td>12</td>\n      <td>243680</td>\n      <td>0</td>\n      <td>0</td>\n      <td>0</td>\n      <td>0</td>\n    </tr>\n    <tr>\n      <th>14663</th>\n      <td>15017</td>\n      <td>W1F0F6BN</td>\n      <td>148907576</td>\n      <td>0</td>\n      <td>0</td>\n      <td>16</td>\n      <td>12</td>\n      <td>243751</td>\n      <td>0</td>\n      <td>0</td>\n      <td>0</td>\n      <td>0</td>\n    </tr>\n    <tr>\n      <th>15378</th>\n      <td>15018</td>\n      <td>W1F0F6BN</td>\n      <td>44449030</td>\n      <td>0</td>\n      <td>0</td>\n      <td>28</td>\n      <td>12</td>\n      <td>243751</td>\n      <td>0</td>\n      <td>0</td>\n      <td>0</td>\n      <td>0</td>\n    </tr>\n    <tr>\n      <th>16091</th>\n      <td>15019</td>\n      <td>W1F0F6BN</td>\n      <td>140931864</td>\n      <td>0</td>\n      <td>0</td>\n      <td>28</td>\n      <td>12</td>\n      <td>243751</td>\n      <td>152</td>\n      <td>152</td>\n      <td>0</td>\n      <td>0</td>\n    </tr>\n    <tr>\n      <th>16807</th>\n      <td>15020</td>\n      <td>W1F0F6BN</td>\n      <td>224349792</td>\n      <td>0</td>\n      <td>0</td>\n      <td>34</td>\n      <td>12</td>\n      <td>243751</td>\n      <td>152</td>\n      <td>152</td>\n      <td>0</td>\n      <td>0</td>\n    </tr>\n    <tr>\n      <th>17519</th>\n      <td>15021</td>\n      <td>W1F0F6BN</td>\n      <td>105159792</td>\n      <td>0</td>\n      <td>0</td>\n      <td>58</td>\n      <td>12</td>\n      <td>243903</td>\n      <td>0</td>\n      <td>0</td>\n      <td>0</td>\n      <td>0</td>\n    </tr>\n    <tr>\n      <th>18231</th>\n      <td>15022</td>\n      <td>W1F0F6BN</td>\n      <td>22646880</td>\n      <td>0</td>\n      <td>0</td>\n      <td>58</td>\n      <td>12</td>\n      <td>244253</td>\n      <td>0</td>\n      <td>0</td>\n      <td>0</td>\n      <td>1</td>\n    </tr>\n  </tbody>\n</table>\n</div>"
     },
     "metadata": {},
     "output_type": "execute_result",
     "execution_count": 98
    }
   ],
   "source": [
    "df.query(\"device == 'W1F0F6BN'\")"
   ],
   "metadata": {
    "collapsed": false,
    "pycharm": {
     "name": "#%%\n",
     "is_executing": false
    }
   }
  },
  {
   "cell_type": "code",
   "source": [
    "df.query(\"device == 'S1F0T2LA'\")"
   ],
   "metadata": {
    "collapsed": false,
    "pycharm": {
     "name": "#%% \n",
     "is_executing": false
    }
   },
   "execution_count": 97,
   "outputs": [
    {
     "data": {
      "text/plain": "         date    device  attribute1  attribute2  attribute3  attribute4  \\\n338     15001  S1F0T2LA   160992856         424           0           1   \n1501    15002  S1F0T2LA   183767064         424           0           1   \n2664    15003  S1F0T2LA   205069592         424           0           1   \n3827    15004  S1F0T2LA   226287408         424           0           1   \n4988    15005  S1F0T2LA     6992384         424           0           1   \n...       ...       ...         ...         ...         ...         ...   \n104426  15200  S1F0T2LA   198672744         440           0           1   \n104764  15201  S1F0T2LA   212477824         440           0           1   \n105101  15202  S1F0T2LA   203893736         440           0           1   \n105437  15203  S1F0T2LA    23153016         440           0           1   \n105773  15204  S1F0T2LA   146996384         440           0           1   \n\n        attribute5  attribute6  attribute7  attribute8  attribute9  failure  \n338             10      247498           0           0           0        0  \n1501            10      248860           0           0           0        0  \n2664            10      250270           0           0           0        0  \n3827            10      251628           0           0           0        0  \n4988            10      252990           0           0           0        0  \n...            ...         ...         ...         ...         ...      ...  \n104426          10      290026           0           0           0        0  \n104764          10      290026           0           0           0        0  \n105101          10      290026           0           0           0        0  \n105437          10      290027           0           0           0        0  \n105773          10      290027           0           0           0        1  \n\n[204 rows x 12 columns]",
      "text/html": "<div>\n<style scoped>\n    .dataframe tbody tr th:only-of-type {\n        vertical-align: middle;\n    }\n\n    .dataframe tbody tr th {\n        vertical-align: top;\n    }\n\n    .dataframe thead th {\n        text-align: right;\n    }\n</style>\n<table border=\"1\" class=\"dataframe\">\n  <thead>\n    <tr style=\"text-align: right;\">\n      <th></th>\n      <th>date</th>\n      <th>device</th>\n      <th>attribute1</th>\n      <th>attribute2</th>\n      <th>attribute3</th>\n      <th>attribute4</th>\n      <th>attribute5</th>\n      <th>attribute6</th>\n      <th>attribute7</th>\n      <th>attribute8</th>\n      <th>attribute9</th>\n      <th>failure</th>\n    </tr>\n  </thead>\n  <tbody>\n    <tr>\n      <th>338</th>\n      <td>15001</td>\n      <td>S1F0T2LA</td>\n      <td>160992856</td>\n      <td>424</td>\n      <td>0</td>\n      <td>1</td>\n      <td>10</td>\n      <td>247498</td>\n      <td>0</td>\n      <td>0</td>\n      <td>0</td>\n      <td>0</td>\n    </tr>\n    <tr>\n      <th>1501</th>\n      <td>15002</td>\n      <td>S1F0T2LA</td>\n      <td>183767064</td>\n      <td>424</td>\n      <td>0</td>\n      <td>1</td>\n      <td>10</td>\n      <td>248860</td>\n      <td>0</td>\n      <td>0</td>\n      <td>0</td>\n      <td>0</td>\n    </tr>\n    <tr>\n      <th>2664</th>\n      <td>15003</td>\n      <td>S1F0T2LA</td>\n      <td>205069592</td>\n      <td>424</td>\n      <td>0</td>\n      <td>1</td>\n      <td>10</td>\n      <td>250270</td>\n      <td>0</td>\n      <td>0</td>\n      <td>0</td>\n      <td>0</td>\n    </tr>\n    <tr>\n      <th>3827</th>\n      <td>15004</td>\n      <td>S1F0T2LA</td>\n      <td>226287408</td>\n      <td>424</td>\n      <td>0</td>\n      <td>1</td>\n      <td>10</td>\n      <td>251628</td>\n      <td>0</td>\n      <td>0</td>\n      <td>0</td>\n      <td>0</td>\n    </tr>\n    <tr>\n      <th>4988</th>\n      <td>15005</td>\n      <td>S1F0T2LA</td>\n      <td>6992384</td>\n      <td>424</td>\n      <td>0</td>\n      <td>1</td>\n      <td>10</td>\n      <td>252990</td>\n      <td>0</td>\n      <td>0</td>\n      <td>0</td>\n      <td>0</td>\n    </tr>\n    <tr>\n      <th>6112</th>\n      <td>15006</td>\n      <td>S1F0T2LA</td>\n      <td>28195072</td>\n      <td>424</td>\n      <td>0</td>\n      <td>1</td>\n      <td>10</td>\n      <td>254346</td>\n      <td>0</td>\n      <td>0</td>\n      <td>0</td>\n      <td>0</td>\n    </tr>\n    <tr>\n      <th>7077</th>\n      <td>15007</td>\n      <td>S1F0T2LA</td>\n      <td>48014624</td>\n      <td>424</td>\n      <td>0</td>\n      <td>1</td>\n      <td>10</td>\n      <td>255756</td>\n      <td>0</td>\n      <td>0</td>\n      <td>0</td>\n      <td>0</td>\n    </tr>\n    <tr>\n      <th>7855</th>\n      <td>15008</td>\n      <td>S1F0T2LA</td>\n      <td>68808352</td>\n      <td>424</td>\n      <td>0</td>\n      <td>1</td>\n      <td>10</td>\n      <td>257110</td>\n      <td>0</td>\n      <td>0</td>\n      <td>0</td>\n      <td>0</td>\n    </tr>\n    <tr>\n      <th>8611</th>\n      <td>15009</td>\n      <td>S1F0T2LA</td>\n      <td>91780304</td>\n      <td>424</td>\n      <td>0</td>\n      <td>1</td>\n      <td>10</td>\n      <td>258508</td>\n      <td>0</td>\n      <td>0</td>\n      <td>0</td>\n      <td>0</td>\n    </tr>\n    <tr>\n      <th>9367</th>\n      <td>15010</td>\n      <td>S1F0T2LA</td>\n      <td>110733408</td>\n      <td>424</td>\n      <td>0</td>\n      <td>1</td>\n      <td>10</td>\n      <td>259877</td>\n      <td>0</td>\n      <td>0</td>\n      <td>0</td>\n      <td>0</td>\n    </tr>\n    <tr>\n      <th>10122</th>\n      <td>15011</td>\n      <td>S1F0T2LA</td>\n      <td>133537760</td>\n      <td>424</td>\n      <td>0</td>\n      <td>1</td>\n      <td>10</td>\n      <td>261233</td>\n      <td>0</td>\n      <td>0</td>\n      <td>0</td>\n      <td>0</td>\n    </tr>\n    <tr>\n      <th>10877</th>\n      <td>15012</td>\n      <td>S1F0T2LA</td>\n      <td>152773040</td>\n      <td>424</td>\n      <td>0</td>\n      <td>1</td>\n      <td>10</td>\n      <td>262595</td>\n      <td>0</td>\n      <td>0</td>\n      <td>0</td>\n      <td>0</td>\n    </tr>\n    <tr>\n      <th>11632</th>\n      <td>15013</td>\n      <td>S1F0T2LA</td>\n      <td>176473072</td>\n      <td>424</td>\n      <td>0</td>\n      <td>1</td>\n      <td>10</td>\n      <td>263991</td>\n      <td>0</td>\n      <td>0</td>\n      <td>0</td>\n      <td>0</td>\n    </tr>\n    <tr>\n      <th>12368</th>\n      <td>15014</td>\n      <td>S1F0T2LA</td>\n      <td>200999816</td>\n      <td>424</td>\n      <td>0</td>\n      <td>1</td>\n      <td>10</td>\n      <td>265330</td>\n      <td>0</td>\n      <td>0</td>\n      <td>0</td>\n      <td>0</td>\n    </tr>\n    <tr>\n      <th>13084</th>\n      <td>15015</td>\n      <td>S1F0T2LA</td>\n      <td>227786880</td>\n      <td>424</td>\n      <td>0</td>\n      <td>1</td>\n      <td>10</td>\n      <td>266663</td>\n      <td>0</td>\n      <td>0</td>\n      <td>0</td>\n      <td>0</td>\n    </tr>\n    <tr>\n      <th>13799</th>\n      <td>15016</td>\n      <td>S1F0T2LA</td>\n      <td>3990848</td>\n      <td>424</td>\n      <td>0</td>\n      <td>1</td>\n      <td>10</td>\n      <td>268074</td>\n      <td>0</td>\n      <td>0</td>\n      <td>0</td>\n      <td>0</td>\n    </tr>\n    <tr>\n      <th>14514</th>\n      <td>15017</td>\n      <td>S1F0T2LA</td>\n      <td>24727552</td>\n      <td>424</td>\n      <td>0</td>\n      <td>1</td>\n      <td>10</td>\n      <td>269428</td>\n      <td>0</td>\n      <td>0</td>\n      <td>0</td>\n      <td>0</td>\n    </tr>\n    <tr>\n      <th>15229</th>\n      <td>15018</td>\n      <td>S1F0T2LA</td>\n      <td>45376704</td>\n      <td>424</td>\n      <td>0</td>\n      <td>1</td>\n      <td>10</td>\n      <td>270786</td>\n      <td>0</td>\n      <td>0</td>\n      <td>0</td>\n      <td>0</td>\n    </tr>\n    <tr>\n      <th>15942</th>\n      <td>15019</td>\n      <td>S1F0T2LA</td>\n      <td>63608552</td>\n      <td>424</td>\n      <td>0</td>\n      <td>1</td>\n      <td>10</td>\n      <td>272147</td>\n      <td>0</td>\n      <td>0</td>\n      <td>0</td>\n      <td>0</td>\n    </tr>\n    <tr>\n      <th>16655</th>\n      <td>15020</td>\n      <td>S1F0T2LA</td>\n      <td>180570432</td>\n      <td>424</td>\n      <td>0</td>\n      <td>1</td>\n      <td>10</td>\n      <td>272813</td>\n      <td>0</td>\n      <td>0</td>\n      <td>0</td>\n      <td>0</td>\n    </tr>\n    <tr>\n      <th>17367</th>\n      <td>15021</td>\n      <td>S1F0T2LA</td>\n      <td>105239616</td>\n      <td>424</td>\n      <td>0</td>\n      <td>1</td>\n      <td>10</td>\n      <td>272813</td>\n      <td>0</td>\n      <td>0</td>\n      <td>0</td>\n      <td>0</td>\n    </tr>\n    <tr>\n      <th>18079</th>\n      <td>15022</td>\n      <td>S1F0T2LA</td>\n      <td>26165248</td>\n      <td>424</td>\n      <td>0</td>\n      <td>1</td>\n      <td>10</td>\n      <td>272823</td>\n      <td>0</td>\n      <td>0</td>\n      <td>0</td>\n      <td>0</td>\n    </tr>\n    <tr>\n      <th>18791</th>\n      <td>15023</td>\n      <td>S1F0T2LA</td>\n      <td>112245248</td>\n      <td>424</td>\n      <td>0</td>\n      <td>1</td>\n      <td>10</td>\n      <td>272824</td>\n      <td>0</td>\n      <td>0</td>\n      <td>0</td>\n      <td>0</td>\n    </tr>\n    <tr>\n      <th>19504</th>\n      <td>15024</td>\n      <td>S1F0T2LA</td>\n      <td>106251336</td>\n      <td>424</td>\n      <td>0</td>\n      <td>1</td>\n      <td>10</td>\n      <td>272824</td>\n      <td>0</td>\n      <td>0</td>\n      <td>0</td>\n      <td>0</td>\n    </tr>\n    <tr>\n      <th>20216</th>\n      <td>15025</td>\n      <td>S1F0T2LA</td>\n      <td>14849096</td>\n      <td>424</td>\n      <td>0</td>\n      <td>1</td>\n      <td>10</td>\n      <td>272824</td>\n      <td>0</td>\n      <td>0</td>\n      <td>0</td>\n      <td>0</td>\n    </tr>\n    <tr>\n      <th>20928</th>\n      <td>15026</td>\n      <td>S1F0T2LA</td>\n      <td>131553208</td>\n      <td>424</td>\n      <td>0</td>\n      <td>1</td>\n      <td>10</td>\n      <td>272824</td>\n      <td>0</td>\n      <td>0</td>\n      <td>0</td>\n      <td>0</td>\n    </tr>\n    <tr>\n      <th>21639</th>\n      <td>15027</td>\n      <td>S1F0T2LA</td>\n      <td>189166528</td>\n      <td>424</td>\n      <td>0</td>\n      <td>1</td>\n      <td>10</td>\n      <td>272827</td>\n      <td>0</td>\n      <td>0</td>\n      <td>0</td>\n      <td>0</td>\n    </tr>\n    <tr>\n      <th>22351</th>\n      <td>15028</td>\n      <td>S1F0T2LA</td>\n      <td>42349272</td>\n      <td>424</td>\n      <td>0</td>\n      <td>1</td>\n      <td>10</td>\n      <td>272827</td>\n      <td>0</td>\n      <td>0</td>\n      <td>0</td>\n      <td>0</td>\n    </tr>\n    <tr>\n      <th>23063</th>\n      <td>15029</td>\n      <td>S1F0T2LA</td>\n      <td>180164848</td>\n      <td>424</td>\n      <td>0</td>\n      <td>1</td>\n      <td>10</td>\n      <td>272827</td>\n      <td>0</td>\n      <td>0</td>\n      <td>0</td>\n      <td>0</td>\n    </tr>\n    <tr>\n      <th>23778</th>\n      <td>15030</td>\n      <td>S1F0T2LA</td>\n      <td>167757128</td>\n      <td>424</td>\n      <td>0</td>\n      <td>1</td>\n      <td>10</td>\n      <td>272827</td>\n      <td>0</td>\n      <td>0</td>\n      <td>0</td>\n      <td>0</td>\n    </tr>\n    <tr>\n      <th>...</th>\n      <td>...</td>\n      <td>...</td>\n      <td>...</td>\n      <td>...</td>\n      <td>...</td>\n      <td>...</td>\n      <td>...</td>\n      <td>...</td>\n      <td>...</td>\n      <td>...</td>\n      <td>...</td>\n      <td>...</td>\n    </tr>\n    <tr>\n      <th>95820</th>\n      <td>15175</td>\n      <td>S1F0T2LA</td>\n      <td>189573584</td>\n      <td>440</td>\n      <td>0</td>\n      <td>1</td>\n      <td>10</td>\n      <td>279146</td>\n      <td>0</td>\n      <td>0</td>\n      <td>0</td>\n      <td>0</td>\n    </tr>\n    <tr>\n      <th>96168</th>\n      <td>15176</td>\n      <td>S1F0T2LA</td>\n      <td>110962168</td>\n      <td>440</td>\n      <td>0</td>\n      <td>1</td>\n      <td>10</td>\n      <td>279152</td>\n      <td>0</td>\n      <td>0</td>\n      <td>0</td>\n      <td>0</td>\n    </tr>\n    <tr>\n      <th>96516</th>\n      <td>15177</td>\n      <td>S1F0T2LA</td>\n      <td>84720520</td>\n      <td>440</td>\n      <td>0</td>\n      <td>1</td>\n      <td>10</td>\n      <td>279152</td>\n      <td>0</td>\n      <td>0</td>\n      <td>0</td>\n      <td>0</td>\n    </tr>\n    <tr>\n      <th>96864</th>\n      <td>15178</td>\n      <td>S1F0T2LA</td>\n      <td>53049744</td>\n      <td>440</td>\n      <td>0</td>\n      <td>1</td>\n      <td>10</td>\n      <td>279152</td>\n      <td>0</td>\n      <td>0</td>\n      <td>0</td>\n      <td>0</td>\n    </tr>\n    <tr>\n      <th>97211</th>\n      <td>15179</td>\n      <td>S1F0T2LA</td>\n      <td>23243336</td>\n      <td>440</td>\n      <td>0</td>\n      <td>1</td>\n      <td>10</td>\n      <td>279152</td>\n      <td>0</td>\n      <td>0</td>\n      <td>0</td>\n      <td>0</td>\n    </tr>\n    <tr>\n      <th>97558</th>\n      <td>15180</td>\n      <td>S1F0T2LA</td>\n      <td>229727472</td>\n      <td>440</td>\n      <td>0</td>\n      <td>1</td>\n      <td>10</td>\n      <td>279152</td>\n      <td>0</td>\n      <td>0</td>\n      <td>0</td>\n      <td>0</td>\n    </tr>\n    <tr>\n      <th>97905</th>\n      <td>15181</td>\n      <td>S1F0T2LA</td>\n      <td>242101920</td>\n      <td>440</td>\n      <td>0</td>\n      <td>1</td>\n      <td>10</td>\n      <td>279156</td>\n      <td>0</td>\n      <td>0</td>\n      <td>0</td>\n      <td>0</td>\n    </tr>\n    <tr>\n      <th>98252</th>\n      <td>15182</td>\n      <td>S1F0T2LA</td>\n      <td>215581392</td>\n      <td>440</td>\n      <td>0</td>\n      <td>1</td>\n      <td>10</td>\n      <td>279156</td>\n      <td>0</td>\n      <td>0</td>\n      <td>0</td>\n      <td>0</td>\n    </tr>\n    <tr>\n      <th>98598</th>\n      <td>15183</td>\n      <td>S1F0T2LA</td>\n      <td>183038976</td>\n      <td>440</td>\n      <td>0</td>\n      <td>1</td>\n      <td>10</td>\n      <td>279156</td>\n      <td>0</td>\n      <td>0</td>\n      <td>0</td>\n      <td>0</td>\n    </tr>\n    <tr>\n      <th>98944</th>\n      <td>15184</td>\n      <td>S1F0T2LA</td>\n      <td>122562496</td>\n      <td>440</td>\n      <td>0</td>\n      <td>1</td>\n      <td>10</td>\n      <td>279156</td>\n      <td>0</td>\n      <td>0</td>\n      <td>0</td>\n      <td>0</td>\n    </tr>\n    <tr>\n      <th>99290</th>\n      <td>15185</td>\n      <td>S1F0T2LA</td>\n      <td>142296672</td>\n      <td>440</td>\n      <td>0</td>\n      <td>1</td>\n      <td>10</td>\n      <td>279156</td>\n      <td>0</td>\n      <td>0</td>\n      <td>0</td>\n      <td>0</td>\n    </tr>\n    <tr>\n      <th>99636</th>\n      <td>15186</td>\n      <td>S1F0T2LA</td>\n      <td>105937184</td>\n      <td>440</td>\n      <td>0</td>\n      <td>1</td>\n      <td>10</td>\n      <td>279156</td>\n      <td>0</td>\n      <td>0</td>\n      <td>0</td>\n      <td>0</td>\n    </tr>\n    <tr>\n      <th>99982</th>\n      <td>15187</td>\n      <td>S1F0T2LA</td>\n      <td>67652992</td>\n      <td>440</td>\n      <td>0</td>\n      <td>1</td>\n      <td>10</td>\n      <td>279156</td>\n      <td>0</td>\n      <td>0</td>\n      <td>0</td>\n      <td>0</td>\n    </tr>\n    <tr>\n      <th>100328</th>\n      <td>15188</td>\n      <td>S1F0T2LA</td>\n      <td>1063752</td>\n      <td>440</td>\n      <td>0</td>\n      <td>1</td>\n      <td>10</td>\n      <td>279156</td>\n      <td>0</td>\n      <td>0</td>\n      <td>0</td>\n      <td>0</td>\n    </tr>\n    <tr>\n      <th>100674</th>\n      <td>15189</td>\n      <td>S1F0T2LA</td>\n      <td>36276520</td>\n      <td>440</td>\n      <td>0</td>\n      <td>1</td>\n      <td>10</td>\n      <td>279156</td>\n      <td>0</td>\n      <td>0</td>\n      <td>0</td>\n      <td>0</td>\n    </tr>\n    <tr>\n      <th>101020</th>\n      <td>15190</td>\n      <td>S1F0T2LA</td>\n      <td>172748936</td>\n      <td>440</td>\n      <td>0</td>\n      <td>1</td>\n      <td>10</td>\n      <td>279177</td>\n      <td>0</td>\n      <td>0</td>\n      <td>0</td>\n      <td>0</td>\n    </tr>\n    <tr>\n      <th>101364</th>\n      <td>15191</td>\n      <td>S1F0T2LA</td>\n      <td>240710688</td>\n      <td>440</td>\n      <td>0</td>\n      <td>1</td>\n      <td>10</td>\n      <td>280059</td>\n      <td>0</td>\n      <td>0</td>\n      <td>0</td>\n      <td>0</td>\n    </tr>\n    <tr>\n      <th>101707</th>\n      <td>15192</td>\n      <td>S1F0T2LA</td>\n      <td>13017992</td>\n      <td>440</td>\n      <td>0</td>\n      <td>1</td>\n      <td>10</td>\n      <td>281401</td>\n      <td>0</td>\n      <td>0</td>\n      <td>0</td>\n      <td>0</td>\n    </tr>\n    <tr>\n      <th>102050</th>\n      <td>15193</td>\n      <td>S1F0T2LA</td>\n      <td>30642384</td>\n      <td>440</td>\n      <td>0</td>\n      <td>1</td>\n      <td>10</td>\n      <td>282707</td>\n      <td>0</td>\n      <td>0</td>\n      <td>0</td>\n      <td>0</td>\n    </tr>\n    <tr>\n      <th>102391</th>\n      <td>15194</td>\n      <td>S1F0T2LA</td>\n      <td>51545944</td>\n      <td>440</td>\n      <td>0</td>\n      <td>1</td>\n      <td>10</td>\n      <td>284012</td>\n      <td>0</td>\n      <td>0</td>\n      <td>0</td>\n      <td>0</td>\n    </tr>\n    <tr>\n      <th>102732</th>\n      <td>15195</td>\n      <td>S1F0T2LA</td>\n      <td>74360912</td>\n      <td>440</td>\n      <td>0</td>\n      <td>1</td>\n      <td>10</td>\n      <td>285324</td>\n      <td>0</td>\n      <td>0</td>\n      <td>0</td>\n      <td>0</td>\n    </tr>\n    <tr>\n      <th>103071</th>\n      <td>15196</td>\n      <td>S1F0T2LA</td>\n      <td>89891184</td>\n      <td>440</td>\n      <td>0</td>\n      <td>1</td>\n      <td>10</td>\n      <td>286671</td>\n      <td>0</td>\n      <td>0</td>\n      <td>0</td>\n      <td>0</td>\n    </tr>\n    <tr>\n      <th>103410</th>\n      <td>15197</td>\n      <td>S1F0T2LA</td>\n      <td>105944808</td>\n      <td>440</td>\n      <td>0</td>\n      <td>1</td>\n      <td>10</td>\n      <td>288059</td>\n      <td>0</td>\n      <td>0</td>\n      <td>0</td>\n      <td>0</td>\n    </tr>\n    <tr>\n      <th>103749</th>\n      <td>15198</td>\n      <td>S1F0T2LA</td>\n      <td>127286712</td>\n      <td>440</td>\n      <td>0</td>\n      <td>1</td>\n      <td>10</td>\n      <td>289415</td>\n      <td>0</td>\n      <td>0</td>\n      <td>0</td>\n      <td>0</td>\n    </tr>\n    <tr>\n      <th>104088</th>\n      <td>15199</td>\n      <td>S1F0T2LA</td>\n      <td>130718256</td>\n      <td>440</td>\n      <td>0</td>\n      <td>1</td>\n      <td>10</td>\n      <td>290012</td>\n      <td>0</td>\n      <td>0</td>\n      <td>0</td>\n      <td>0</td>\n    </tr>\n    <tr>\n      <th>104426</th>\n      <td>15200</td>\n      <td>S1F0T2LA</td>\n      <td>198672744</td>\n      <td>440</td>\n      <td>0</td>\n      <td>1</td>\n      <td>10</td>\n      <td>290026</td>\n      <td>0</td>\n      <td>0</td>\n      <td>0</td>\n      <td>0</td>\n    </tr>\n    <tr>\n      <th>104764</th>\n      <td>15201</td>\n      <td>S1F0T2LA</td>\n      <td>212477824</td>\n      <td>440</td>\n      <td>0</td>\n      <td>1</td>\n      <td>10</td>\n      <td>290026</td>\n      <td>0</td>\n      <td>0</td>\n      <td>0</td>\n      <td>0</td>\n    </tr>\n    <tr>\n      <th>105101</th>\n      <td>15202</td>\n      <td>S1F0T2LA</td>\n      <td>203893736</td>\n      <td>440</td>\n      <td>0</td>\n      <td>1</td>\n      <td>10</td>\n      <td>290026</td>\n      <td>0</td>\n      <td>0</td>\n      <td>0</td>\n      <td>0</td>\n    </tr>\n    <tr>\n      <th>105437</th>\n      <td>15203</td>\n      <td>S1F0T2LA</td>\n      <td>23153016</td>\n      <td>440</td>\n      <td>0</td>\n      <td>1</td>\n      <td>10</td>\n      <td>290027</td>\n      <td>0</td>\n      <td>0</td>\n      <td>0</td>\n      <td>0</td>\n    </tr>\n    <tr>\n      <th>105773</th>\n      <td>15204</td>\n      <td>S1F0T2LA</td>\n      <td>146996384</td>\n      <td>440</td>\n      <td>0</td>\n      <td>1</td>\n      <td>10</td>\n      <td>290027</td>\n      <td>0</td>\n      <td>0</td>\n      <td>0</td>\n      <td>1</td>\n    </tr>\n  </tbody>\n</table>\n<p>204 rows × 12 columns</p>\n</div>"
     },
     "metadata": {},
     "output_type": "execute_result",
     "execution_count": 97
    }
   ]
  },
  {
   "cell_type": "markdown",
   "source": [
    "Telemetry data ends when device fails and some attributes seem to be constant for each device.  \n"
   ],
   "metadata": {
    "collapsed": false
   }
  },
  {
   "cell_type": "code",
   "execution_count": 101,
   "outputs": [
    {
     "data": {
      "text/plain": "device\nS1F01085     6.000000\nS1F013BB     5.000000\nS1F0166B     6.000000\nS1F01E6Y    12.000000\nS1F01JE0     6.000000\n              ...    \nZ1F1VMZB     5.000000\nZ1F1VQFY     6.328000\nZ1F26YZB     1.000000\nZ1F282ZV     1.000000\nZ1F2PBHX     4.927711\nName: attribute5, Length: 1168, dtype: float64"
     },
     "metadata": {},
     "output_type": "execute_result",
     "execution_count": 101
    }
   ],
   "source": [
    "df.groupby('device')['attribute5'].mean()"
   ],
   "metadata": {
    "collapsed": false,
    "pycharm": {
     "name": "#%%\n",
     "is_executing": false
    }
   }
  },
  {
   "cell_type": "code",
   "execution_count": 111,
   "outputs": [
    {
     "data": {
      "text/plain": "        date    device  attribute1  attribute2  attribute3  attribute4  \\\n1162   15001  Z1F2PBHX   129475464           0           0           0   \n2325   15002  Z1F2PBHX   148229136           0           0           0   \n3488   15003  Z1F2PBHX   188059992           0           0           0   \n4650   15004  Z1F2PBHX   167365376           0           0           0   \n5811   15005  Z1F2PBHX   205455544           0           0           0   \n...      ...       ...         ...         ...         ...         ...   \n65334  15092  Z1F2PBHX   180917784           0           0           0   \n65819  15093  Z1F2PBHX    33952520           0           0           0   \n66304  15094  Z1F2PBHX    59053184           0           0           0   \n66789  15095  Z1F2PBHX   110545440           0           0           0   \n67274  15096  Z1F2PBHX   130522432           0           0           0   \n\n       attribute5  attribute6  attribute7  attribute8  attribute9  failure  \n1162            4      148008           0           0           0        0  \n2325            4      148008           0           0           0        0  \n3488            4      148008           0           0           0        0  \n4650            4      148745           0           0           0        0  \n5811            4      149672           0           0           0        0  \n...           ...         ...         ...         ...         ...      ...  \n65334           5      162645           0           0           0        0  \n65819           5      162645           0           0           0        0  \n66304           5      162645           0           0           0        0  \n66789           5      163047           0           0           0        0  \n67274           5      164020           0           0           0        0  \n\n[83 rows x 12 columns]",
      "text/html": "<div>\n<style scoped>\n    .dataframe tbody tr th:only-of-type {\n        vertical-align: middle;\n    }\n\n    .dataframe tbody tr th {\n        vertical-align: top;\n    }\n\n    .dataframe thead th {\n        text-align: right;\n    }\n</style>\n<table border=\"1\" class=\"dataframe\">\n  <thead>\n    <tr style=\"text-align: right;\">\n      <th></th>\n      <th>date</th>\n      <th>device</th>\n      <th>attribute1</th>\n      <th>attribute2</th>\n      <th>attribute3</th>\n      <th>attribute4</th>\n      <th>attribute5</th>\n      <th>attribute6</th>\n      <th>attribute7</th>\n      <th>attribute8</th>\n      <th>attribute9</th>\n      <th>failure</th>\n    </tr>\n  </thead>\n  <tbody>\n    <tr>\n      <th>1162</th>\n      <td>15001</td>\n      <td>Z1F2PBHX</td>\n      <td>129475464</td>\n      <td>0</td>\n      <td>0</td>\n      <td>0</td>\n      <td>4</td>\n      <td>148008</td>\n      <td>0</td>\n      <td>0</td>\n      <td>0</td>\n      <td>0</td>\n    </tr>\n    <tr>\n      <th>2325</th>\n      <td>15002</td>\n      <td>Z1F2PBHX</td>\n      <td>148229136</td>\n      <td>0</td>\n      <td>0</td>\n      <td>0</td>\n      <td>4</td>\n      <td>148008</td>\n      <td>0</td>\n      <td>0</td>\n      <td>0</td>\n      <td>0</td>\n    </tr>\n    <tr>\n      <th>3488</th>\n      <td>15003</td>\n      <td>Z1F2PBHX</td>\n      <td>188059992</td>\n      <td>0</td>\n      <td>0</td>\n      <td>0</td>\n      <td>4</td>\n      <td>148008</td>\n      <td>0</td>\n      <td>0</td>\n      <td>0</td>\n      <td>0</td>\n    </tr>\n    <tr>\n      <th>4650</th>\n      <td>15004</td>\n      <td>Z1F2PBHX</td>\n      <td>167365376</td>\n      <td>0</td>\n      <td>0</td>\n      <td>0</td>\n      <td>4</td>\n      <td>148745</td>\n      <td>0</td>\n      <td>0</td>\n      <td>0</td>\n      <td>0</td>\n    </tr>\n    <tr>\n      <th>5811</th>\n      <td>15005</td>\n      <td>Z1F2PBHX</td>\n      <td>205455544</td>\n      <td>0</td>\n      <td>0</td>\n      <td>0</td>\n      <td>4</td>\n      <td>149672</td>\n      <td>0</td>\n      <td>0</td>\n      <td>0</td>\n      <td>0</td>\n    </tr>\n    <tr>\n      <th>6865</th>\n      <td>15006</td>\n      <td>Z1F2PBHX</td>\n      <td>243630240</td>\n      <td>0</td>\n      <td>0</td>\n      <td>0</td>\n      <td>4</td>\n      <td>150588</td>\n      <td>0</td>\n      <td>0</td>\n      <td>0</td>\n      <td>0</td>\n    </tr>\n    <tr>\n      <th>17196</th>\n      <td>15020</td>\n      <td>Z1F2PBHX</td>\n      <td>171318632</td>\n      <td>0</td>\n      <td>0</td>\n      <td>0</td>\n      <td>5</td>\n      <td>157075</td>\n      <td>0</td>\n      <td>0</td>\n      <td>0</td>\n      <td>0</td>\n    </tr>\n    <tr>\n      <th>17908</th>\n      <td>15021</td>\n      <td>Z1F2PBHX</td>\n      <td>178270360</td>\n      <td>0</td>\n      <td>0</td>\n      <td>0</td>\n      <td>5</td>\n      <td>157122</td>\n      <td>0</td>\n      <td>0</td>\n      <td>0</td>\n      <td>0</td>\n    </tr>\n    <tr>\n      <th>18620</th>\n      <td>15022</td>\n      <td>Z1F2PBHX</td>\n      <td>133112960</td>\n      <td>0</td>\n      <td>0</td>\n      <td>0</td>\n      <td>5</td>\n      <td>157403</td>\n      <td>0</td>\n      <td>0</td>\n      <td>0</td>\n      <td>0</td>\n    </tr>\n    <tr>\n      <th>19332</th>\n      <td>15023</td>\n      <td>Z1F2PBHX</td>\n      <td>234895416</td>\n      <td>0</td>\n      <td>0</td>\n      <td>0</td>\n      <td>5</td>\n      <td>157404</td>\n      <td>0</td>\n      <td>0</td>\n      <td>0</td>\n      <td>0</td>\n    </tr>\n    <tr>\n      <th>20044</th>\n      <td>15024</td>\n      <td>Z1F2PBHX</td>\n      <td>46939320</td>\n      <td>0</td>\n      <td>0</td>\n      <td>0</td>\n      <td>5</td>\n      <td>157404</td>\n      <td>0</td>\n      <td>0</td>\n      <td>0</td>\n      <td>0</td>\n    </tr>\n    <tr>\n      <th>20756</th>\n      <td>15025</td>\n      <td>Z1F2PBHX</td>\n      <td>44864224</td>\n      <td>0</td>\n      <td>0</td>\n      <td>0</td>\n      <td>5</td>\n      <td>157405</td>\n      <td>0</td>\n      <td>0</td>\n      <td>0</td>\n      <td>0</td>\n    </tr>\n    <tr>\n      <th>21468</th>\n      <td>15026</td>\n      <td>Z1F2PBHX</td>\n      <td>191817864</td>\n      <td>0</td>\n      <td>0</td>\n      <td>0</td>\n      <td>5</td>\n      <td>157405</td>\n      <td>0</td>\n      <td>0</td>\n      <td>0</td>\n      <td>0</td>\n    </tr>\n    <tr>\n      <th>22180</th>\n      <td>15027</td>\n      <td>Z1F2PBHX</td>\n      <td>17191888</td>\n      <td>0</td>\n      <td>0</td>\n      <td>0</td>\n      <td>5</td>\n      <td>157410</td>\n      <td>0</td>\n      <td>0</td>\n      <td>0</td>\n      <td>0</td>\n    </tr>\n    <tr>\n      <th>22892</th>\n      <td>15028</td>\n      <td>Z1F2PBHX</td>\n      <td>243935864</td>\n      <td>0</td>\n      <td>0</td>\n      <td>0</td>\n      <td>5</td>\n      <td>157410</td>\n      <td>0</td>\n      <td>0</td>\n      <td>0</td>\n      <td>0</td>\n    </tr>\n    <tr>\n      <th>23607</th>\n      <td>15029</td>\n      <td>Z1F2PBHX</td>\n      <td>176857592</td>\n      <td>0</td>\n      <td>0</td>\n      <td>0</td>\n      <td>5</td>\n      <td>157410</td>\n      <td>0</td>\n      <td>0</td>\n      <td>0</td>\n      <td>0</td>\n    </tr>\n    <tr>\n      <th>24319</th>\n      <td>15030</td>\n      <td>Z1F2PBHX</td>\n      <td>242857056</td>\n      <td>0</td>\n      <td>0</td>\n      <td>0</td>\n      <td>5</td>\n      <td>157410</td>\n      <td>0</td>\n      <td>0</td>\n      <td>0</td>\n      <td>0</td>\n    </tr>\n    <tr>\n      <th>25031</th>\n      <td>15031</td>\n      <td>Z1F2PBHX</td>\n      <td>157304384</td>\n      <td>0</td>\n      <td>0</td>\n      <td>0</td>\n      <td>5</td>\n      <td>157414</td>\n      <td>0</td>\n      <td>0</td>\n      <td>0</td>\n      <td>0</td>\n    </tr>\n    <tr>\n      <th>25743</th>\n      <td>15032</td>\n      <td>Z1F2PBHX</td>\n      <td>53847624</td>\n      <td>0</td>\n      <td>0</td>\n      <td>0</td>\n      <td>5</td>\n      <td>157414</td>\n      <td>0</td>\n      <td>0</td>\n      <td>0</td>\n      <td>0</td>\n    </tr>\n    <tr>\n      <th>26455</th>\n      <td>15033</td>\n      <td>Z1F2PBHX</td>\n      <td>197796832</td>\n      <td>0</td>\n      <td>0</td>\n      <td>0</td>\n      <td>5</td>\n      <td>157414</td>\n      <td>0</td>\n      <td>0</td>\n      <td>0</td>\n      <td>0</td>\n    </tr>\n    <tr>\n      <th>27167</th>\n      <td>15034</td>\n      <td>Z1F2PBHX</td>\n      <td>147243080</td>\n      <td>0</td>\n      <td>0</td>\n      <td>0</td>\n      <td>5</td>\n      <td>157414</td>\n      <td>0</td>\n      <td>0</td>\n      <td>0</td>\n      <td>0</td>\n    </tr>\n    <tr>\n      <th>27879</th>\n      <td>15035</td>\n      <td>Z1F2PBHX</td>\n      <td>238956280</td>\n      <td>0</td>\n      <td>0</td>\n      <td>0</td>\n      <td>5</td>\n      <td>157415</td>\n      <td>0</td>\n      <td>0</td>\n      <td>0</td>\n      <td>0</td>\n    </tr>\n    <tr>\n      <th>28591</th>\n      <td>15036</td>\n      <td>Z1F2PBHX</td>\n      <td>103204112</td>\n      <td>0</td>\n      <td>0</td>\n      <td>0</td>\n      <td>5</td>\n      <td>157415</td>\n      <td>0</td>\n      <td>0</td>\n      <td>0</td>\n      <td>0</td>\n    </tr>\n    <tr>\n      <th>29302</th>\n      <td>15037</td>\n      <td>Z1F2PBHX</td>\n      <td>242794712</td>\n      <td>0</td>\n      <td>0</td>\n      <td>0</td>\n      <td>5</td>\n      <td>157415</td>\n      <td>0</td>\n      <td>0</td>\n      <td>0</td>\n      <td>0</td>\n    </tr>\n    <tr>\n      <th>30014</th>\n      <td>15038</td>\n      <td>Z1F2PBHX</td>\n      <td>171746664</td>\n      <td>0</td>\n      <td>0</td>\n      <td>0</td>\n      <td>5</td>\n      <td>157415</td>\n      <td>0</td>\n      <td>0</td>\n      <td>0</td>\n      <td>0</td>\n    </tr>\n    <tr>\n      <th>30726</th>\n      <td>15039</td>\n      <td>Z1F2PBHX</td>\n      <td>233634680</td>\n      <td>0</td>\n      <td>0</td>\n      <td>0</td>\n      <td>5</td>\n      <td>157415</td>\n      <td>0</td>\n      <td>0</td>\n      <td>0</td>\n      <td>0</td>\n    </tr>\n    <tr>\n      <th>31438</th>\n      <td>15040</td>\n      <td>Z1F2PBHX</td>\n      <td>56836144</td>\n      <td>0</td>\n      <td>0</td>\n      <td>0</td>\n      <td>5</td>\n      <td>157415</td>\n      <td>0</td>\n      <td>0</td>\n      <td>0</td>\n      <td>0</td>\n    </tr>\n    <tr>\n      <th>32150</th>\n      <td>15041</td>\n      <td>Z1F2PBHX</td>\n      <td>15240104</td>\n      <td>0</td>\n      <td>0</td>\n      <td>0</td>\n      <td>5</td>\n      <td>157415</td>\n      <td>0</td>\n      <td>0</td>\n      <td>0</td>\n      <td>0</td>\n    </tr>\n    <tr>\n      <th>32862</th>\n      <td>15042</td>\n      <td>Z1F2PBHX</td>\n      <td>100943576</td>\n      <td>0</td>\n      <td>0</td>\n      <td>0</td>\n      <td>5</td>\n      <td>157415</td>\n      <td>0</td>\n      <td>0</td>\n      <td>0</td>\n      <td>0</td>\n    </tr>\n    <tr>\n      <th>33574</th>\n      <td>15043</td>\n      <td>Z1F2PBHX</td>\n      <td>203196384</td>\n      <td>0</td>\n      <td>0</td>\n      <td>0</td>\n      <td>5</td>\n      <td>157424</td>\n      <td>0</td>\n      <td>0</td>\n      <td>0</td>\n      <td>0</td>\n    </tr>\n    <tr>\n      <th>...</th>\n      <td>...</td>\n      <td>...</td>\n      <td>...</td>\n      <td>...</td>\n      <td>...</td>\n      <td>...</td>\n      <td>...</td>\n      <td>...</td>\n      <td>...</td>\n      <td>...</td>\n      <td>...</td>\n      <td>...</td>\n    </tr>\n    <tr>\n      <th>49918</th>\n      <td>15067</td>\n      <td>Z1F2PBHX</td>\n      <td>10726944</td>\n      <td>0</td>\n      <td>0</td>\n      <td>0</td>\n      <td>5</td>\n      <td>161014</td>\n      <td>0</td>\n      <td>0</td>\n      <td>0</td>\n      <td>0</td>\n    </tr>\n    <tr>\n      <th>50593</th>\n      <td>15068</td>\n      <td>Z1F2PBHX</td>\n      <td>131770176</td>\n      <td>0</td>\n      <td>0</td>\n      <td>0</td>\n      <td>5</td>\n      <td>161014</td>\n      <td>0</td>\n      <td>0</td>\n      <td>0</td>\n      <td>0</td>\n    </tr>\n    <tr>\n      <th>51268</th>\n      <td>15069</td>\n      <td>Z1F2PBHX</td>\n      <td>171967048</td>\n      <td>0</td>\n      <td>0</td>\n      <td>0</td>\n      <td>5</td>\n      <td>161014</td>\n      <td>0</td>\n      <td>0</td>\n      <td>0</td>\n      <td>0</td>\n    </tr>\n    <tr>\n      <th>51943</th>\n      <td>15070</td>\n      <td>Z1F2PBHX</td>\n      <td>50251840</td>\n      <td>0</td>\n      <td>0</td>\n      <td>0</td>\n      <td>5</td>\n      <td>161014</td>\n      <td>0</td>\n      <td>0</td>\n      <td>0</td>\n      <td>0</td>\n    </tr>\n    <tr>\n      <th>52619</th>\n      <td>15071</td>\n      <td>Z1F2PBHX</td>\n      <td>151288552</td>\n      <td>0</td>\n      <td>0</td>\n      <td>0</td>\n      <td>5</td>\n      <td>161014</td>\n      <td>0</td>\n      <td>0</td>\n      <td>0</td>\n      <td>0</td>\n    </tr>\n    <tr>\n      <th>53296</th>\n      <td>15072</td>\n      <td>Z1F2PBHX</td>\n      <td>220490152</td>\n      <td>0</td>\n      <td>0</td>\n      <td>0</td>\n      <td>5</td>\n      <td>161014</td>\n      <td>0</td>\n      <td>0</td>\n      <td>0</td>\n      <td>0</td>\n    </tr>\n    <tr>\n      <th>53973</th>\n      <td>15073</td>\n      <td>Z1F2PBHX</td>\n      <td>155344992</td>\n      <td>0</td>\n      <td>0</td>\n      <td>0</td>\n      <td>5</td>\n      <td>161014</td>\n      <td>0</td>\n      <td>0</td>\n      <td>0</td>\n      <td>0</td>\n    </tr>\n    <tr>\n      <th>54650</th>\n      <td>15074</td>\n      <td>Z1F2PBHX</td>\n      <td>198385440</td>\n      <td>0</td>\n      <td>0</td>\n      <td>0</td>\n      <td>5</td>\n      <td>161014</td>\n      <td>0</td>\n      <td>0</td>\n      <td>0</td>\n      <td>0</td>\n    </tr>\n    <tr>\n      <th>55327</th>\n      <td>15075</td>\n      <td>Z1F2PBHX</td>\n      <td>72888608</td>\n      <td>0</td>\n      <td>0</td>\n      <td>0</td>\n      <td>5</td>\n      <td>161014</td>\n      <td>0</td>\n      <td>0</td>\n      <td>0</td>\n      <td>0</td>\n    </tr>\n    <tr>\n      <th>56004</th>\n      <td>15076</td>\n      <td>Z1F2PBHX</td>\n      <td>193808408</td>\n      <td>0</td>\n      <td>0</td>\n      <td>0</td>\n      <td>5</td>\n      <td>161014</td>\n      <td>0</td>\n      <td>0</td>\n      <td>0</td>\n      <td>0</td>\n    </tr>\n    <tr>\n      <th>56681</th>\n      <td>15077</td>\n      <td>Z1F2PBHX</td>\n      <td>107089456</td>\n      <td>0</td>\n      <td>0</td>\n      <td>0</td>\n      <td>5</td>\n      <td>161014</td>\n      <td>0</td>\n      <td>0</td>\n      <td>0</td>\n      <td>0</td>\n    </tr>\n    <tr>\n      <th>57354</th>\n      <td>15078</td>\n      <td>Z1F2PBHX</td>\n      <td>193182840</td>\n      <td>0</td>\n      <td>0</td>\n      <td>0</td>\n      <td>5</td>\n      <td>161015</td>\n      <td>0</td>\n      <td>0</td>\n      <td>0</td>\n      <td>0</td>\n    </tr>\n    <tr>\n      <th>58026</th>\n      <td>15079</td>\n      <td>Z1F2PBHX</td>\n      <td>4344360</td>\n      <td>0</td>\n      <td>0</td>\n      <td>0</td>\n      <td>5</td>\n      <td>161016</td>\n      <td>0</td>\n      <td>0</td>\n      <td>0</td>\n      <td>0</td>\n    </tr>\n    <tr>\n      <th>58698</th>\n      <td>15080</td>\n      <td>Z1F2PBHX</td>\n      <td>144452824</td>\n      <td>0</td>\n      <td>0</td>\n      <td>0</td>\n      <td>5</td>\n      <td>161016</td>\n      <td>0</td>\n      <td>0</td>\n      <td>0</td>\n      <td>0</td>\n    </tr>\n    <tr>\n      <th>59370</th>\n      <td>15081</td>\n      <td>Z1F2PBHX</td>\n      <td>225120216</td>\n      <td>0</td>\n      <td>0</td>\n      <td>0</td>\n      <td>5</td>\n      <td>161016</td>\n      <td>0</td>\n      <td>0</td>\n      <td>0</td>\n      <td>0</td>\n    </tr>\n    <tr>\n      <th>60042</th>\n      <td>15082</td>\n      <td>Z1F2PBHX</td>\n      <td>86895024</td>\n      <td>0</td>\n      <td>0</td>\n      <td>0</td>\n      <td>5</td>\n      <td>161016</td>\n      <td>0</td>\n      <td>0</td>\n      <td>0</td>\n      <td>0</td>\n    </tr>\n    <tr>\n      <th>60676</th>\n      <td>15083</td>\n      <td>Z1F2PBHX</td>\n      <td>103658176</td>\n      <td>0</td>\n      <td>0</td>\n      <td>0</td>\n      <td>5</td>\n      <td>161016</td>\n      <td>0</td>\n      <td>0</td>\n      <td>0</td>\n      <td>0</td>\n    </tr>\n    <tr>\n      <th>61310</th>\n      <td>15084</td>\n      <td>Z1F2PBHX</td>\n      <td>146967104</td>\n      <td>0</td>\n      <td>0</td>\n      <td>0</td>\n      <td>5</td>\n      <td>161021</td>\n      <td>0</td>\n      <td>0</td>\n      <td>0</td>\n      <td>0</td>\n    </tr>\n    <tr>\n      <th>61866</th>\n      <td>15085</td>\n      <td>Z1F2PBHX</td>\n      <td>8742640</td>\n      <td>0</td>\n      <td>0</td>\n      <td>0</td>\n      <td>5</td>\n      <td>161182</td>\n      <td>0</td>\n      <td>0</td>\n      <td>0</td>\n      <td>0</td>\n    </tr>\n    <tr>\n      <th>62424</th>\n      <td>15086</td>\n      <td>Z1F2PBHX</td>\n      <td>26557576</td>\n      <td>0</td>\n      <td>0</td>\n      <td>0</td>\n      <td>5</td>\n      <td>162151</td>\n      <td>0</td>\n      <td>0</td>\n      <td>0</td>\n      <td>0</td>\n    </tr>\n    <tr>\n      <th>62909</th>\n      <td>15087</td>\n      <td>Z1F2PBHX</td>\n      <td>188825472</td>\n      <td>0</td>\n      <td>0</td>\n      <td>0</td>\n      <td>5</td>\n      <td>162645</td>\n      <td>0</td>\n      <td>0</td>\n      <td>0</td>\n      <td>0</td>\n    </tr>\n    <tr>\n      <th>63394</th>\n      <td>15088</td>\n      <td>Z1F2PBHX</td>\n      <td>122551216</td>\n      <td>0</td>\n      <td>0</td>\n      <td>0</td>\n      <td>5</td>\n      <td>162645</td>\n      <td>0</td>\n      <td>0</td>\n      <td>0</td>\n      <td>0</td>\n    </tr>\n    <tr>\n      <th>63879</th>\n      <td>15089</td>\n      <td>Z1F2PBHX</td>\n      <td>110488384</td>\n      <td>0</td>\n      <td>0</td>\n      <td>0</td>\n      <td>5</td>\n      <td>162645</td>\n      <td>0</td>\n      <td>0</td>\n      <td>0</td>\n      <td>0</td>\n    </tr>\n    <tr>\n      <th>64364</th>\n      <td>15090</td>\n      <td>Z1F2PBHX</td>\n      <td>121368976</td>\n      <td>0</td>\n      <td>0</td>\n      <td>0</td>\n      <td>5</td>\n      <td>162645</td>\n      <td>0</td>\n      <td>0</td>\n      <td>0</td>\n      <td>0</td>\n    </tr>\n    <tr>\n      <th>64849</th>\n      <td>15091</td>\n      <td>Z1F2PBHX</td>\n      <td>232559640</td>\n      <td>0</td>\n      <td>0</td>\n      <td>0</td>\n      <td>5</td>\n      <td>162645</td>\n      <td>0</td>\n      <td>0</td>\n      <td>0</td>\n      <td>0</td>\n    </tr>\n    <tr>\n      <th>65334</th>\n      <td>15092</td>\n      <td>Z1F2PBHX</td>\n      <td>180917784</td>\n      <td>0</td>\n      <td>0</td>\n      <td>0</td>\n      <td>5</td>\n      <td>162645</td>\n      <td>0</td>\n      <td>0</td>\n      <td>0</td>\n      <td>0</td>\n    </tr>\n    <tr>\n      <th>65819</th>\n      <td>15093</td>\n      <td>Z1F2PBHX</td>\n      <td>33952520</td>\n      <td>0</td>\n      <td>0</td>\n      <td>0</td>\n      <td>5</td>\n      <td>162645</td>\n      <td>0</td>\n      <td>0</td>\n      <td>0</td>\n      <td>0</td>\n    </tr>\n    <tr>\n      <th>66304</th>\n      <td>15094</td>\n      <td>Z1F2PBHX</td>\n      <td>59053184</td>\n      <td>0</td>\n      <td>0</td>\n      <td>0</td>\n      <td>5</td>\n      <td>162645</td>\n      <td>0</td>\n      <td>0</td>\n      <td>0</td>\n      <td>0</td>\n    </tr>\n    <tr>\n      <th>66789</th>\n      <td>15095</td>\n      <td>Z1F2PBHX</td>\n      <td>110545440</td>\n      <td>0</td>\n      <td>0</td>\n      <td>0</td>\n      <td>5</td>\n      <td>163047</td>\n      <td>0</td>\n      <td>0</td>\n      <td>0</td>\n      <td>0</td>\n    </tr>\n    <tr>\n      <th>67274</th>\n      <td>15096</td>\n      <td>Z1F2PBHX</td>\n      <td>130522432</td>\n      <td>0</td>\n      <td>0</td>\n      <td>0</td>\n      <td>5</td>\n      <td>164020</td>\n      <td>0</td>\n      <td>0</td>\n      <td>0</td>\n      <td>0</td>\n    </tr>\n  </tbody>\n</table>\n<p>83 rows × 12 columns</p>\n</div>"
     },
     "metadata": {},
     "output_type": "execute_result",
     "execution_count": 111
    }
   ],
   "source": [
    "df.query('device == \"Z1F2PBHX\"')"
   ],
   "metadata": {
    "collapsed": false,
    "pycharm": {
     "name": "#%%\n",
     "is_executing": false
    }
   }
  },
  {
   "cell_type": "markdown",
   "source": [
    "Mean value of `attribute5` for devices that failed."
   ],
   "metadata": {
    "collapsed": false,
    "pycharm": {
     "name": "#%% md\n"
    }
   }
  },
  {
   "cell_type": "code",
   "execution_count": 121,
   "outputs": [
    {
     "data": {
      "text/plain": "array([ 2.90829694,  4.        ,  5.73076923,  5.85714286,  6.        ,\n        6.328     ,  6.33333333,  6.4       ,  6.53846154,  6.89447236,\n        7.        ,  7.01526718,  7.04964539,  7.5       ,  7.57142857,\n        7.74698795,  7.85714286,  7.89119171,  7.90232558,  7.92446043,\n        8.        ,  8.17283951,  8.72368421,  8.89756098,  8.90869565,\n        9.        ,  9.83464567,  9.87573964, 10.        , 10.28813559,\n       10.45454545, 11.        , 11.19230769, 11.53333333, 11.85810811,\n       12.        , 12.13793103, 12.72368421, 13.        , 13.01666667,\n       13.93814433, 14.        , 14.65263158, 14.66666667, 14.78672986,\n       15.71428571, 16.        , 16.856     , 19.        , 23.        ,\n       24.        , 25.        , 30.        , 30.5       , 33.775     ,\n       35.325     , 35.60869565, 35.72727273, 36.74285714, 40.1025641 ,\n       58.        , 64.        , 65.        , 90.        , 91.        ])"
     },
     "metadata": {},
     "output_type": "execute_result",
     "execution_count": 121
    }
   ],
   "source": [
    "df[df['device'].isin(failed_devices)].groupby('device')['attribute5'].mean().sort_values().unique()"
   ],
   "metadata": {
    "collapsed": false,
    "pycharm": {
     "name": "#%%\n",
     "is_executing": false
    }
   }
  },
  {
   "cell_type": "markdown",
   "source": [
    "Mean value of `attribute5` for devices that didn't fail.  "
   ],
   "metadata": {
    "collapsed": false,
    "pycharm": {
     "name": "#%% md\n"
    }
   }
  },
  {
   "cell_type": "code",
   "execution_count": 120,
   "outputs": [
    {
     "data": {
      "text/plain": "array([ 1.        ,  2.        ,  2.97087379,  3.        ,  3.03289474,\n        3.38135593,  4.        ,  4.38135593,  4.4516129 ,  4.5       ,\n        4.81443299,  4.92771084,  5.        ,  5.22222222,  5.38135593,\n        5.5       ,  5.6       ,  5.7635468 ,  5.92579505,  5.9384058 ,\n        6.        ,  6.03289474,  6.11111111,  6.11458333,  6.218107  ,\n        6.40707965,  6.5       ,  6.8452381 ,  6.90721649,  6.91864407,\n        6.93617021,  6.95510204,  6.97029703,  6.97627119,  7.        ,\n        7.03289474,  7.40707965,  7.41818182,  7.43654822,  7.5       ,\n        7.66666667,  7.69230769,  7.89166667,  7.90721649,  7.91428571,\n        7.92250923,  7.92307692,  7.92579505,  7.97087379,  7.97849462,\n        8.        ,  8.03289474,  8.05357143,  8.05555556,  8.10714286,\n        8.17777778,  8.20205479,  8.31147541,  8.40707965,  8.42718447,\n        8.49411765,  8.5       ,  8.51612903,  8.75342466,  8.85365854,\n        8.9047619 ,  8.92070485,  8.92579505,  8.99056604,  9.        ,\n        9.03289474,  9.05357143,  9.19617225,  9.5       ,  9.58333333,\n        9.64925373,  9.91304348,  9.92250923,  9.925     ,  9.92579505,\n       10.        , 10.01644737, 10.03289474, 10.05357143, 10.11458333,\n       10.14652015, 10.15      , 10.20205479, 10.29801325, 10.5       ,\n       10.71631206, 10.91428571, 10.92579505, 10.97785978, 11.        ,\n       11.03289474, 11.04469274, 11.05357143, 11.15      , 11.20205479,\n       11.40707965, 11.5       , 11.73770492, 11.92579505, 12.        ,\n       12.11458333, 12.15      , 12.20205479, 12.23157895, 12.31578947,\n       12.44117647, 12.46268657, 12.5       , 12.52272727, 12.65991903,\n       12.71270718, 12.9047619 , 13.        , 13.03289474, 13.11458333,\n       13.15      , 13.31578947, 13.50295858, 13.52      , 13.71770335,\n       13.92571429, 13.92579505, 13.95510204, 13.97087379, 14.        ,\n       14.09473684, 14.11458333, 14.43265306, 14.94090909, 14.95510204,\n       14.97222222, 15.        , 15.13215859, 15.54545455, 15.66666667,\n       15.73913043, 15.81437126, 15.90721649, 16.        , 16.43265306,\n       16.56060606, 16.6       , 16.76      , 16.93333333, 17.        ,\n       17.34977578, 17.43265306, 17.5       , 18.        , 18.43265306,\n       19.        , 19.43265306, 20.        , 21.        , 21.43265306,\n       22.        , 22.7       , 23.        , 24.        , 25.        ,\n       30.90721649, 31.72164948, 31.81443299, 31.90721649, 31.97087379,\n       32.72164948, 32.90721649, 32.97087379, 33.90721649, 34.72164948,\n       35.90721649, 36.76734694, 36.90721649, 36.97087379, 37.76734694,\n       37.90721649, 38.90721649, 40.48163265, 57.        , 58.        ,\n       59.        , 60.        , 61.        , 62.        , 63.        ,\n       64.        , 66.        , 67.        , 68.        , 70.        ,\n       78.        , 89.        , 90.        , 92.        , 94.        ,\n       95.        , 98.        ])"
     },
     "metadata": {},
     "output_type": "execute_result",
     "execution_count": 120
    }
   ],
   "source": [
    "df[~df['device'].isin(failed_devices)].groupby('device')['attribute5'].mean().sort_values().unique()"
   ],
   "metadata": {
    "collapsed": false,
    "pycharm": {
     "name": "#%%\n",
     "is_executing": false
    }
   }
  },
  {
   "cell_type": "markdown",
   "source": [
    "`attribute5` is mostly the same for each device and there doesn't seem to be any meaningful difference \n",
    "between failed and not-failed devices."
   ],
   "metadata": {
    "collapsed": false,
    "pycharm": {
     "name": "#%% md\n"
    }
   }
  }
 ],
 "metadata": {
  "kernelspec": {
   "display_name": "Python 3",
   "language": "python",
   "name": "python3"
  },
  "language_info": {
   "codemirror_mode": {
    "name": "ipython",
    "version": 3
   },
   "file_extension": ".py",
   "mimetype": "text/x-python",
   "name": "python",
   "nbconvert_exporter": "python",
   "pygments_lexer": "ipython3",
   "version": "3.7.4"
  },
  "pycharm": {
   "stem_cell": {
    "cell_type": "raw",
    "source": [],
    "metadata": {
     "collapsed": false
    }
   }
  }
 },
 "nbformat": 4,
 "nbformat_minor": 1
}