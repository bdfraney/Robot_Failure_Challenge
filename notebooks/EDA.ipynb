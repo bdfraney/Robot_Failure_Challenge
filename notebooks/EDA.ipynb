{
 "cells": [
  {
   "cell_type": "code",
   "execution_count": 1,
   "metadata": {
    "pycharm": {
     "is_executing": false
    }
   },
   "outputs": [],
   "source": [
    "import pandas as pd\n",
    "import numpy as np\n",
    "import matplotlib.pyplot as plt"
   ]
  },
  {
   "cell_type": "code",
   "execution_count": 2,
   "metadata": {
    "pycharm": {
     "is_executing": false
    }
   },
   "outputs": [
    {
     "data": {
      "text/plain": "    date    device  attribute1  attribute2  attribute3  attribute4  \\\n0  15001  S1F01085   215630672          56           0          52   \n1  15001  S1F0166B    61370680           0           3           0   \n2  15001  S1F01E6Y   173295968           0           0           0   \n3  15001  S1F01JE0    79694024           0           0           0   \n4  15001  S1F01R2B   135970480           0           0           0   \n\n   attribute5  attribute6  attribute7  attribute8  attribute9  failure  \n0           6      407438           0           0           7        0  \n1           6      403174           0           0           0        0  \n2          12      237394           0           0           0        0  \n3           6      410186           0           0           0        0  \n4          15      313173           0           0           3        0  ",
      "text/html": "<div>\n<style scoped>\n    .dataframe tbody tr th:only-of-type {\n        vertical-align: middle;\n    }\n\n    .dataframe tbody tr th {\n        vertical-align: top;\n    }\n\n    .dataframe thead th {\n        text-align: right;\n    }\n</style>\n<table border=\"1\" class=\"dataframe\">\n  <thead>\n    <tr style=\"text-align: right;\">\n      <th></th>\n      <th>date</th>\n      <th>device</th>\n      <th>attribute1</th>\n      <th>attribute2</th>\n      <th>attribute3</th>\n      <th>attribute4</th>\n      <th>attribute5</th>\n      <th>attribute6</th>\n      <th>attribute7</th>\n      <th>attribute8</th>\n      <th>attribute9</th>\n      <th>failure</th>\n    </tr>\n  </thead>\n  <tbody>\n    <tr>\n      <th>0</th>\n      <td>15001</td>\n      <td>S1F01085</td>\n      <td>215630672</td>\n      <td>56</td>\n      <td>0</td>\n      <td>52</td>\n      <td>6</td>\n      <td>407438</td>\n      <td>0</td>\n      <td>0</td>\n      <td>7</td>\n      <td>0</td>\n    </tr>\n    <tr>\n      <th>1</th>\n      <td>15001</td>\n      <td>S1F0166B</td>\n      <td>61370680</td>\n      <td>0</td>\n      <td>3</td>\n      <td>0</td>\n      <td>6</td>\n      <td>403174</td>\n      <td>0</td>\n      <td>0</td>\n      <td>0</td>\n      <td>0</td>\n    </tr>\n    <tr>\n      <th>2</th>\n      <td>15001</td>\n      <td>S1F01E6Y</td>\n      <td>173295968</td>\n      <td>0</td>\n      <td>0</td>\n      <td>0</td>\n      <td>12</td>\n      <td>237394</td>\n      <td>0</td>\n      <td>0</td>\n      <td>0</td>\n      <td>0</td>\n    </tr>\n    <tr>\n      <th>3</th>\n      <td>15001</td>\n      <td>S1F01JE0</td>\n      <td>79694024</td>\n      <td>0</td>\n      <td>0</td>\n      <td>0</td>\n      <td>6</td>\n      <td>410186</td>\n      <td>0</td>\n      <td>0</td>\n      <td>0</td>\n      <td>0</td>\n    </tr>\n    <tr>\n      <th>4</th>\n      <td>15001</td>\n      <td>S1F01R2B</td>\n      <td>135970480</td>\n      <td>0</td>\n      <td>0</td>\n      <td>0</td>\n      <td>15</td>\n      <td>313173</td>\n      <td>0</td>\n      <td>0</td>\n      <td>3</td>\n      <td>0</td>\n    </tr>\n  </tbody>\n</table>\n</div>"
     },
     "metadata": {},
     "output_type": "execute_result",
     "execution_count": 2
    }
   ],
   "source": [
    "df = pd.read_csv(\"../data/device_failure_data_scientist.csv\")\n",
    "df.head()"
   ]
  },
  {
   "cell_type": "code",
   "execution_count": 3,
   "metadata": {
    "pycharm": {
     "is_executing": false
    }
   },
   "outputs": [
    {
     "data": {
      "text/plain": "         date    device  attribute1  attribute2  attribute3  attribute4  \\\n124489  15306  Z1F0MA1S    18310224           0           0           0   \n124490  15306  Z1F0Q8RT   172556680          96         107           4   \n124491  15306  Z1F0QK05    19029120        4832           0           0   \n124492  15306  Z1F0QL3N   226953408           0           0           0   \n124493  15306  Z1F0QLC1    17572840           0           0           0   \n\n        attribute5  attribute6  attribute7  attribute8  attribute9  failure  \n124489          10      353705           8           8           0        0  \n124490          11      332792           0           0          13        0  \n124491          11      350410           0           0           0        0  \n124492          12      358980           0           0           0        0  \n124493          10      351431           0           0           0        0  ",
      "text/html": "<div>\n<style scoped>\n    .dataframe tbody tr th:only-of-type {\n        vertical-align: middle;\n    }\n\n    .dataframe tbody tr th {\n        vertical-align: top;\n    }\n\n    .dataframe thead th {\n        text-align: right;\n    }\n</style>\n<table border=\"1\" class=\"dataframe\">\n  <thead>\n    <tr style=\"text-align: right;\">\n      <th></th>\n      <th>date</th>\n      <th>device</th>\n      <th>attribute1</th>\n      <th>attribute2</th>\n      <th>attribute3</th>\n      <th>attribute4</th>\n      <th>attribute5</th>\n      <th>attribute6</th>\n      <th>attribute7</th>\n      <th>attribute8</th>\n      <th>attribute9</th>\n      <th>failure</th>\n    </tr>\n  </thead>\n  <tbody>\n    <tr>\n      <th>124489</th>\n      <td>15306</td>\n      <td>Z1F0MA1S</td>\n      <td>18310224</td>\n      <td>0</td>\n      <td>0</td>\n      <td>0</td>\n      <td>10</td>\n      <td>353705</td>\n      <td>8</td>\n      <td>8</td>\n      <td>0</td>\n      <td>0</td>\n    </tr>\n    <tr>\n      <th>124490</th>\n      <td>15306</td>\n      <td>Z1F0Q8RT</td>\n      <td>172556680</td>\n      <td>96</td>\n      <td>107</td>\n      <td>4</td>\n      <td>11</td>\n      <td>332792</td>\n      <td>0</td>\n      <td>0</td>\n      <td>13</td>\n      <td>0</td>\n    </tr>\n    <tr>\n      <th>124491</th>\n      <td>15306</td>\n      <td>Z1F0QK05</td>\n      <td>19029120</td>\n      <td>4832</td>\n      <td>0</td>\n      <td>0</td>\n      <td>11</td>\n      <td>350410</td>\n      <td>0</td>\n      <td>0</td>\n      <td>0</td>\n      <td>0</td>\n    </tr>\n    <tr>\n      <th>124492</th>\n      <td>15306</td>\n      <td>Z1F0QL3N</td>\n      <td>226953408</td>\n      <td>0</td>\n      <td>0</td>\n      <td>0</td>\n      <td>12</td>\n      <td>358980</td>\n      <td>0</td>\n      <td>0</td>\n      <td>0</td>\n      <td>0</td>\n    </tr>\n    <tr>\n      <th>124493</th>\n      <td>15306</td>\n      <td>Z1F0QLC1</td>\n      <td>17572840</td>\n      <td>0</td>\n      <td>0</td>\n      <td>0</td>\n      <td>10</td>\n      <td>351431</td>\n      <td>0</td>\n      <td>0</td>\n      <td>0</td>\n      <td>0</td>\n    </tr>\n  </tbody>\n</table>\n</div>"
     },
     "metadata": {},
     "output_type": "execute_result",
     "execution_count": 3
    }
   ],
   "source": [
    "df.tail()"
   ]
  },
  {
   "cell_type": "code",
   "execution_count": 4,
   "metadata": {
    "pycharm": {
     "is_executing": false
    },
    "scrolled": true
   },
   "outputs": [
    {
     "data": {
      "text/plain": "date          0\ndevice        0\nattribute1    0\nattribute2    0\nattribute3    0\nattribute4    0\nattribute5    0\nattribute6    0\nattribute7    0\nattribute8    0\nattribute9    0\nfailure       0\ndtype: int64"
     },
     "metadata": {},
     "output_type": "execute_result",
     "execution_count": 4
    }
   ],
   "source": [
    "df.isnull().sum()"
   ]
  },
  {
   "cell_type": "code",
   "execution_count": 5,
   "metadata": {
    "pycharm": {
     "is_executing": false
    }
   },
   "outputs": [
    {
     "data": {
      "text/plain": "(124494, 12)"
     },
     "metadata": {},
     "output_type": "execute_result",
     "execution_count": 5
    }
   ],
   "source": [
    "df.shape"
   ]
  },
  {
   "cell_type": "code",
   "execution_count": 6,
   "metadata": {
    "pycharm": {
     "is_executing": false
    }
   },
   "outputs": [
    {
     "data": {
      "text/plain": "date           int64\ndevice        object\nattribute1     int64\nattribute2     int64\nattribute3     int64\nattribute4     int64\nattribute5     int64\nattribute6     int64\nattribute7     int64\nattribute8     int64\nattribute9     int64\nfailure        int64\ndtype: object"
     },
     "metadata": {},
     "output_type": "execute_result",
     "execution_count": 6
    }
   ],
   "source": [
    "df.dtypes"
   ]
  },
  {
   "cell_type": "code",
   "execution_count": 7,
   "metadata": {
    "pycharm": {
     "is_executing": false
    },
    "scrolled": true
   },
   "outputs": [
    {
     "data": {
      "text/plain": "0    124388\n1       106\nName: failure, dtype: int64"
     },
     "metadata": {},
     "output_type": "execute_result",
     "execution_count": 7
    }
   ],
   "source": [
    "df['failure'].value_counts()"
   ]
  },
  {
   "cell_type": "code",
   "execution_count": 8,
   "metadata": {
    "scrolled": true,
    "pycharm": {
     "is_executing": false
    }
   },
   "outputs": [
    {
     "data": {
      "text/plain": "W1F0FY92    304\nZ1F0MA1S    304\nZ1F0Q8RT    304\nW1F0JXDL    304\nW1F0SJJ2    304\n           ... \nW1F1ARYY      5\nW1F0ED5X      5\nW1F1CJKT      5\nS1F04KSC      4\nW1F0WJFT      3\nName: device, Length: 1168, dtype: int64"
     },
     "metadata": {},
     "output_type": "execute_result",
     "execution_count": 8
    }
   ],
   "source": [
    "df['device'].value_counts()"
   ]
  },
  {
   "cell_type": "code",
   "execution_count": 9,
   "metadata": {
    "pycharm": {
     "is_executing": false
    }
   },
   "outputs": [],
   "source": [
    "failed_df = df.query(\"failure == 1\")\n",
    "func_df = df.query(\"failure == 0\")"
   ]
  },
  {
   "cell_type": "code",
   "execution_count": 10,
   "metadata": {
    "pycharm": {
     "is_executing": false
    }
   },
   "outputs": [],
   "source": [
    "failed_df.reset_index(inplace=True)\n",
    "func_df.reset_index(inplace=True)"
   ]
  },
  {
   "cell_type": "code",
   "execution_count": 11,
   "metadata": {
    "pycharm": {
     "is_executing": false
    }
   },
   "outputs": [
    {
     "data": {
      "text/plain": "Z1F1901P    1\nZ1F0FSBY    1\nW1F0Z3KR    1\nS1F0F4EB    1\nW1F1BFP5    1\n           ..\nW1F1DQN8    1\nZ1F0NVZA    1\nW1F1CDDP    1\nS1F0DSTY    1\nW1F0FKWW    1\nName: device, Length: 106, dtype: int64"
     },
     "metadata": {},
     "output_type": "execute_result",
     "execution_count": 11
    }
   ],
   "source": [
    "failed_df['device'].value_counts() ## Not dependent on device"
   ]
  },
  {
   "cell_type": "code",
   "execution_count": 12,
   "metadata": {
    "scrolled": true,
    "pycharm": {
     "is_executing": false
    }
   },
   "outputs": [
    {
     "data": {
      "text/plain": "W1F0FZPA    304\nZ1F0QK05    304\nW1F0FEH7    304\nZ1F0KJDS    304\nS1F0KYCR    304\n           ... \nZ1F1AGN5      5\nZ1F0L7NZ      5\nS1F04KSC      4\nS1F0RRB1      4\nW1F0WJFT      3\nName: device, Length: 1168, dtype: int64"
     },
     "metadata": {},
     "output_type": "execute_result",
     "execution_count": 12
    }
   ],
   "source": [
    "func_df['device'].value_counts()"
   ]
  },
  {
   "cell_type": "code",
   "execution_count": 13,
   "metadata": {
    "scrolled": true,
    "pycharm": {
     "is_executing": false
    }
   },
   "outputs": [
    {
     "data": {
      "text/plain": "date          1.510622e+04\nattribute1    1.223868e+08\nattribute2    1.594848e+02\nattribute3    9.940455e+00\nattribute4    1.741120e+00\nattribute5    1.422269e+01\nattribute6    2.601729e+05\nattribute7    2.925282e-01\nattribute8    2.925282e-01\nattribute9    1.245152e+01\nfailure       8.514467e-04\ndtype: float64"
     },
     "metadata": {},
     "output_type": "execute_result",
     "execution_count": 13
    }
   ],
   "source": [
    "df.aggregate(np.mean)"
   ]
  },
  {
   "cell_type": "code",
   "execution_count": 14,
   "metadata": {
    "scrolled": true,
    "pycharm": {
     "is_executing": false
    }
   },
   "outputs": [
    {
     "data": {
      "text/plain": "date          1.510791e+04\nattribute1    1.271755e+08\nattribute2    4.109434e+03\nattribute3    3.905660e+00\nattribute4    5.463208e+01\nattribute5    1.546226e+01\nattribute6    2.583035e+05\nattribute7    3.062264e+01\nattribute8    3.062264e+01\nattribute9    2.308491e+01\nfailure       1.000000e+00\ndtype: float64"
     },
     "metadata": {},
     "output_type": "execute_result",
     "execution_count": 14
    }
   ],
   "source": [
    "df.query('failure == 1').aggregate(np.mean)"
   ]
  },
  {
   "cell_type": "code",
   "execution_count": 15,
   "metadata": {
    "pycharm": {
     "is_executing": false
    }
   },
   "outputs": [
    {
     "data": {
      "text/plain": "date          1.510622e+04\nattribute1    1.223827e+08\nattribute2    1.561187e+02\nattribute3    9.945598e+00\nattribute4    1.696048e+00\nattribute5    1.422164e+01\nattribute6    2.601745e+05\nattribute7    2.666817e-01\nattribute8    2.666817e-01\nattribute9    1.244246e+01\nfailure       0.000000e+00\ndtype: float64"
     },
     "metadata": {},
     "output_type": "execute_result",
     "execution_count": 15
    }
   ],
   "source": [
    "df.query('failure==0').aggregate(np.mean)"
   ]
  },
  {
   "cell_type": "code",
   "execution_count": 15,
   "outputs": [],
   "source": [],
   "metadata": {
    "collapsed": false,
    "pycharm": {
     "name": "#%%\n",
     "is_executing": false
    }
   }
  },
  {
   "cell_type": "code",
   "execution_count": null,
   "outputs": [],
   "source": [
    "\n"
   ],
   "metadata": {
    "collapsed": false,
    "pycharm": {
     "name": "#%%\n"
    }
   }
  }
 ],
 "metadata": {
  "kernelspec": {
   "display_name": "Python 3",
   "language": "python",
   "name": "python3"
  },
  "language_info": {
   "codemirror_mode": {
    "name": "ipython",
    "version": 3
   },
   "file_extension": ".py",
   "mimetype": "text/x-python",
   "name": "python",
   "nbconvert_exporter": "python",
   "pygments_lexer": "ipython3",
   "version": "3.7.4"
  },
  "pycharm": {
   "stem_cell": {
    "cell_type": "raw",
    "source": [],
    "metadata": {
     "collapsed": false
    }
   }
  }
 },
 "nbformat": 4,
 "nbformat_minor": 1
}