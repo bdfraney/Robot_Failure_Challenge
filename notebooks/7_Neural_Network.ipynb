{
 "cells": [
  {
   "cell_type": "markdown",
   "metadata": {},
   "source": [
    "# Neural Network"
   ]
  },
  {
   "cell_type": "markdown",
   "metadata": {},
   "source": [
    "__Imports__"
   ]
  },
  {
   "cell_type": "code",
   "execution_count": 1,
   "metadata": {
    "ExecuteTime": {
     "end_time": "2019-09-19T05:56:57.678293Z",
     "start_time": "2019-09-19T05:56:55.091260Z"
    }
   },
   "outputs": [],
   "source": [
    "import matplotlib.pyplot as plt\n",
    "import matplotlib.style as style\n",
    "import numpy as np\n",
    "import pandas as pd\n",
    "import tensorflow as tf\n",
    "from sklearn.model_selection import train_test_split\n",
    "from sklearn.preprocessing import LabelBinarizer, StandardScaler\n",
    "from tensorflow.keras import Sequential, layers\n",
    "\n",
    "\n",
    "style.use(\"fivethirtyeight\")\n",
    "# import jupyterthemes as jt\n",
    "# context = jt.jtplot.set_context('poster')\n",
    "# jt.jtplot.set_style(context, 'monokai', ticks=True, spines=True)\n",
    "# jt.stylefx.style_layout('nb_style', theme='monokai',\n",
    "#                         toolbar=True, nbname=True, cellwidth='1000')\n",
    "# jt.stylefx.set_nb_theme('monokai')"
   ]
  },
  {
   "cell_type": "markdown",
   "metadata": {},
   "source": [
    "\n",
    "## Read in the data and instantiate models"
   ]
  },
  {
   "cell_type": "code",
   "execution_count": 2,
   "metadata": {
    "ExecuteTime": {
     "end_time": "2019-09-19T05:56:57.784259Z",
     "start_time": "2019-09-19T05:56:57.679259Z"
    }
   },
   "outputs": [
    {
     "data": {
      "text/html": [
       "<div>\n",
       "<style scoped>\n",
       "    .dataframe tbody tr th:only-of-type {\n",
       "        vertical-align: middle;\n",
       "    }\n",
       "\n",
       "    .dataframe tbody tr th {\n",
       "        vertical-align: top;\n",
       "    }\n",
       "\n",
       "    .dataframe thead th {\n",
       "        text-align: right;\n",
       "    }\n",
       "</style>\n",
       "<table border=\"1\" class=\"dataframe\">\n",
       "  <thead>\n",
       "    <tr style=\"text-align: right;\">\n",
       "      <th></th>\n",
       "      <th>date</th>\n",
       "      <th>device</th>\n",
       "      <th>attribute1</th>\n",
       "      <th>attribute2</th>\n",
       "      <th>attribute3</th>\n",
       "      <th>attribute4</th>\n",
       "      <th>attribute5</th>\n",
       "      <th>attribute6</th>\n",
       "      <th>attribute7</th>\n",
       "      <th>attribute8</th>\n",
       "      <th>attribute9</th>\n",
       "      <th>failure</th>\n",
       "    </tr>\n",
       "  </thead>\n",
       "  <tbody>\n",
       "    <tr>\n",
       "      <th>0</th>\n",
       "      <td>15001</td>\n",
       "      <td>S1F01085</td>\n",
       "      <td>215630672</td>\n",
       "      <td>56</td>\n",
       "      <td>0</td>\n",
       "      <td>52</td>\n",
       "      <td>6</td>\n",
       "      <td>407438</td>\n",
       "      <td>0</td>\n",
       "      <td>0</td>\n",
       "      <td>7</td>\n",
       "      <td>0</td>\n",
       "    </tr>\n",
       "    <tr>\n",
       "      <th>1</th>\n",
       "      <td>15001</td>\n",
       "      <td>S1F0166B</td>\n",
       "      <td>61370680</td>\n",
       "      <td>0</td>\n",
       "      <td>3</td>\n",
       "      <td>0</td>\n",
       "      <td>6</td>\n",
       "      <td>403174</td>\n",
       "      <td>0</td>\n",
       "      <td>0</td>\n",
       "      <td>0</td>\n",
       "      <td>0</td>\n",
       "    </tr>\n",
       "    <tr>\n",
       "      <th>2</th>\n",
       "      <td>15001</td>\n",
       "      <td>S1F01E6Y</td>\n",
       "      <td>173295968</td>\n",
       "      <td>0</td>\n",
       "      <td>0</td>\n",
       "      <td>0</td>\n",
       "      <td>12</td>\n",
       "      <td>237394</td>\n",
       "      <td>0</td>\n",
       "      <td>0</td>\n",
       "      <td>0</td>\n",
       "      <td>0</td>\n",
       "    </tr>\n",
       "    <tr>\n",
       "      <th>3</th>\n",
       "      <td>15001</td>\n",
       "      <td>S1F01JE0</td>\n",
       "      <td>79694024</td>\n",
       "      <td>0</td>\n",
       "      <td>0</td>\n",
       "      <td>0</td>\n",
       "      <td>6</td>\n",
       "      <td>410186</td>\n",
       "      <td>0</td>\n",
       "      <td>0</td>\n",
       "      <td>0</td>\n",
       "      <td>0</td>\n",
       "    </tr>\n",
       "    <tr>\n",
       "      <th>4</th>\n",
       "      <td>15001</td>\n",
       "      <td>S1F01R2B</td>\n",
       "      <td>135970480</td>\n",
       "      <td>0</td>\n",
       "      <td>0</td>\n",
       "      <td>0</td>\n",
       "      <td>15</td>\n",
       "      <td>313173</td>\n",
       "      <td>0</td>\n",
       "      <td>0</td>\n",
       "      <td>3</td>\n",
       "      <td>0</td>\n",
       "    </tr>\n",
       "  </tbody>\n",
       "</table>\n",
       "</div>"
      ],
      "text/plain": [
       "    date    device  attribute1  attribute2  attribute3  attribute4  \\\n",
       "0  15001  S1F01085   215630672          56           0          52   \n",
       "1  15001  S1F0166B    61370680           0           3           0   \n",
       "2  15001  S1F01E6Y   173295968           0           0           0   \n",
       "3  15001  S1F01JE0    79694024           0           0           0   \n",
       "4  15001  S1F01R2B   135970480           0           0           0   \n",
       "\n",
       "   attribute5  attribute6  attribute7  attribute8  attribute9  failure  \n",
       "0           6      407438           0           0           7        0  \n",
       "1           6      403174           0           0           0        0  \n",
       "2          12      237394           0           0           0        0  \n",
       "3           6      410186           0           0           0        0  \n",
       "4          15      313173           0           0           3        0  "
      ]
     },
     "execution_count": 2,
     "metadata": {},
     "output_type": "execute_result"
    }
   ],
   "source": [
    "df = pd.read_csv(\"../data/device_failure_data_scientist.csv\")\n",
    "df.head()"
   ]
  },
  {
   "cell_type": "code",
   "execution_count": 3,
   "metadata": {
    "ExecuteTime": {
     "end_time": "2019-09-19T05:56:57.794262Z",
     "start_time": "2019-09-19T05:56:57.786295Z"
    }
   },
   "outputs": [],
   "source": [
    "feat = ['attribute2', 'attribute4', 'attribute7',\n",
    "        'attribute8']  \n",
    "features = df.drop(columns=['date', 'device', 'failure'])\n",
    "\n",
    "labels = df['failure']"
   ]
  },
  {
   "cell_type": "code",
   "execution_count": 109,
   "metadata": {
    "ExecuteTime": {
     "end_time": "2019-09-19T07:07:57.033039Z",
     "start_time": "2019-09-19T07:07:57.012038Z"
    }
   },
   "outputs": [],
   "source": [
    "lb = LabelBinarizer()\n",
    "\n",
    "X = features\n",
    "# y = tf.keras.utils.to_categorical(lb.fit_transform(labels), num_classes=2)\n",
    "y = labels\n",
    "\n",
    "X_train, X_test, y_train, y_test = train_test_split(X,\n",
    "                                                    y,\n",
    "                                                    random_state=42,\n",
    "                                                    shuffle=False)"
   ]
  },
  {
   "cell_type": "code",
   "execution_count": 23,
   "metadata": {
    "ExecuteTime": {
     "end_time": "2019-09-19T06:05:14.092720Z",
     "start_time": "2019-09-19T06:05:14.060693Z"
    }
   },
   "outputs": [],
   "source": [
    "ss = StandardScaler()\n",
    "\n",
    "X_train_ss = ss.fit_transform(X_train)\n",
    "X_test_ss = ss.transform(X_test)"
   ]
  },
  {
   "cell_type": "code",
   "execution_count": 24,
   "metadata": {
    "ExecuteTime": {
     "end_time": "2019-09-19T06:05:14.615427Z",
     "start_time": "2019-09-19T06:05:14.612394Z"
    },
    "scrolled": true
   },
   "outputs": [
    {
     "name": "stdout",
     "output_type": "stream",
     "text": [
      "(93370, 9)\n",
      "(31124, 9)\n",
      "(93370, 2)\n",
      "(31124, 2)\n"
     ]
    }
   ],
   "source": [
    "print(X_train_ss.shape)\n",
    "print(X_test_ss.shape)\n",
    "print(y_train.shape)\n",
    "print(y_test.shape)"
   ]
  },
  {
   "cell_type": "code",
   "execution_count": 26,
   "metadata": {
    "ExecuteTime": {
     "end_time": "2019-09-19T06:06:38.742271Z",
     "start_time": "2019-09-19T06:06:38.655272Z"
    },
    "scrolled": true
   },
   "outputs": [
    {
     "name": "stdout",
     "output_type": "stream",
     "text": [
      "Model: \"sequential_3\"\n",
      "_________________________________________________________________\n",
      "Layer (type)                 Output Shape              Param #   \n",
      "=================================================================\n",
      "dense_15 (Dense)             (None, 32)                320       \n",
      "_________________________________________________________________\n",
      "dense_16 (Dense)             (None, 32)                1056      \n",
      "_________________________________________________________________\n",
      "dense_17 (Dense)             (None, 32)                1056      \n",
      "_________________________________________________________________\n",
      "dense_18 (Dense)             (None, 32)                1056      \n",
      "_________________________________________________________________\n",
      "dense_19 (Dense)             (None, 2)                 66        \n",
      "=================================================================\n",
      "Total params: 3,554\n",
      "Trainable params: 3,554\n",
      "Non-trainable params: 0\n",
      "_________________________________________________________________\n"
     ]
    }
   ],
   "source": [
    "model = Sequential()\n",
    "\n",
    "model.add(layers.Dense(32, input_shape=(9,), activation='relu'))\n",
    "\n",
    "model.add(layers.Dense(32, activation='relu'))\n",
    "\n",
    "model.add(layers.Dense(32, activation='relu'))\n",
    "\n",
    "model.add(layers.Dense(32, activation='relu'))\n",
    "\n",
    "model.add(layers.Dense(2, activation='sigmoid'))\n",
    "\n",
    "model.summary()\n",
    "\n",
    "model.compile(\n",
    "    loss='binary_crossentropy', \n",
    "    metrics=['accuracy'], \n",
    "    optimizer='rmsprop')"
   ]
  },
  {
   "cell_type": "code",
   "execution_count": 27,
   "metadata": {
    "ExecuteTime": {
     "end_time": "2019-09-19T06:07:26.624248Z",
     "start_time": "2019-09-19T06:06:43.937252Z"
    },
    "scrolled": true
   },
   "outputs": [
    {
     "name": "stdout",
     "output_type": "stream",
     "text": [
      "Train on 70027 samples, validate on 23343 samples\n",
      "Epoch 1/20\n",
      "70027/70027 - 3s - loss: 0.0438 - accuracy: 0.9944 - val_loss: 0.0241 - val_accuracy: 0.9987\n",
      "Epoch 2/20\n",
      "70027/70027 - 2s - loss: 0.0087 - accuracy: 0.9993 - val_loss: 0.0139 - val_accuracy: 0.9987\n",
      "Epoch 3/20\n",
      "70027/70027 - 2s - loss: 0.0056 - accuracy: 0.9993 - val_loss: 0.0153 - val_accuracy: 0.9987\n",
      "Epoch 4/20\n",
      "70027/70027 - 2s - loss: 0.0054 - accuracy: 0.9993 - val_loss: 0.0132 - val_accuracy: 0.9987\n",
      "Epoch 5/20\n",
      "70027/70027 - 2s - loss: 0.0055 - accuracy: 0.9993 - val_loss: 0.0149 - val_accuracy: 0.9987\n",
      "Epoch 6/20\n",
      "70027/70027 - 2s - loss: 0.0055 - accuracy: 0.9992 - val_loss: 0.0119 - val_accuracy: 0.9987\n",
      "Epoch 7/20\n",
      "70027/70027 - 2s - loss: 0.0053 - accuracy: 0.9993 - val_loss: 0.0140 - val_accuracy: 0.9987\n",
      "Epoch 8/20\n",
      "70027/70027 - 2s - loss: 0.0053 - accuracy: 0.9993 - val_loss: 0.0160 - val_accuracy: 0.9987\n",
      "Epoch 9/20\n",
      "70027/70027 - 2s - loss: 0.0068 - accuracy: 0.9993 - val_loss: 0.0124 - val_accuracy: 0.9987\n",
      "Epoch 10/20\n",
      "70027/70027 - 2s - loss: 0.0064 - accuracy: 0.9993 - val_loss: 0.0132 - val_accuracy: 0.9987\n",
      "Epoch 11/20\n",
      "70027/70027 - 2s - loss: 0.0063 - accuracy: 0.9993 - val_loss: 0.0129 - val_accuracy: 0.9987\n",
      "Epoch 12/20\n",
      "70027/70027 - 2s - loss: 0.0057 - accuracy: 0.9993 - val_loss: 0.0165 - val_accuracy: 0.9987\n",
      "Epoch 13/20\n",
      "70027/70027 - 2s - loss: 0.0058 - accuracy: 0.9993 - val_loss: 0.0109 - val_accuracy: 0.9987\n",
      "Epoch 14/20\n",
      "70027/70027 - 2s - loss: 0.0056 - accuracy: 0.9993 - val_loss: 0.0120 - val_accuracy: 0.9987\n",
      "Epoch 15/20\n",
      "70027/70027 - 2s - loss: 0.0062 - accuracy: 0.9993 - val_loss: 0.0178 - val_accuracy: 0.9987\n",
      "Epoch 16/20\n",
      "70027/70027 - 2s - loss: 0.0068 - accuracy: 0.9993 - val_loss: 0.0102 - val_accuracy: 0.9987\n",
      "Epoch 17/20\n",
      "70027/70027 - 2s - loss: 0.0061 - accuracy: 0.9993 - val_loss: 0.0167 - val_accuracy: 0.9987\n",
      "Epoch 18/20\n",
      "70027/70027 - 2s - loss: 0.0064 - accuracy: 0.9993 - val_loss: 0.0137 - val_accuracy: 0.9987\n",
      "Epoch 19/20\n",
      "70027/70027 - 2s - loss: 0.0064 - accuracy: 0.9993 - val_loss: 0.0110 - val_accuracy: 0.9987\n",
      "Epoch 20/20\n",
      "70027/70027 - 2s - loss: 0.0071 - accuracy: 0.9993 - val_loss: 0.0151 - val_accuracy: 0.9987\n"
     ]
    }
   ],
   "source": [
    "hist = model.fit(X_train_ss,\n",
    "                   y_train,\n",
    "                   epochs=20,\n",
    "                   batch_size=128,\n",
    "                   validation_split=0.25,\n",
    "                   verbose=2)"
   ]
  },
  {
   "cell_type": "code",
   "execution_count": 28,
   "metadata": {
    "ExecuteTime": {
     "end_time": "2019-09-19T06:07:29.142730Z",
     "start_time": "2019-09-19T06:07:28.994701Z"
    }
   },
   "outputs": [
    {
     "data": {
      "image/png": "[encoded data removed]",
      "text/plain": [
       "<Figure size 576x288 with 1 Axes>"
      ]
     },
     "metadata": {
      "needs_background": "light"
     },
     "output_type": "display_data"
    }
   ],
   "source": [
    "plt.figure(figsize=(8,4))\n",
    "\n",
    "plt.plot(hist.history['loss'], label='Train')\n",
    "plt.plot(hist.history['val_loss'], label='Val')\n",
    "plt.xlabel(\"Epochs\")\n",
    "plt.ylabel(\"Loss\")\n",
    "plt.legend();"
   ]
  },
  {
   "cell_type": "code",
   "execution_count": 29,
   "metadata": {
    "ExecuteTime": {
     "end_time": "2019-09-19T06:07:32.310994Z",
     "start_time": "2019-09-19T06:07:32.169995Z"
    },
    "scrolled": true
   },
   "outputs": [
    {
     "data": {
      "image/png": "[encoded data removed]",
      "text/plain": [
       "<Figure size 576x288 with 1 Axes>"
      ]
     },
     "metadata": {
      "needs_background": "light"
     },
     "output_type": "display_data"
    }
   ],
   "source": [
    "plt.figure(figsize=(8,4))\n",
    "\n",
    "\n",
    "plt.plot(hist.history['accuracy'], label='Train', )\n",
    "plt.plot(hist.history['val_accuracy'], label='Val')\n",
    "plt.legend();"
   ]
  },
  {
   "cell_type": "markdown",
   "metadata": {},
   "source": [
    "## Model Evaluation"
   ]
  },
  {
   "cell_type": "code",
   "execution_count": 97,
   "metadata": {
    "ExecuteTime": {
     "end_time": "2019-09-19T06:51:20.467247Z",
     "start_time": "2019-09-19T06:51:15.919245Z"
    }
   },
   "outputs": [
    {
     "name": "stdout",
     "output_type": "stream",
     "text": [
      "93370/1 - 5s - loss: 0.0065 - accuracy: 0.9991\n"
     ]
    },
    {
     "data": {
      "text/plain": [
       "[0.009835765229311063, 0.9991432]"
      ]
     },
     "execution_count": 97,
     "metadata": {},
     "output_type": "execute_result"
    }
   ],
   "source": [
    "model.evaluate(X_train_ss, y_train, verbose=2)"
   ]
  },
  {
   "cell_type": "code",
   "execution_count": 98,
   "metadata": {
    "ExecuteTime": {
     "end_time": "2019-09-19T06:51:22.043246Z",
     "start_time": "2019-09-19T06:51:20.468244Z"
    }
   },
   "outputs": [
    {
     "name": "stdout",
     "output_type": "stream",
     "text": [
      "31124/1 - 2s - loss: 0.0063 - accuracy: 0.9992\n"
     ]
    },
    {
     "data": {
      "text/plain": [
       "[0.007732898837378898, 0.99916464]"
      ]
     },
     "execution_count": 98,
     "metadata": {},
     "output_type": "execute_result"
    }
   ],
   "source": [
    "model.evaluate(X_test_ss, y_test, verbose=2)"
   ]
  },
  {
   "cell_type": "code",
   "execution_count": 101,
   "metadata": {
    "ExecuteTime": {
     "end_time": "2019-09-19T06:57:10.184668Z",
     "start_time": "2019-09-19T06:57:09.178649Z"
    },
    "scrolled": true
   },
   "outputs": [],
   "source": [
    "y_pred = model.predict(X_test_ss)\n",
    "\n",
    "recall = tf.metrics.Recall()\n",
    "spec = tf.metrics.SpecificityAtSensitivity(sens)\n",
    "roc = tf.keras.metrics.AUC()\n",
    "\n",
    "roc.update_state(y_test, y_pred)\n",
    "recall.update_state(y_test, y_pred)\n",
    "spec.update_state(y_pred=y_pred, y_true=y_test)\n",
    "\n",
    "specificity = spec.result().numpy()\n",
    "sens = recall.result().numpy()"
   ]
  },
  {
   "cell_type": "code",
   "execution_count": 102,
   "metadata": {
    "ExecuteTime": {
     "end_time": "2019-09-19T06:57:13.652834Z",
     "start_time": "2019-09-19T06:57:13.645801Z"
    }
   },
   "outputs": [
    {
     "name": "stdout",
     "output_type": "stream",
     "text": [
      "Sensitivity = 0.9991646409034729\n",
      "Specificity = 0.9987790584564209\n",
      "AUC = 0.9993308186531067\n"
     ]
    }
   ],
   "source": [
    "print(f\"Sensitivity = {sens}\")\n",
    "print(f\"Specificity = {specificity}\")\n",
    "print(f\"AUC = {roc.result().numpy()}\")"
   ]
  },
  {
   "cell_type": "markdown",
   "metadata": {},
   "source": [
    "### ROC AUC "
   ]
  },
  {
   "cell_type": "code",
   "execution_count": 112,
   "metadata": {
    "ExecuteTime": {
     "end_time": "2019-09-19T07:08:39.398189Z",
     "start_time": "2019-09-19T07:08:38.381184Z"
    }
   },
   "outputs": [
    {
     "data": {
      "text/plain": [
       "<matplotlib.legend.Legend at 0x2027114f948>"
      ]
     },
     "execution_count": 112,
     "metadata": {},
     "output_type": "execute_result"
    },
    {
     "data": {
      "image/png": "[encoded data removed]",
      "text/plain": [
       "<Figure size 720x504 with 1 Axes>"
      ]
     },
     "metadata": {
      "needs_background": "light"
     },
     "output_type": "display_data"
    }
   ],
   "source": [
    "pred_proba = [i[1] for i in model.predict_proba(X_test_ss)]\n",
    "pred_df = pd.DataFrame({'true_values': y_test, 'pred_probs': pred_proba})\n",
    "\n",
    "# Create figure.\n",
    "plt.figure(figsize=(10, 7))\n",
    "\n",
    "# Create threshold values.\n",
    "thresholds = np.linspace(0, 1, 200)\n",
    "\n",
    "# Define function to calculate sensitivity. (True positive rate.)\n",
    "\n",
    "\n",
    "def TPR(df, true_col, pred_prob_col, threshold):\n",
    "    true_positive = df[(df[true_col] == 1)\n",
    "                       & (df[pred_prob_col] >= threshold)].shape[0]\n",
    "    false_negative = df[(df[true_col] == 1)\n",
    "                        & (df[pred_prob_col] < threshold)].shape[0]\n",
    "    return true_positive / (true_positive + false_negative)\n",
    "\n",
    "\n",
    "# Define function to calculate 1 - specificity. (False positive rate.)\n",
    "\n",
    "\n",
    "def FPR(df, true_col, pred_prob_col, threshold):\n",
    "    true_negative = df[(df[true_col] == 0)\n",
    "                       & (df[pred_prob_col] <= threshold)].shape[0]\n",
    "    false_positive = df[(df[true_col] == 0)\n",
    "                        & (df[pred_prob_col] > threshold)].shape[0]\n",
    "    return 1 - (true_negative / (true_negative + false_positive))\n",
    "\n",
    "\n",
    "# Calculate sensitivity & 1-specificity for each threshold between 0 and 1.\n",
    "tpr_values = [\n",
    "    TPR(pred_df, 'true_values', 'pred_probs', prob) for prob in thresholds\n",
    "]\n",
    "fpr_values = [\n",
    "    FPR(pred_df, 'true_values', 'pred_probs', prob) for prob in thresholds\n",
    "]\n",
    "\n",
    "# Plot ROC curve.\n",
    "plt.plot(\n",
    "    fpr_values,  # False Positive Rate on X-axis\n",
    "    tpr_values,  # True Positive Rate on Y-axis\n",
    "    label='ROC Curve')\n",
    "\n",
    "# Plot baseline. (Perfect overlap between the two populations.)\n",
    "plt.plot(np.linspace(0, 1, 200),\n",
    "         np.linspace(0, 1, 200),\n",
    "         label='baseline',\n",
    "         linestyle='--')\n",
    "\n",
    "# Label axes.\n",
    "plt.title('Receiver Operating Characteristic Curve', fontsize=22)\n",
    "plt.ylabel('Sensitivity', fontsize=18)\n",
    "plt.xlabel('1 - Specificity', fontsize=18)\n",
    "\n",
    "# Create legend.\n",
    "plt.legend(fontsize=16)"
   ]
  },
  {
   "cell_type": "code",
   "execution_count": 117,
   "metadata": {
    "ExecuteTime": {
     "end_time": "2019-09-19T07:09:20.148736Z",
     "start_time": "2019-09-19T07:09:20.146762Z"
    }
   },
   "outputs": [],
   "source": [
    "from sklearn.metrics import roc_auc_score, classification_report"
   ]
  },
  {
   "cell_type": "code",
   "execution_count": 115,
   "metadata": {
    "ExecuteTime": {
     "end_time": "2019-09-19T07:09:03.740042Z",
     "start_time": "2019-09-19T07:09:03.728044Z"
    }
   },
   "outputs": [
    {
     "data": {
      "text/plain": [
       "0.5656003106803802"
      ]
     },
     "execution_count": 115,
     "metadata": {},
     "output_type": "execute_result"
    }
   ],
   "source": [
    "roc_auc_score(pred_df['true_values'], pred_df['pred_probs'])"
   ]
  },
  {
   "cell_type": "markdown",
   "metadata": {},
   "source": [
    "## Results\n"
   ]
  },
  {
   "cell_type": "code",
   "execution_count": 118,
   "metadata": {
    "ExecuteTime": {
     "end_time": "2019-09-19T07:09:22.112246Z",
     "start_time": "2019-09-19T07:09:22.087244Z"
    }
   },
   "outputs": [
    {
     "ename": "ValueError",
     "evalue": "Classification metrics can't handle a mix of binary and continuous-multioutput targets",
     "output_type": "error",
     "traceback": [
      "\u001b[1;31m---------------------------------------------------------------------------\u001b[0m",
      "\u001b[1;31mValueError\u001b[0m                                Traceback (most recent call last)",
      "\u001b[1;32m<ipython-input-118-09053902efbd>\u001b[0m in \u001b[0;36m<module>\u001b[1;34m\u001b[0m\n\u001b[1;32m----> 1\u001b[1;33m \u001b[0mprint\u001b[0m\u001b[1;33m(\u001b[0m\u001b[0mclassification_report\u001b[0m\u001b[1;33m(\u001b[0m\u001b[0my_test\u001b[0m\u001b[1;33m,\u001b[0m \u001b[0mpreds\u001b[0m\u001b[1;33m)\u001b[0m\u001b[1;33m)\u001b[0m\u001b[1;33m\u001b[0m\u001b[1;33m\u001b[0m\u001b[0m\n\u001b[0m",
      "\u001b[1;32m~\\Anaconda3\\envs\\ga_dsi\\lib\\site-packages\\sklearn\\metrics\\classification.py\u001b[0m in \u001b[0;36mclassification_report\u001b[1;34m(y_true, y_pred, labels, target_names, sample_weight, digits, output_dict)\u001b[0m\n\u001b[0;32m   1850\u001b[0m     \"\"\"\n\u001b[0;32m   1851\u001b[0m \u001b[1;33m\u001b[0m\u001b[0m\n\u001b[1;32m-> 1852\u001b[1;33m     \u001b[0my_type\u001b[0m\u001b[1;33m,\u001b[0m \u001b[0my_true\u001b[0m\u001b[1;33m,\u001b[0m \u001b[0my_pred\u001b[0m \u001b[1;33m=\u001b[0m \u001b[0m_check_targets\u001b[0m\u001b[1;33m(\u001b[0m\u001b[0my_true\u001b[0m\u001b[1;33m,\u001b[0m \u001b[0my_pred\u001b[0m\u001b[1;33m)\u001b[0m\u001b[1;33m\u001b[0m\u001b[1;33m\u001b[0m\u001b[0m\n\u001b[0m\u001b[0;32m   1853\u001b[0m \u001b[1;33m\u001b[0m\u001b[0m\n\u001b[0;32m   1854\u001b[0m     \u001b[0mlabels_given\u001b[0m \u001b[1;33m=\u001b[0m \u001b[1;32mTrue\u001b[0m\u001b[1;33m\u001b[0m\u001b[1;33m\u001b[0m\u001b[0m\n",
      "\u001b[1;32m~\\Anaconda3\\envs\\ga_dsi\\lib\\site-packages\\sklearn\\metrics\\classification.py\u001b[0m in \u001b[0;36m_check_targets\u001b[1;34m(y_true, y_pred)\u001b[0m\n\u001b[0;32m     79\u001b[0m     \u001b[1;32mif\u001b[0m \u001b[0mlen\u001b[0m\u001b[1;33m(\u001b[0m\u001b[0my_type\u001b[0m\u001b[1;33m)\u001b[0m \u001b[1;33m>\u001b[0m \u001b[1;36m1\u001b[0m\u001b[1;33m:\u001b[0m\u001b[1;33m\u001b[0m\u001b[1;33m\u001b[0m\u001b[0m\n\u001b[0;32m     80\u001b[0m         raise ValueError(\"Classification metrics can't handle a mix of {0} \"\n\u001b[1;32m---> 81\u001b[1;33m                          \"and {1} targets\".format(type_true, type_pred))\n\u001b[0m\u001b[0;32m     82\u001b[0m \u001b[1;33m\u001b[0m\u001b[0m\n\u001b[0;32m     83\u001b[0m     \u001b[1;31m# We can't have more than one value on y_type => The set is no more needed\u001b[0m\u001b[1;33m\u001b[0m\u001b[1;33m\u001b[0m\u001b[1;33m\u001b[0m\u001b[0m\n",
      "\u001b[1;31mValueError\u001b[0m: Classification metrics can't handle a mix of binary and continuous-multioutput targets"
     ]
    }
   ],
   "source": [
    "print(classification_report(y_test, preds))"
   ]
  }
 ],
 "metadata": {
  "gist": {
   "data": {
    "description": "ROC AUC Curve",
    "public": false
   },
   "id": ""
  },
  "kernelspec": {
   "display_name": "Python 3",
   "language": "python",
   "name": "python3"
  },
  "language_info": {
   "codemirror_mode": {
    "name": "ipython",
    "version": 3
   },
   "file_extension": ".py",
   "mimetype": "text/x-python",
   "name": "python",
   "nbconvert_exporter": "python",
   "pygments_lexer": "ipython3",
   "version": "3.7.4"
  },
  "toc": {
   "base_numbering": 1,
   "nav_menu": {},
   "number_sections": true,
   "sideBar": true,
   "skip_h1_title": false,
   "title_cell": "Table of Contents",
   "title_sidebar": "Contents",
   "toc_cell": false,
   "toc_position": {},
   "toc_section_display": true,
   "toc_window_display": false
  },
  "pycharm": {
   "stem_cell": {
    "cell_type": "raw",
    "source": [],
    "metadata": {
     "collapsed": false
    }
   }
  }
 },
 "nbformat": 4,
 "nbformat_minor": 2
}