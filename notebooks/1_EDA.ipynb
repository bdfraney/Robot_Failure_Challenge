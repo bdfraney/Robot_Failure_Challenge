{
 "cells": [
  {
   "cell_type": "markdown",
   "metadata": {},
   "source": [
    "# EDA"
   ]
  },
  {
   "cell_type": "markdown",
   "metadata": {
    "pycharm": {
     "name": "#%% md\n"
    }
   },
   "source": [
    "**Imports**"
   ]
  },
  {
   "cell_type": "code",
   "execution_count": 1,
   "metadata": {
    "ExecuteTime": {
     "end_time": "2019-09-20T00:16:39.949755Z",
     "start_time": "2019-09-20T00:16:39.004726Z"
    },
    "pycharm": {
     "is_executing": false
    }
   },
   "outputs": [],
   "source": [
    "import matplotlib.pyplot as plt\n",
    "import matplotlib.style as style\n",
    "import numpy as np\n",
    "import pandas as pd\n",
    "import qgrid  # Convenient way to explore data frames interactively.\n",
    "import seaborn as sns\n",
    "\n",
    "style.use(\"fivethirtyeight\")"
   ]
  },
  {
   "cell_type": "markdown",
   "metadata": {
    "pycharm": {
     "name": "#%% md\n"
    }
   },
   "source": [
    "## Reading in the data, checking for nulls or unexpected data types."
   ]
  },
  {
   "cell_type": "code",
   "execution_count": 2,
   "metadata": {
    "ExecuteTime": {
     "end_time": "2019-09-20T00:16:40.235839Z",
     "start_time": "2019-09-20T00:16:40.133808Z"
    },
    "cell_style": "center",
    "pycharm": {
     "is_executing": false
    }
   },
   "outputs": [
    {
     "data": {
      "text/html": [
       "<div>\n",
       "<style scoped>\n",
       "    .dataframe tbody tr th:only-of-type {\n",
       "        vertical-align: middle;\n",
       "    }\n",
       "\n",
       "    .dataframe tbody tr th {\n",
       "        vertical-align: top;\n",
       "    }\n",
       "\n",
       "    .dataframe thead th {\n",
       "        text-align: right;\n",
       "    }\n",
       "</style>\n",
       "<table border=\"1\" class=\"dataframe\">\n",
       "  <thead>\n",
       "    <tr style=\"text-align: right;\">\n",
       "      <th></th>\n",
       "      <th>date</th>\n",
       "      <th>device</th>\n",
       "      <th>attribute1</th>\n",
       "      <th>attribute2</th>\n",
       "      <th>attribute3</th>\n",
       "      <th>attribute4</th>\n",
       "      <th>attribute5</th>\n",
       "      <th>attribute6</th>\n",
       "      <th>attribute7</th>\n",
       "      <th>attribute8</th>\n",
       "      <th>attribute9</th>\n",
       "      <th>failure</th>\n",
       "    </tr>\n",
       "  </thead>\n",
       "  <tbody>\n",
       "    <tr>\n",
       "      <th>0</th>\n",
       "      <td>15001</td>\n",
       "      <td>S1F01085</td>\n",
       "      <td>215630672</td>\n",
       "      <td>56</td>\n",
       "      <td>0</td>\n",
       "      <td>52</td>\n",
       "      <td>6</td>\n",
       "      <td>407438</td>\n",
       "      <td>0</td>\n",
       "      <td>0</td>\n",
       "      <td>7</td>\n",
       "      <td>0</td>\n",
       "    </tr>\n",
       "    <tr>\n",
       "      <th>1</th>\n",
       "      <td>15001</td>\n",
       "      <td>S1F0166B</td>\n",
       "      <td>61370680</td>\n",
       "      <td>0</td>\n",
       "      <td>3</td>\n",
       "      <td>0</td>\n",
       "      <td>6</td>\n",
       "      <td>403174</td>\n",
       "      <td>0</td>\n",
       "      <td>0</td>\n",
       "      <td>0</td>\n",
       "      <td>0</td>\n",
       "    </tr>\n",
       "    <tr>\n",
       "      <th>2</th>\n",
       "      <td>15001</td>\n",
       "      <td>S1F01E6Y</td>\n",
       "      <td>173295968</td>\n",
       "      <td>0</td>\n",
       "      <td>0</td>\n",
       "      <td>0</td>\n",
       "      <td>12</td>\n",
       "      <td>237394</td>\n",
       "      <td>0</td>\n",
       "      <td>0</td>\n",
       "      <td>0</td>\n",
       "      <td>0</td>\n",
       "    </tr>\n",
       "    <tr>\n",
       "      <th>3</th>\n",
       "      <td>15001</td>\n",
       "      <td>S1F01JE0</td>\n",
       "      <td>79694024</td>\n",
       "      <td>0</td>\n",
       "      <td>0</td>\n",
       "      <td>0</td>\n",
       "      <td>6</td>\n",
       "      <td>410186</td>\n",
       "      <td>0</td>\n",
       "      <td>0</td>\n",
       "      <td>0</td>\n",
       "      <td>0</td>\n",
       "    </tr>\n",
       "    <tr>\n",
       "      <th>4</th>\n",
       "      <td>15001</td>\n",
       "      <td>S1F01R2B</td>\n",
       "      <td>135970480</td>\n",
       "      <td>0</td>\n",
       "      <td>0</td>\n",
       "      <td>0</td>\n",
       "      <td>15</td>\n",
       "      <td>313173</td>\n",
       "      <td>0</td>\n",
       "      <td>0</td>\n",
       "      <td>3</td>\n",
       "      <td>0</td>\n",
       "    </tr>\n",
       "  </tbody>\n",
       "</table>\n",
       "</div>"
      ],
      "text/plain": [
       "    date    device  attribute1  attribute2  attribute3  attribute4  \\\n",
       "0  15001  S1F01085   215630672          56           0          52   \n",
       "1  15001  S1F0166B    61370680           0           3           0   \n",
       "2  15001  S1F01E6Y   173295968           0           0           0   \n",
       "3  15001  S1F01JE0    79694024           0           0           0   \n",
       "4  15001  S1F01R2B   135970480           0           0           0   \n",
       "\n",
       "   attribute5  attribute6  attribute7  attribute8  attribute9  failure  \n",
       "0           6      407438           0           0           7        0  \n",
       "1           6      403174           0           0           0        0  \n",
       "2          12      237394           0           0           0        0  \n",
       "3           6      410186           0           0           0        0  \n",
       "4          15      313173           0           0           3        0  "
      ]
     },
     "execution_count": 2,
     "metadata": {},
     "output_type": "execute_result"
    }
   ],
   "source": [
    "df = pd.read_csv(\"../data/device_failure_data_scientist.csv\")\n",
    "df.head()"
   ]
  },
  {
   "cell_type": "code",
   "execution_count": 3,
   "metadata": {
    "ExecuteTime": {
     "end_time": "2019-09-20T00:16:40.845533Z",
     "start_time": "2019-09-20T00:16:40.643536Z"
    }
   },
   "outputs": [
    {
     "data": {
      "application/vnd.jupyter.widget-view+json": {
       "model_id": "39f4f3397878425bb2f99250344e5e20",
       "version_major": 2,
       "version_minor": 0
      },
      "text/plain": [
       "QgridWidget(grid_options={'fullWidthRows': True, 'syncColumnCellResize': True, 'forceFitColumns': True, 'defau…"
      ]
     },
     "metadata": {},
     "output_type": "display_data"
    }
   ],
   "source": [
    "# I explored the data trying to get a sense of what was there.\n",
    "# I noticed the wide range of values for the different attributes as well as the sparsity.\n",
    "\n",
    "grid = qgrid.QGridWidget(df=df, show_toolbar=True)\n",
    "grid"
   ]
  },
  {
   "cell_type": "code",
   "execution_count": 4,
   "metadata": {
    "ExecuteTime": {
     "end_time": "2019-09-20T00:16:41.462535Z",
     "start_time": "2019-09-20T00:16:41.453537Z"
    },
    "pycharm": {
     "is_executing": false
    }
   },
   "outputs": [
    {
     "data": {
      "text/html": [
       "<div>\n",
       "<style scoped>\n",
       "    .dataframe tbody tr th:only-of-type {\n",
       "        vertical-align: middle;\n",
       "    }\n",
       "\n",
       "    .dataframe tbody tr th {\n",
       "        vertical-align: top;\n",
       "    }\n",
       "\n",
       "    .dataframe thead th {\n",
       "        text-align: right;\n",
       "    }\n",
       "</style>\n",
       "<table border=\"1\" class=\"dataframe\">\n",
       "  <thead>\n",
       "    <tr style=\"text-align: right;\">\n",
       "      <th></th>\n",
       "      <th>date</th>\n",
       "      <th>device</th>\n",
       "      <th>attribute1</th>\n",
       "      <th>attribute2</th>\n",
       "      <th>attribute3</th>\n",
       "      <th>attribute4</th>\n",
       "      <th>attribute5</th>\n",
       "      <th>attribute6</th>\n",
       "      <th>attribute7</th>\n",
       "      <th>attribute8</th>\n",
       "      <th>attribute9</th>\n",
       "      <th>failure</th>\n",
       "    </tr>\n",
       "  </thead>\n",
       "  <tbody>\n",
       "    <tr>\n",
       "      <th>124489</th>\n",
       "      <td>15306</td>\n",
       "      <td>Z1F0MA1S</td>\n",
       "      <td>18310224</td>\n",
       "      <td>0</td>\n",
       "      <td>0</td>\n",
       "      <td>0</td>\n",
       "      <td>10</td>\n",
       "      <td>353705</td>\n",
       "      <td>8</td>\n",
       "      <td>8</td>\n",
       "      <td>0</td>\n",
       "      <td>0</td>\n",
       "    </tr>\n",
       "    <tr>\n",
       "      <th>124490</th>\n",
       "      <td>15306</td>\n",
       "      <td>Z1F0Q8RT</td>\n",
       "      <td>172556680</td>\n",
       "      <td>96</td>\n",
       "      <td>107</td>\n",
       "      <td>4</td>\n",
       "      <td>11</td>\n",
       "      <td>332792</td>\n",
       "      <td>0</td>\n",
       "      <td>0</td>\n",
       "      <td>13</td>\n",
       "      <td>0</td>\n",
       "    </tr>\n",
       "    <tr>\n",
       "      <th>124491</th>\n",
       "      <td>15306</td>\n",
       "      <td>Z1F0QK05</td>\n",
       "      <td>19029120</td>\n",
       "      <td>4832</td>\n",
       "      <td>0</td>\n",
       "      <td>0</td>\n",
       "      <td>11</td>\n",
       "      <td>350410</td>\n",
       "      <td>0</td>\n",
       "      <td>0</td>\n",
       "      <td>0</td>\n",
       "      <td>0</td>\n",
       "    </tr>\n",
       "    <tr>\n",
       "      <th>124492</th>\n",
       "      <td>15306</td>\n",
       "      <td>Z1F0QL3N</td>\n",
       "      <td>226953408</td>\n",
       "      <td>0</td>\n",
       "      <td>0</td>\n",
       "      <td>0</td>\n",
       "      <td>12</td>\n",
       "      <td>358980</td>\n",
       "      <td>0</td>\n",
       "      <td>0</td>\n",
       "      <td>0</td>\n",
       "      <td>0</td>\n",
       "    </tr>\n",
       "    <tr>\n",
       "      <th>124493</th>\n",
       "      <td>15306</td>\n",
       "      <td>Z1F0QLC1</td>\n",
       "      <td>17572840</td>\n",
       "      <td>0</td>\n",
       "      <td>0</td>\n",
       "      <td>0</td>\n",
       "      <td>10</td>\n",
       "      <td>351431</td>\n",
       "      <td>0</td>\n",
       "      <td>0</td>\n",
       "      <td>0</td>\n",
       "      <td>0</td>\n",
       "    </tr>\n",
       "  </tbody>\n",
       "</table>\n",
       "</div>"
      ],
      "text/plain": [
       "         date    device  attribute1  attribute2  attribute3  attribute4  \\\n",
       "124489  15306  Z1F0MA1S    18310224           0           0           0   \n",
       "124490  15306  Z1F0Q8RT   172556680          96         107           4   \n",
       "124491  15306  Z1F0QK05    19029120        4832           0           0   \n",
       "124492  15306  Z1F0QL3N   226953408           0           0           0   \n",
       "124493  15306  Z1F0QLC1    17572840           0           0           0   \n",
       "\n",
       "        attribute5  attribute6  attribute7  attribute8  attribute9  failure  \n",
       "124489          10      353705           8           8           0        0  \n",
       "124490          11      332792           0           0          13        0  \n",
       "124491          11      350410           0           0           0        0  \n",
       "124492          12      358980           0           0           0        0  \n",
       "124493          10      351431           0           0           0        0  "
      ]
     },
     "execution_count": 4,
     "metadata": {},
     "output_type": "execute_result"
    }
   ],
   "source": [
    "df.tail()"
   ]
  },
  {
   "cell_type": "markdown",
   "metadata": {
    "pycharm": {
     "name": "#%% md\n"
    }
   },
   "source": [
    "Checking for null values"
   ]
  },
  {
   "cell_type": "code",
   "execution_count": 5,
   "metadata": {
    "ExecuteTime": {
     "end_time": "2019-09-20T00:16:42.587412Z",
     "start_time": "2019-09-20T00:16:42.573414Z"
    },
    "pycharm": {
     "is_executing": false
    },
    "scrolled": true
   },
   "outputs": [
    {
     "data": {
      "text/plain": [
       "date          0\n",
       "device        0\n",
       "attribute1    0\n",
       "attribute2    0\n",
       "attribute3    0\n",
       "attribute4    0\n",
       "attribute5    0\n",
       "attribute6    0\n",
       "attribute7    0\n",
       "attribute8    0\n",
       "attribute9    0\n",
       "failure       0\n",
       "dtype: int64"
      ]
     },
     "execution_count": 5,
     "metadata": {},
     "output_type": "execute_result"
    }
   ],
   "source": [
    "df.isnull().sum()"
   ]
  },
  {
   "cell_type": "code",
   "execution_count": 6,
   "metadata": {
    "ExecuteTime": {
     "end_time": "2019-09-20T00:16:43.178819Z",
     "start_time": "2019-09-20T00:16:43.106793Z"
    },
    "pycharm": {
     "is_executing": false,
     "name": "#%%\n"
    }
   },
   "outputs": [
    {
     "data": {
      "text/plain": [
       "45203    Z1F2PBHX\n",
       "43187    Z1F2PBHX\n",
       "54650    Z1F2PBHX\n",
       "28591    Z1F2PBHX\n",
       "30726    Z1F2PBHX\n",
       "           ...   \n",
       "2326     S1F01085\n",
       "4651     S1F01085\n",
       "5812     S1F01085\n",
       "3489     S1F01085\n",
       "0        S1F01085\n",
       "Name: device, Length: 124494, dtype: object"
      ]
     },
     "execution_count": 6,
     "metadata": {},
     "output_type": "execute_result"
    }
   ],
   "source": [
    "# Make sure all the devices are actually there and not empty strings\n",
    "df['device'].sort_values(ascending=False)"
   ]
  },
  {
   "cell_type": "code",
   "execution_count": 7,
   "metadata": {
    "ExecuteTime": {
     "end_time": "2019-09-20T00:16:43.652562Z",
     "start_time": "2019-09-20T00:16:43.648561Z"
    },
    "pycharm": {
     "is_executing": false
    }
   },
   "outputs": [
    {
     "data": {
      "text/plain": [
       "(124494, 12)"
      ]
     },
     "execution_count": 7,
     "metadata": {},
     "output_type": "execute_result"
    }
   ],
   "source": [
    "df.shape"
   ]
  },
  {
   "cell_type": "code",
   "execution_count": 8,
   "metadata": {
    "ExecuteTime": {
     "end_time": "2019-09-20T00:16:44.146085Z",
     "start_time": "2019-09-20T00:16:44.141085Z"
    },
    "pycharm": {
     "is_executing": false
    }
   },
   "outputs": [
    {
     "data": {
      "text/plain": [
       "date           int64\n",
       "device        object\n",
       "attribute1     int64\n",
       "attribute2     int64\n",
       "attribute3     int64\n",
       "attribute4     int64\n",
       "attribute5     int64\n",
       "attribute6     int64\n",
       "attribute7     int64\n",
       "attribute8     int64\n",
       "attribute9     int64\n",
       "failure        int64\n",
       "dtype: object"
      ]
     },
     "execution_count": 8,
     "metadata": {},
     "output_type": "execute_result"
    }
   ],
   "source": [
    "# Making sure each column is the expected type.\n",
    "\n",
    "df.dtypes"
   ]
  },
  {
   "cell_type": "markdown",
   "metadata": {
    "pycharm": {
     "name": "#%% md\n"
    }
   },
   "source": [
    "## Looking at the two classes\n",
    "Baseline accuracy $= 0.999$ "
   ]
  },
  {
   "cell_type": "code",
   "execution_count": 9,
   "metadata": {
    "ExecuteTime": {
     "end_time": "2019-09-20T00:16:45.239241Z",
     "start_time": "2019-09-20T00:16:45.233267Z"
    },
    "pycharm": {
     "is_executing": false
    },
    "scrolled": true
   },
   "outputs": [
    {
     "data": {
      "text/plain": [
       "0    0.999149\n",
       "1    0.000851\n",
       "Name: failure, dtype: float64"
      ]
     },
     "execution_count": 9,
     "metadata": {},
     "output_type": "execute_result"
    }
   ],
   "source": [
    "# There didn't seem to be very many of the positive (\"failed\") class when inspecting the data frame.\n",
    "# The classes are heavily imbalanced and I will need to take special care when modeling.\n",
    "\n",
    "df['failure'].value_counts(normalize=True)"
   ]
  },
  {
   "cell_type": "code",
   "execution_count": 10,
   "metadata": {
    "ExecuteTime": {
     "end_time": "2019-09-20T00:16:45.785239Z",
     "start_time": "2019-09-20T00:16:45.771236Z"
    },
    "pycharm": {
     "is_executing": false
    },
    "scrolled": true
   },
   "outputs": [
    {
     "data": {
      "text/plain": [
       "S1F0FP0C    304\n",
       "Z1F0GE1M    304\n",
       "W1F0FY92    304\n",
       "S1F0GCED    304\n",
       "S1F0E9EP    304\n",
       "           ... \n",
       "W1F0YKBQ      5\n",
       "Z1F161QC      5\n",
       "S1F0A1VP      5\n",
       "S1F04KSC      4\n",
       "W1F0WJFT      3\n",
       "Name: device, Length: 1168, dtype: int64"
      ]
     },
     "execution_count": 10,
     "metadata": {},
     "output_type": "execute_result"
    }
   ],
   "source": [
    "# Checking the number of devices and how often they appear.\n",
    "\n",
    "df['device'].value_counts()"
   ]
  },
  {
   "cell_type": "markdown",
   "metadata": {
    "pycharm": {
     "name": "#%% md\n"
    }
   },
   "source": [
    "`failed_devices` is a list of all the devices that failed.  Failed devices had telemetry data until the day they did \n",
    "fail while not-failed devices (unsurprisingly) continued transmitting telemetry data.  I can use this list to filter \n",
    "the data frame to look specifically at devices that failed or devices that didn't fail, removing all of the data of \n",
    "failed devices.  I can better compare the differences in telemetry data and figure out which attributes are relevant."
   ]
  },
  {
   "cell_type": "code",
   "execution_count": 11,
   "metadata": {
    "ExecuteTime": {
     "end_time": "2019-09-20T00:16:46.840832Z",
     "start_time": "2019-09-20T00:16:46.833832Z"
    },
    "pycharm": {
     "is_executing": false,
     "name": "#%%\n"
    }
   },
   "outputs": [
    {
     "data": {
      "text/plain": [
       "['S1F0RRB1',\n",
       " 'S1F0CTDN',\n",
       " 'W1F0PNA5',\n",
       " 'W1F13SRV',\n",
       " 'W1F1230J',\n",
       " 'W1F0T034',\n",
       " 'S1F0GG8X',\n",
       " 'S1F023H2',\n",
       " 'S1F0QY11',\n",
       " 'S1F0S2WJ',\n",
       " 'W1F0Z1W9',\n",
       " 'W1F15S4D',\n",
       " 'Z1F0LVPW',\n",
       " 'Z1F0NVZA',\n",
       " 'Z1F1FCH5',\n",
       " 'S1F0P3G2',\n",
       " 'W1F0F6BN',\n",
       " 'W1F0P114',\n",
       " 'W1F0X4FC',\n",
       " 'S1F0LCTV']"
      ]
     },
     "execution_count": 11,
     "metadata": {},
     "output_type": "execute_result"
    }
   ],
   "source": [
    "failed_devices = list(df.query(\"failure == 1\")['device'])\n",
    "failed_devices[:20]"
   ]
  },
  {
   "cell_type": "markdown",
   "metadata": {
    "pycharm": {
     "name": "#%% md\n"
    }
   },
   "source": [
    "## Separating the failed devices into a separate data frame for easier viewing.\n",
    "\n",
    "This helps focus only on the devices that failed and how their attributes changed until they failed."
   ]
  },
  {
   "cell_type": "code",
   "execution_count": 12,
   "metadata": {
    "ExecuteTime": {
     "end_time": "2019-09-20T00:16:47.816526Z",
     "start_time": "2019-09-20T00:16:47.800527Z"
    },
    "pycharm": {
     "is_executing": false
    }
   },
   "outputs": [
    {
     "data": {
      "text/html": [
       "<div>\n",
       "<style scoped>\n",
       "    .dataframe tbody tr th:only-of-type {\n",
       "        vertical-align: middle;\n",
       "    }\n",
       "\n",
       "    .dataframe tbody tr th {\n",
       "        vertical-align: top;\n",
       "    }\n",
       "\n",
       "    .dataframe thead th {\n",
       "        text-align: right;\n",
       "    }\n",
       "</style>\n",
       "<table border=\"1\" class=\"dataframe\">\n",
       "  <thead>\n",
       "    <tr style=\"text-align: right;\">\n",
       "      <th></th>\n",
       "      <th>date</th>\n",
       "      <th>device</th>\n",
       "      <th>attribute1</th>\n",
       "      <th>attribute2</th>\n",
       "      <th>attribute3</th>\n",
       "      <th>attribute4</th>\n",
       "      <th>attribute5</th>\n",
       "      <th>attribute6</th>\n",
       "      <th>attribute7</th>\n",
       "      <th>attribute8</th>\n",
       "      <th>attribute9</th>\n",
       "      <th>failure</th>\n",
       "    </tr>\n",
       "  </thead>\n",
       "  <tbody>\n",
       "    <tr>\n",
       "      <th>7</th>\n",
       "      <td>15001</td>\n",
       "      <td>S1F023H2</td>\n",
       "      <td>141503600</td>\n",
       "      <td>0</td>\n",
       "      <td>0</td>\n",
       "      <td>1</td>\n",
       "      <td>19</td>\n",
       "      <td>494462</td>\n",
       "      <td>16</td>\n",
       "      <td>16</td>\n",
       "      <td>3</td>\n",
       "      <td>0</td>\n",
       "    </tr>\n",
       "    <tr>\n",
       "      <th>23</th>\n",
       "      <td>15001</td>\n",
       "      <td>S1F03YZM</td>\n",
       "      <td>55587136</td>\n",
       "      <td>0</td>\n",
       "      <td>0</td>\n",
       "      <td>0</td>\n",
       "      <td>7</td>\n",
       "      <td>199132</td>\n",
       "      <td>0</td>\n",
       "      <td>0</td>\n",
       "      <td>0</td>\n",
       "      <td>0</td>\n",
       "    </tr>\n",
       "    <tr>\n",
       "      <th>44</th>\n",
       "      <td>15001</td>\n",
       "      <td>S1F09DZQ</td>\n",
       "      <td>12568128</td>\n",
       "      <td>136</td>\n",
       "      <td>0</td>\n",
       "      <td>2</td>\n",
       "      <td>6</td>\n",
       "      <td>380112</td>\n",
       "      <td>0</td>\n",
       "      <td>0</td>\n",
       "      <td>2</td>\n",
       "      <td>0</td>\n",
       "    </tr>\n",
       "    <tr>\n",
       "      <th>63</th>\n",
       "      <td>15001</td>\n",
       "      <td>S1F0CTDN</td>\n",
       "      <td>50147888</td>\n",
       "      <td>528</td>\n",
       "      <td>0</td>\n",
       "      <td>4</td>\n",
       "      <td>9</td>\n",
       "      <td>381198</td>\n",
       "      <td>32</td>\n",
       "      <td>32</td>\n",
       "      <td>3</td>\n",
       "      <td>0</td>\n",
       "    </tr>\n",
       "    <tr>\n",
       "      <th>74</th>\n",
       "      <td>15001</td>\n",
       "      <td>S1F0DSTY</td>\n",
       "      <td>8471680</td>\n",
       "      <td>0</td>\n",
       "      <td>0</td>\n",
       "      <td>0</td>\n",
       "      <td>11</td>\n",
       "      <td>436682</td>\n",
       "      <td>0</td>\n",
       "      <td>0</td>\n",
       "      <td>0</td>\n",
       "      <td>0</td>\n",
       "    </tr>\n",
       "  </tbody>\n",
       "</table>\n",
       "</div>"
      ],
      "text/plain": [
       "     date    device  attribute1  attribute2  attribute3  attribute4  \\\n",
       "7   15001  S1F023H2   141503600           0           0           1   \n",
       "23  15001  S1F03YZM    55587136           0           0           0   \n",
       "44  15001  S1F09DZQ    12568128         136           0           2   \n",
       "63  15001  S1F0CTDN    50147888         528           0           4   \n",
       "74  15001  S1F0DSTY     8471680           0           0           0   \n",
       "\n",
       "    attribute5  attribute6  attribute7  attribute8  attribute9  failure  \n",
       "7           19      494462          16          16           3        0  \n",
       "23           7      199132           0           0           0        0  \n",
       "44           6      380112           0           0           2        0  \n",
       "63           9      381198          32          32           3        0  \n",
       "74          11      436682           0           0           0        0  "
      ]
     },
     "execution_count": 12,
     "metadata": {},
     "output_type": "execute_result"
    }
   ],
   "source": [
    "failed_df = df[df['device'].isin(failed_devices)]\n",
    "failed_df.head()"
   ]
  },
  {
   "cell_type": "code",
   "execution_count": 13,
   "metadata": {
    "ExecuteTime": {
     "end_time": "2019-09-20T00:16:48.303149Z",
     "start_time": "2019-09-20T00:16:48.298149Z"
    },
    "pycharm": {
     "is_executing": false
    }
   },
   "outputs": [],
   "source": [
    "failed_df.reset_index(inplace=True)"
   ]
  },
  {
   "cell_type": "markdown",
   "metadata": {
    "pycharm": {
     "name": "#%% md\n"
    }
   },
   "source": [
    "## Looking more closely at telemetry data.\n",
    "\n",
    "This is to see if there are any insights on attributes with some simple aggregation.  Ideally this would help give better context to each attribute and if any of them stand out as features."
   ]
  },
  {
   "cell_type": "code",
   "execution_count": 14,
   "metadata": {
    "ExecuteTime": {
     "end_time": "2019-09-20T00:17:00.260541Z",
     "start_time": "2019-09-20T00:16:49.328719Z"
    },
    "pycharm": {
     "is_executing": false
    }
   },
   "outputs": [
    {
     "data": {
      "text/plain": [
       "date          1.510622e+04\n",
       "attribute1    1.223868e+08\n",
       "attribute2    1.594848e+02\n",
       "attribute3    9.940455e+00\n",
       "attribute4    1.741120e+00\n",
       "attribute5    1.422269e+01\n",
       "attribute6    2.601729e+05\n",
       "attribute7    2.925282e-01\n",
       "attribute8    2.925282e-01\n",
       "attribute9    1.245152e+01\n",
       "failure       8.514467e-04\n",
       "dtype: float64"
      ]
     },
     "execution_count": 14,
     "metadata": {},
     "output_type": "execute_result"
    }
   ],
   "source": [
    "df.aggregate(np.mean)"
   ]
  },
  {
   "cell_type": "code",
   "execution_count": 15,
   "metadata": {
    "ExecuteTime": {
     "end_time": "2019-09-20T00:17:00.271511Z",
     "start_time": "2019-09-20T00:17:00.261508Z"
    },
    "pycharm": {
     "is_executing": false
    }
   },
   "outputs": [
    {
     "data": {
      "text/plain": [
       "date          1.510791e+04\n",
       "attribute1    1.271755e+08\n",
       "attribute2    4.109434e+03\n",
       "attribute3    3.905660e+00\n",
       "attribute4    5.463208e+01\n",
       "attribute5    1.546226e+01\n",
       "attribute6    2.583035e+05\n",
       "attribute7    3.062264e+01\n",
       "attribute8    3.062264e+01\n",
       "attribute9    2.308491e+01\n",
       "failure       1.000000e+00\n",
       "dtype: float64"
      ]
     },
     "execution_count": 15,
     "metadata": {},
     "output_type": "execute_result"
    }
   ],
   "source": [
    "df.query('failure == 1').aggregate(np.mean)"
   ]
  },
  {
   "cell_type": "code",
   "execution_count": 16,
   "metadata": {
    "ExecuteTime": {
     "end_time": "2019-09-20T00:17:08.096552Z",
     "start_time": "2019-09-20T00:17:00.273510Z"
    },
    "pycharm": {
     "is_executing": false
    },
    "scrolled": false
   },
   "outputs": [
    {
     "data": {
      "text/plain": [
       "date          1.510622e+04\n",
       "attribute1    1.223827e+08\n",
       "attribute2    1.561187e+02\n",
       "attribute3    9.945598e+00\n",
       "attribute4    1.696048e+00\n",
       "attribute5    1.422164e+01\n",
       "attribute6    2.601745e+05\n",
       "attribute7    2.666817e-01\n",
       "attribute8    2.666817e-01\n",
       "attribute9    1.244246e+01\n",
       "failure       0.000000e+00\n",
       "dtype: float64"
      ]
     },
     "execution_count": 16,
     "metadata": {},
     "output_type": "execute_result"
    }
   ],
   "source": [
    "df.query('failure==0').aggregate(np.mean)"
   ]
  },
  {
   "cell_type": "markdown",
   "metadata": {},
   "source": [
    "## Plotting some of the attributes for 2 devices"
   ]
  },
  {
   "cell_type": "code",
   "execution_count": 17,
   "metadata": {
    "ExecuteTime": {
     "end_time": "2019-09-20T00:17:08.112544Z",
     "start_time": "2019-09-20T00:17:08.097506Z"
    }
   },
   "outputs": [],
   "source": [
    "# Preparing data from two devices to plot some of the attributes.\n",
    "\n",
    "device = df.query('device == \"Z1F2PBHX\"')\n",
    "device2 = df.query(\"device == 'Z1F0KKN4'\")\n",
    "x = device['date']"
   ]
  },
  {
   "cell_type": "code",
   "execution_count": 18,
   "metadata": {
    "ExecuteTime": {
     "end_time": "2019-09-20T00:17:08.982239Z",
     "start_time": "2019-09-20T00:17:08.113509Z"
    },
    "scrolled": false
   },
   "outputs": [
    {
     "data": {
      "image/png": "[encoded data removed]",
      "text/plain": [
       "<Figure size 864x360 with 1 Axes>"
      ]
     },
     "metadata": {
      "needs_background": "light"
     },
     "output_type": "display_data"
    },
    {
     "data": {
      "image/png": "[encoded data removed]",
      "text/plain": [
       "<Figure size 864x360 with 1 Axes>"
      ]
     },
     "metadata": {
      "needs_background": "light"
     },
     "output_type": "display_data"
    },
    {
     "data": {
      "image/png": "[encoded data removed]",
      "text/plain": [
       "<Figure size 864x360 with 1 Axes>"
      ]
     },
     "metadata": {
      "needs_background": "light"
     },
     "output_type": "display_data"
    },
    {
     "data": {
      "image/png": "[encoded data removed]",
      "text/plain": [
       "<Figure size 864x360 with 1 Axes>"
      ]
     },
     "metadata": {
      "needs_background": "light"
     },
     "output_type": "display_data"
    }
   ],
   "source": [
    "# Attribute 1\n",
    "plt.figure(figsize=(12, 5))\n",
    "sns.lineplot(x=x, y=device['attribute1'])\n",
    "sns.lineplot(x=device2['date'][:100], y=device2['attribute1'])\n",
    "plt.title(\"Failed vs not-Failed Device Attr 1\")\n",
    "plt.legend((\"Failed\", \"not-Failed\"), fontsize=16)\n",
    "\n",
    "# Attribute 2\n",
    "plt.figure(figsize=(12, 5))\n",
    "sns.lineplot(x=x, y=device['attribute2'])\n",
    "sns.lineplot(x=device2['date'][:100], y=device2['attribute2'])\n",
    "plt.title(\"Failed vs not-Failed Device Attr 2\")\n",
    "plt.legend((\"Failed\", \"not-Failed\"), fontsize=16)\n",
    "\n",
    "# Attribute 5\n",
    "plt.figure(figsize=(12, 5))\n",
    "sns.lineplot(x=x, y=device['attribute5'])\n",
    "sns.lineplot(x=device2['date'][:100], y=device2['attribute5'])\n",
    "plt.title(\"Failed vs not-Failed Device Attr 5\")\n",
    "plt.legend((\"Failed\", \"not-Failed\"), fontsize=16)\n",
    "\n",
    "# Attribute 6\n",
    "plt.figure(figsize=(12, 5))\n",
    "sns.lineplot(x=x, y=device['attribute6'])\n",
    "sns.lineplot(x=device2['date'][:100], y=device2['attribute6'])\n",
    "plt.title(\"Failed vs not-Failed Device Attr. 6\")\n",
    "plt.legend((\"Failed\", \"not-Failed\"), fontsize=16)"
   ]
  },
  {
   "cell_type": "markdown",
   "metadata": {},
   "source": [
    "Some attributes vary wildly in order of magnitude, such as `attribute2`, but didn't show much change when I plotted them.  The arithmetic mean likely isn't the best aggregation.  There is a time element to the data so a moving average might be more appropriate.  Even though these are only two devices, it's hard to infer any meaning from the attributes just by looking at them."
   ]
  },
  {
   "cell_type": "markdown",
   "metadata": {},
   "source": [
    "### Taking a look at separate devices and how they change "
   ]
  },
  {
   "cell_type": "code",
   "execution_count": 19,
   "metadata": {
    "ExecuteTime": {
     "end_time": "2019-09-20T00:17:08.997244Z",
     "start_time": "2019-09-20T00:17:08.983198Z"
    }
   },
   "outputs": [],
   "source": [
    "df.sort_values(by='date', inplace=True)"
   ]
  },
  {
   "cell_type": "code",
   "execution_count": 20,
   "metadata": {
    "ExecuteTime": {
     "end_time": "2019-09-20T00:17:09.013199Z",
     "start_time": "2019-09-20T00:17:08.998202Z"
    },
    "pycharm": {
     "is_executing": false,
     "name": "#%%\n"
    }
   },
   "outputs": [
    {
     "data": {
      "text/html": [
       "<div>\n",
       "<style scoped>\n",
       "    .dataframe tbody tr th:only-of-type {\n",
       "        vertical-align: middle;\n",
       "    }\n",
       "\n",
       "    .dataframe tbody tr th {\n",
       "        vertical-align: top;\n",
       "    }\n",
       "\n",
       "    .dataframe thead th {\n",
       "        text-align: right;\n",
       "    }\n",
       "</style>\n",
       "<table border=\"1\" class=\"dataframe\">\n",
       "  <thead>\n",
       "    <tr style=\"text-align: right;\">\n",
       "      <th></th>\n",
       "      <th>date</th>\n",
       "      <th>device</th>\n",
       "      <th>attribute1</th>\n",
       "      <th>attribute2</th>\n",
       "      <th>attribute3</th>\n",
       "      <th>attribute4</th>\n",
       "      <th>attribute5</th>\n",
       "      <th>attribute6</th>\n",
       "      <th>attribute7</th>\n",
       "      <th>attribute8</th>\n",
       "      <th>attribute9</th>\n",
       "      <th>failure</th>\n",
       "    </tr>\n",
       "  </thead>\n",
       "  <tbody>\n",
       "    <tr>\n",
       "      <th>235</th>\n",
       "      <td>15001</td>\n",
       "      <td>S1F0RRB1</td>\n",
       "      <td>5230888</td>\n",
       "      <td>2288</td>\n",
       "      <td>0</td>\n",
       "      <td>37</td>\n",
       "      <td>8</td>\n",
       "      <td>39267</td>\n",
       "      <td>24</td>\n",
       "      <td>24</td>\n",
       "      <td>1</td>\n",
       "      <td>0</td>\n",
       "    </tr>\n",
       "    <tr>\n",
       "      <th>1398</th>\n",
       "      <td>15002</td>\n",
       "      <td>S1F0RRB1</td>\n",
       "      <td>13307628</td>\n",
       "      <td>64776</td>\n",
       "      <td>0</td>\n",
       "      <td>49</td>\n",
       "      <td>8</td>\n",
       "      <td>39267</td>\n",
       "      <td>56</td>\n",
       "      <td>56</td>\n",
       "      <td>1</td>\n",
       "      <td>0</td>\n",
       "    </tr>\n",
       "    <tr>\n",
       "      <th>2561</th>\n",
       "      <td>15003</td>\n",
       "      <td>S1F0RRB1</td>\n",
       "      <td>26258330</td>\n",
       "      <td>64776</td>\n",
       "      <td>0</td>\n",
       "      <td>135</td>\n",
       "      <td>8</td>\n",
       "      <td>39267</td>\n",
       "      <td>56</td>\n",
       "      <td>56</td>\n",
       "      <td>1</td>\n",
       "      <td>0</td>\n",
       "    </tr>\n",
       "    <tr>\n",
       "      <th>3724</th>\n",
       "      <td>15004</td>\n",
       "      <td>S1F0RRB1</td>\n",
       "      <td>37985862</td>\n",
       "      <td>64776</td>\n",
       "      <td>0</td>\n",
       "      <td>763</td>\n",
       "      <td>8</td>\n",
       "      <td>39267</td>\n",
       "      <td>56</td>\n",
       "      <td>56</td>\n",
       "      <td>1</td>\n",
       "      <td>0</td>\n",
       "    </tr>\n",
       "    <tr>\n",
       "      <th>4885</th>\n",
       "      <td>15005</td>\n",
       "      <td>S1F0RRB1</td>\n",
       "      <td>48467332</td>\n",
       "      <td>64776</td>\n",
       "      <td>0</td>\n",
       "      <td>841</td>\n",
       "      <td>8</td>\n",
       "      <td>39267</td>\n",
       "      <td>56</td>\n",
       "      <td>56</td>\n",
       "      <td>1</td>\n",
       "      <td>1</td>\n",
       "    </tr>\n",
       "  </tbody>\n",
       "</table>\n",
       "</div>"
      ],
      "text/plain": [
       "       date    device  attribute1  attribute2  attribute3  attribute4  \\\n",
       "235   15001  S1F0RRB1     5230888        2288           0          37   \n",
       "1398  15002  S1F0RRB1    13307628       64776           0          49   \n",
       "2561  15003  S1F0RRB1    26258330       64776           0         135   \n",
       "3724  15004  S1F0RRB1    37985862       64776           0         763   \n",
       "4885  15005  S1F0RRB1    48467332       64776           0         841   \n",
       "\n",
       "      attribute5  attribute6  attribute7  attribute8  attribute9  failure  \n",
       "235            8       39267          24          24           1        0  \n",
       "1398           8       39267          56          56           1        0  \n",
       "2561           8       39267          56          56           1        0  \n",
       "3724           8       39267          56          56           1        0  \n",
       "4885           8       39267          56          56           1        1  "
      ]
     },
     "execution_count": 20,
     "metadata": {},
     "output_type": "execute_result"
    }
   ],
   "source": [
    "df.query(\"device == 'S1F0RRB1'\")"
   ]
  },
  {
   "cell_type": "code",
   "execution_count": 21,
   "metadata": {
    "ExecuteTime": {
     "end_time": "2019-09-20T00:17:09.032202Z",
     "start_time": "2019-09-20T00:17:09.015200Z"
    },
    "pycharm": {
     "is_executing": false,
     "name": "#%%\n"
    }
   },
   "outputs": [
    {
     "data": {
      "text/html": [
       "<div>\n",
       "<style scoped>\n",
       "    .dataframe tbody tr th:only-of-type {\n",
       "        vertical-align: middle;\n",
       "    }\n",
       "\n",
       "    .dataframe tbody tr th {\n",
       "        vertical-align: top;\n",
       "    }\n",
       "\n",
       "    .dataframe thead th {\n",
       "        text-align: right;\n",
       "    }\n",
       "</style>\n",
       "<table border=\"1\" class=\"dataframe\">\n",
       "  <thead>\n",
       "    <tr style=\"text-align: right;\">\n",
       "      <th></th>\n",
       "      <th>date</th>\n",
       "      <th>device</th>\n",
       "      <th>attribute1</th>\n",
       "      <th>attribute2</th>\n",
       "      <th>attribute3</th>\n",
       "      <th>attribute4</th>\n",
       "      <th>attribute5</th>\n",
       "      <th>attribute6</th>\n",
       "      <th>attribute7</th>\n",
       "      <th>attribute8</th>\n",
       "      <th>attribute9</th>\n",
       "      <th>failure</th>\n",
       "    </tr>\n",
       "  </thead>\n",
       "  <tbody>\n",
       "    <tr>\n",
       "      <th>557</th>\n",
       "      <td>15001</td>\n",
       "      <td>W1F0F6BN</td>\n",
       "      <td>113361680</td>\n",
       "      <td>0</td>\n",
       "      <td>0</td>\n",
       "      <td>0</td>\n",
       "      <td>12</td>\n",
       "      <td>225194</td>\n",
       "      <td>0</td>\n",
       "      <td>0</td>\n",
       "      <td>0</td>\n",
       "      <td>0</td>\n",
       "    </tr>\n",
       "    <tr>\n",
       "      <th>1720</th>\n",
       "      <td>15002</td>\n",
       "      <td>W1F0F6BN</td>\n",
       "      <td>132121976</td>\n",
       "      <td>0</td>\n",
       "      <td>0</td>\n",
       "      <td>0</td>\n",
       "      <td>12</td>\n",
       "      <td>226495</td>\n",
       "      <td>0</td>\n",
       "      <td>0</td>\n",
       "      <td>0</td>\n",
       "      <td>0</td>\n",
       "    </tr>\n",
       "    <tr>\n",
       "      <th>2883</th>\n",
       "      <td>15003</td>\n",
       "      <td>W1F0F6BN</td>\n",
       "      <td>153745136</td>\n",
       "      <td>0</td>\n",
       "      <td>0</td>\n",
       "      <td>0</td>\n",
       "      <td>12</td>\n",
       "      <td>227728</td>\n",
       "      <td>0</td>\n",
       "      <td>0</td>\n",
       "      <td>0</td>\n",
       "      <td>0</td>\n",
       "    </tr>\n",
       "    <tr>\n",
       "      <th>4046</th>\n",
       "      <td>15004</td>\n",
       "      <td>W1F0F6BN</td>\n",
       "      <td>176403712</td>\n",
       "      <td>0</td>\n",
       "      <td>0</td>\n",
       "      <td>0</td>\n",
       "      <td>12</td>\n",
       "      <td>228862</td>\n",
       "      <td>0</td>\n",
       "      <td>0</td>\n",
       "      <td>0</td>\n",
       "      <td>0</td>\n",
       "    </tr>\n",
       "    <tr>\n",
       "      <th>5207</th>\n",
       "      <td>15005</td>\n",
       "      <td>W1F0F6BN</td>\n",
       "      <td>200875200</td>\n",
       "      <td>0</td>\n",
       "      <td>0</td>\n",
       "      <td>0</td>\n",
       "      <td>12</td>\n",
       "      <td>230151</td>\n",
       "      <td>0</td>\n",
       "      <td>0</td>\n",
       "      <td>0</td>\n",
       "      <td>0</td>\n",
       "    </tr>\n",
       "    <tr>\n",
       "      <th>6321</th>\n",
       "      <td>15006</td>\n",
       "      <td>W1F0F6BN</td>\n",
       "      <td>221711128</td>\n",
       "      <td>0</td>\n",
       "      <td>0</td>\n",
       "      <td>0</td>\n",
       "      <td>12</td>\n",
       "      <td>231468</td>\n",
       "      <td>0</td>\n",
       "      <td>0</td>\n",
       "      <td>0</td>\n",
       "      <td>0</td>\n",
       "    </tr>\n",
       "    <tr>\n",
       "      <th>7245</th>\n",
       "      <td>15007</td>\n",
       "      <td>W1F0F6BN</td>\n",
       "      <td>1509976</td>\n",
       "      <td>0</td>\n",
       "      <td>0</td>\n",
       "      <td>0</td>\n",
       "      <td>12</td>\n",
       "      <td>232777</td>\n",
       "      <td>0</td>\n",
       "      <td>0</td>\n",
       "      <td>0</td>\n",
       "      <td>0</td>\n",
       "    </tr>\n",
       "    <tr>\n",
       "      <th>8009</th>\n",
       "      <td>15008</td>\n",
       "      <td>W1F0F6BN</td>\n",
       "      <td>22376168</td>\n",
       "      <td>0</td>\n",
       "      <td>0</td>\n",
       "      <td>0</td>\n",
       "      <td>12</td>\n",
       "      <td>234010</td>\n",
       "      <td>0</td>\n",
       "      <td>0</td>\n",
       "      <td>0</td>\n",
       "      <td>0</td>\n",
       "    </tr>\n",
       "    <tr>\n",
       "      <th>8765</th>\n",
       "      <td>15009</td>\n",
       "      <td>W1F0F6BN</td>\n",
       "      <td>49165752</td>\n",
       "      <td>0</td>\n",
       "      <td>0</td>\n",
       "      <td>0</td>\n",
       "      <td>12</td>\n",
       "      <td>235082</td>\n",
       "      <td>0</td>\n",
       "      <td>0</td>\n",
       "      <td>0</td>\n",
       "      <td>0</td>\n",
       "    </tr>\n",
       "    <tr>\n",
       "      <th>9521</th>\n",
       "      <td>15010</td>\n",
       "      <td>W1F0F6BN</td>\n",
       "      <td>70592240</td>\n",
       "      <td>0</td>\n",
       "      <td>0</td>\n",
       "      <td>0</td>\n",
       "      <td>12</td>\n",
       "      <td>236340</td>\n",
       "      <td>0</td>\n",
       "      <td>0</td>\n",
       "      <td>0</td>\n",
       "      <td>0</td>\n",
       "    </tr>\n",
       "  </tbody>\n",
       "</table>\n",
       "</div>"
      ],
      "text/plain": [
       "       date    device  attribute1  attribute2  attribute3  attribute4  \\\n",
       "557   15001  W1F0F6BN   113361680           0           0           0   \n",
       "1720  15002  W1F0F6BN   132121976           0           0           0   \n",
       "2883  15003  W1F0F6BN   153745136           0           0           0   \n",
       "4046  15004  W1F0F6BN   176403712           0           0           0   \n",
       "5207  15005  W1F0F6BN   200875200           0           0           0   \n",
       "6321  15006  W1F0F6BN   221711128           0           0           0   \n",
       "7245  15007  W1F0F6BN     1509976           0           0           0   \n",
       "8009  15008  W1F0F6BN    22376168           0           0           0   \n",
       "8765  15009  W1F0F6BN    49165752           0           0           0   \n",
       "9521  15010  W1F0F6BN    70592240           0           0           0   \n",
       "\n",
       "      attribute5  attribute6  attribute7  attribute8  attribute9  failure  \n",
       "557           12      225194           0           0           0        0  \n",
       "1720          12      226495           0           0           0        0  \n",
       "2883          12      227728           0           0           0        0  \n",
       "4046          12      228862           0           0           0        0  \n",
       "5207          12      230151           0           0           0        0  \n",
       "6321          12      231468           0           0           0        0  \n",
       "7245          12      232777           0           0           0        0  \n",
       "8009          12      234010           0           0           0        0  \n",
       "8765          12      235082           0           0           0        0  \n",
       "9521          12      236340           0           0           0        0  "
      ]
     },
     "execution_count": 21,
     "metadata": {},
     "output_type": "execute_result"
    }
   ],
   "source": [
    "df.query(\"device == 'W1F0F6BN'\").head(10)"
   ]
  },
  {
   "cell_type": "code",
   "execution_count": 22,
   "metadata": {
    "ExecuteTime": {
     "end_time": "2019-09-20T00:17:09.051199Z",
     "start_time": "2019-09-20T00:17:09.034200Z"
    },
    "pycharm": {
     "is_executing": false,
     "name": "#%% \n"
    }
   },
   "outputs": [
    {
     "data": {
      "text/html": [
       "<div>\n",
       "<style scoped>\n",
       "    .dataframe tbody tr th:only-of-type {\n",
       "        vertical-align: middle;\n",
       "    }\n",
       "\n",
       "    .dataframe tbody tr th {\n",
       "        vertical-align: top;\n",
       "    }\n",
       "\n",
       "    .dataframe thead th {\n",
       "        text-align: right;\n",
       "    }\n",
       "</style>\n",
       "<table border=\"1\" class=\"dataframe\">\n",
       "  <thead>\n",
       "    <tr style=\"text-align: right;\">\n",
       "      <th></th>\n",
       "      <th>date</th>\n",
       "      <th>device</th>\n",
       "      <th>attribute1</th>\n",
       "      <th>attribute2</th>\n",
       "      <th>attribute3</th>\n",
       "      <th>attribute4</th>\n",
       "      <th>attribute5</th>\n",
       "      <th>attribute6</th>\n",
       "      <th>attribute7</th>\n",
       "      <th>attribute8</th>\n",
       "      <th>attribute9</th>\n",
       "      <th>failure</th>\n",
       "    </tr>\n",
       "  </thead>\n",
       "  <tbody>\n",
       "    <tr>\n",
       "      <th>338</th>\n",
       "      <td>15001</td>\n",
       "      <td>S1F0T2LA</td>\n",
       "      <td>160992856</td>\n",
       "      <td>424</td>\n",
       "      <td>0</td>\n",
       "      <td>1</td>\n",
       "      <td>10</td>\n",
       "      <td>247498</td>\n",
       "      <td>0</td>\n",
       "      <td>0</td>\n",
       "      <td>0</td>\n",
       "      <td>0</td>\n",
       "    </tr>\n",
       "    <tr>\n",
       "      <th>1501</th>\n",
       "      <td>15002</td>\n",
       "      <td>S1F0T2LA</td>\n",
       "      <td>183767064</td>\n",
       "      <td>424</td>\n",
       "      <td>0</td>\n",
       "      <td>1</td>\n",
       "      <td>10</td>\n",
       "      <td>248860</td>\n",
       "      <td>0</td>\n",
       "      <td>0</td>\n",
       "      <td>0</td>\n",
       "      <td>0</td>\n",
       "    </tr>\n",
       "    <tr>\n",
       "      <th>2664</th>\n",
       "      <td>15003</td>\n",
       "      <td>S1F0T2LA</td>\n",
       "      <td>205069592</td>\n",
       "      <td>424</td>\n",
       "      <td>0</td>\n",
       "      <td>1</td>\n",
       "      <td>10</td>\n",
       "      <td>250270</td>\n",
       "      <td>0</td>\n",
       "      <td>0</td>\n",
       "      <td>0</td>\n",
       "      <td>0</td>\n",
       "    </tr>\n",
       "    <tr>\n",
       "      <th>3827</th>\n",
       "      <td>15004</td>\n",
       "      <td>S1F0T2LA</td>\n",
       "      <td>226287408</td>\n",
       "      <td>424</td>\n",
       "      <td>0</td>\n",
       "      <td>1</td>\n",
       "      <td>10</td>\n",
       "      <td>251628</td>\n",
       "      <td>0</td>\n",
       "      <td>0</td>\n",
       "      <td>0</td>\n",
       "      <td>0</td>\n",
       "    </tr>\n",
       "    <tr>\n",
       "      <th>4988</th>\n",
       "      <td>15005</td>\n",
       "      <td>S1F0T2LA</td>\n",
       "      <td>6992384</td>\n",
       "      <td>424</td>\n",
       "      <td>0</td>\n",
       "      <td>1</td>\n",
       "      <td>10</td>\n",
       "      <td>252990</td>\n",
       "      <td>0</td>\n",
       "      <td>0</td>\n",
       "      <td>0</td>\n",
       "      <td>0</td>\n",
       "    </tr>\n",
       "    <tr>\n",
       "      <th>6112</th>\n",
       "      <td>15006</td>\n",
       "      <td>S1F0T2LA</td>\n",
       "      <td>28195072</td>\n",
       "      <td>424</td>\n",
       "      <td>0</td>\n",
       "      <td>1</td>\n",
       "      <td>10</td>\n",
       "      <td>254346</td>\n",
       "      <td>0</td>\n",
       "      <td>0</td>\n",
       "      <td>0</td>\n",
       "      <td>0</td>\n",
       "    </tr>\n",
       "    <tr>\n",
       "      <th>7077</th>\n",
       "      <td>15007</td>\n",
       "      <td>S1F0T2LA</td>\n",
       "      <td>48014624</td>\n",
       "      <td>424</td>\n",
       "      <td>0</td>\n",
       "      <td>1</td>\n",
       "      <td>10</td>\n",
       "      <td>255756</td>\n",
       "      <td>0</td>\n",
       "      <td>0</td>\n",
       "      <td>0</td>\n",
       "      <td>0</td>\n",
       "    </tr>\n",
       "    <tr>\n",
       "      <th>7855</th>\n",
       "      <td>15008</td>\n",
       "      <td>S1F0T2LA</td>\n",
       "      <td>68808352</td>\n",
       "      <td>424</td>\n",
       "      <td>0</td>\n",
       "      <td>1</td>\n",
       "      <td>10</td>\n",
       "      <td>257110</td>\n",
       "      <td>0</td>\n",
       "      <td>0</td>\n",
       "      <td>0</td>\n",
       "      <td>0</td>\n",
       "    </tr>\n",
       "    <tr>\n",
       "      <th>8611</th>\n",
       "      <td>15009</td>\n",
       "      <td>S1F0T2LA</td>\n",
       "      <td>91780304</td>\n",
       "      <td>424</td>\n",
       "      <td>0</td>\n",
       "      <td>1</td>\n",
       "      <td>10</td>\n",
       "      <td>258508</td>\n",
       "      <td>0</td>\n",
       "      <td>0</td>\n",
       "      <td>0</td>\n",
       "      <td>0</td>\n",
       "    </tr>\n",
       "    <tr>\n",
       "      <th>9367</th>\n",
       "      <td>15010</td>\n",
       "      <td>S1F0T2LA</td>\n",
       "      <td>110733408</td>\n",
       "      <td>424</td>\n",
       "      <td>0</td>\n",
       "      <td>1</td>\n",
       "      <td>10</td>\n",
       "      <td>259877</td>\n",
       "      <td>0</td>\n",
       "      <td>0</td>\n",
       "      <td>0</td>\n",
       "      <td>0</td>\n",
       "    </tr>\n",
       "  </tbody>\n",
       "</table>\n",
       "</div>"
      ],
      "text/plain": [
       "       date    device  attribute1  attribute2  attribute3  attribute4  \\\n",
       "338   15001  S1F0T2LA   160992856         424           0           1   \n",
       "1501  15002  S1F0T2LA   183767064         424           0           1   \n",
       "2664  15003  S1F0T2LA   205069592         424           0           1   \n",
       "3827  15004  S1F0T2LA   226287408         424           0           1   \n",
       "4988  15005  S1F0T2LA     6992384         424           0           1   \n",
       "6112  15006  S1F0T2LA    28195072         424           0           1   \n",
       "7077  15007  S1F0T2LA    48014624         424           0           1   \n",
       "7855  15008  S1F0T2LA    68808352         424           0           1   \n",
       "8611  15009  S1F0T2LA    91780304         424           0           1   \n",
       "9367  15010  S1F0T2LA   110733408         424           0           1   \n",
       "\n",
       "      attribute5  attribute6  attribute7  attribute8  attribute9  failure  \n",
       "338           10      247498           0           0           0        0  \n",
       "1501          10      248860           0           0           0        0  \n",
       "2664          10      250270           0           0           0        0  \n",
       "3827          10      251628           0           0           0        0  \n",
       "4988          10      252990           0           0           0        0  \n",
       "6112          10      254346           0           0           0        0  \n",
       "7077          10      255756           0           0           0        0  \n",
       "7855          10      257110           0           0           0        0  \n",
       "8611          10      258508           0           0           0        0  \n",
       "9367          10      259877           0           0           0        0  "
      ]
     },
     "execution_count": 22,
     "metadata": {},
     "output_type": "execute_result"
    }
   ],
   "source": [
    "df.query(\"device == 'S1F0T2LA'\").head(10)"
   ]
  },
  {
   "cell_type": "code",
   "execution_count": 23,
   "metadata": {
    "ExecuteTime": {
     "end_time": "2019-09-20T00:17:09.073201Z",
     "start_time": "2019-09-20T00:17:09.052199Z"
    },
    "pycharm": {
     "is_executing": false,
     "name": "#%%\n"
    }
   },
   "outputs": [
    {
     "data": {
      "text/html": [
       "<div>\n",
       "<style scoped>\n",
       "    .dataframe tbody tr th:only-of-type {\n",
       "        vertical-align: middle;\n",
       "    }\n",
       "\n",
       "    .dataframe tbody tr th {\n",
       "        vertical-align: top;\n",
       "    }\n",
       "\n",
       "    .dataframe thead th {\n",
       "        text-align: right;\n",
       "    }\n",
       "</style>\n",
       "<table border=\"1\" class=\"dataframe\">\n",
       "  <thead>\n",
       "    <tr style=\"text-align: right;\">\n",
       "      <th></th>\n",
       "      <th>date</th>\n",
       "      <th>device</th>\n",
       "      <th>attribute1</th>\n",
       "      <th>attribute2</th>\n",
       "      <th>attribute3</th>\n",
       "      <th>attribute4</th>\n",
       "      <th>attribute5</th>\n",
       "      <th>attribute6</th>\n",
       "      <th>attribute7</th>\n",
       "      <th>attribute8</th>\n",
       "      <th>attribute9</th>\n",
       "      <th>failure</th>\n",
       "    </tr>\n",
       "  </thead>\n",
       "  <tbody>\n",
       "    <tr>\n",
       "      <th>1162</th>\n",
       "      <td>15001</td>\n",
       "      <td>Z1F2PBHX</td>\n",
       "      <td>129475464</td>\n",
       "      <td>0</td>\n",
       "      <td>0</td>\n",
       "      <td>0</td>\n",
       "      <td>4</td>\n",
       "      <td>148008</td>\n",
       "      <td>0</td>\n",
       "      <td>0</td>\n",
       "      <td>0</td>\n",
       "      <td>0</td>\n",
       "    </tr>\n",
       "    <tr>\n",
       "      <th>2325</th>\n",
       "      <td>15002</td>\n",
       "      <td>Z1F2PBHX</td>\n",
       "      <td>148229136</td>\n",
       "      <td>0</td>\n",
       "      <td>0</td>\n",
       "      <td>0</td>\n",
       "      <td>4</td>\n",
       "      <td>148008</td>\n",
       "      <td>0</td>\n",
       "      <td>0</td>\n",
       "      <td>0</td>\n",
       "      <td>0</td>\n",
       "    </tr>\n",
       "    <tr>\n",
       "      <th>3488</th>\n",
       "      <td>15003</td>\n",
       "      <td>Z1F2PBHX</td>\n",
       "      <td>188059992</td>\n",
       "      <td>0</td>\n",
       "      <td>0</td>\n",
       "      <td>0</td>\n",
       "      <td>4</td>\n",
       "      <td>148008</td>\n",
       "      <td>0</td>\n",
       "      <td>0</td>\n",
       "      <td>0</td>\n",
       "      <td>0</td>\n",
       "    </tr>\n",
       "    <tr>\n",
       "      <th>4650</th>\n",
       "      <td>15004</td>\n",
       "      <td>Z1F2PBHX</td>\n",
       "      <td>167365376</td>\n",
       "      <td>0</td>\n",
       "      <td>0</td>\n",
       "      <td>0</td>\n",
       "      <td>4</td>\n",
       "      <td>148745</td>\n",
       "      <td>0</td>\n",
       "      <td>0</td>\n",
       "      <td>0</td>\n",
       "      <td>0</td>\n",
       "    </tr>\n",
       "    <tr>\n",
       "      <th>5811</th>\n",
       "      <td>15005</td>\n",
       "      <td>Z1F2PBHX</td>\n",
       "      <td>205455544</td>\n",
       "      <td>0</td>\n",
       "      <td>0</td>\n",
       "      <td>0</td>\n",
       "      <td>4</td>\n",
       "      <td>149672</td>\n",
       "      <td>0</td>\n",
       "      <td>0</td>\n",
       "      <td>0</td>\n",
       "      <td>0</td>\n",
       "    </tr>\n",
       "    <tr>\n",
       "      <th>6865</th>\n",
       "      <td>15006</td>\n",
       "      <td>Z1F2PBHX</td>\n",
       "      <td>243630240</td>\n",
       "      <td>0</td>\n",
       "      <td>0</td>\n",
       "      <td>0</td>\n",
       "      <td>4</td>\n",
       "      <td>150588</td>\n",
       "      <td>0</td>\n",
       "      <td>0</td>\n",
       "      <td>0</td>\n",
       "      <td>0</td>\n",
       "    </tr>\n",
       "    <tr>\n",
       "      <th>17196</th>\n",
       "      <td>15020</td>\n",
       "      <td>Z1F2PBHX</td>\n",
       "      <td>171318632</td>\n",
       "      <td>0</td>\n",
       "      <td>0</td>\n",
       "      <td>0</td>\n",
       "      <td>5</td>\n",
       "      <td>157075</td>\n",
       "      <td>0</td>\n",
       "      <td>0</td>\n",
       "      <td>0</td>\n",
       "      <td>0</td>\n",
       "    </tr>\n",
       "    <tr>\n",
       "      <th>17908</th>\n",
       "      <td>15021</td>\n",
       "      <td>Z1F2PBHX</td>\n",
       "      <td>178270360</td>\n",
       "      <td>0</td>\n",
       "      <td>0</td>\n",
       "      <td>0</td>\n",
       "      <td>5</td>\n",
       "      <td>157122</td>\n",
       "      <td>0</td>\n",
       "      <td>0</td>\n",
       "      <td>0</td>\n",
       "      <td>0</td>\n",
       "    </tr>\n",
       "    <tr>\n",
       "      <th>18620</th>\n",
       "      <td>15022</td>\n",
       "      <td>Z1F2PBHX</td>\n",
       "      <td>133112960</td>\n",
       "      <td>0</td>\n",
       "      <td>0</td>\n",
       "      <td>0</td>\n",
       "      <td>5</td>\n",
       "      <td>157403</td>\n",
       "      <td>0</td>\n",
       "      <td>0</td>\n",
       "      <td>0</td>\n",
       "      <td>0</td>\n",
       "    </tr>\n",
       "    <tr>\n",
       "      <th>19332</th>\n",
       "      <td>15023</td>\n",
       "      <td>Z1F2PBHX</td>\n",
       "      <td>234895416</td>\n",
       "      <td>0</td>\n",
       "      <td>0</td>\n",
       "      <td>0</td>\n",
       "      <td>5</td>\n",
       "      <td>157404</td>\n",
       "      <td>0</td>\n",
       "      <td>0</td>\n",
       "      <td>0</td>\n",
       "      <td>0</td>\n",
       "    </tr>\n",
       "    <tr>\n",
       "      <th>20044</th>\n",
       "      <td>15024</td>\n",
       "      <td>Z1F2PBHX</td>\n",
       "      <td>46939320</td>\n",
       "      <td>0</td>\n",
       "      <td>0</td>\n",
       "      <td>0</td>\n",
       "      <td>5</td>\n",
       "      <td>157404</td>\n",
       "      <td>0</td>\n",
       "      <td>0</td>\n",
       "      <td>0</td>\n",
       "      <td>0</td>\n",
       "    </tr>\n",
       "    <tr>\n",
       "      <th>20756</th>\n",
       "      <td>15025</td>\n",
       "      <td>Z1F2PBHX</td>\n",
       "      <td>44864224</td>\n",
       "      <td>0</td>\n",
       "      <td>0</td>\n",
       "      <td>0</td>\n",
       "      <td>5</td>\n",
       "      <td>157405</td>\n",
       "      <td>0</td>\n",
       "      <td>0</td>\n",
       "      <td>0</td>\n",
       "      <td>0</td>\n",
       "    </tr>\n",
       "    <tr>\n",
       "      <th>21468</th>\n",
       "      <td>15026</td>\n",
       "      <td>Z1F2PBHX</td>\n",
       "      <td>191817864</td>\n",
       "      <td>0</td>\n",
       "      <td>0</td>\n",
       "      <td>0</td>\n",
       "      <td>5</td>\n",
       "      <td>157405</td>\n",
       "      <td>0</td>\n",
       "      <td>0</td>\n",
       "      <td>0</td>\n",
       "      <td>0</td>\n",
       "    </tr>\n",
       "    <tr>\n",
       "      <th>22180</th>\n",
       "      <td>15027</td>\n",
       "      <td>Z1F2PBHX</td>\n",
       "      <td>17191888</td>\n",
       "      <td>0</td>\n",
       "      <td>0</td>\n",
       "      <td>0</td>\n",
       "      <td>5</td>\n",
       "      <td>157410</td>\n",
       "      <td>0</td>\n",
       "      <td>0</td>\n",
       "      <td>0</td>\n",
       "      <td>0</td>\n",
       "    </tr>\n",
       "    <tr>\n",
       "      <th>22892</th>\n",
       "      <td>15028</td>\n",
       "      <td>Z1F2PBHX</td>\n",
       "      <td>243935864</td>\n",
       "      <td>0</td>\n",
       "      <td>0</td>\n",
       "      <td>0</td>\n",
       "      <td>5</td>\n",
       "      <td>157410</td>\n",
       "      <td>0</td>\n",
       "      <td>0</td>\n",
       "      <td>0</td>\n",
       "      <td>0</td>\n",
       "    </tr>\n",
       "    <tr>\n",
       "      <th>23607</th>\n",
       "      <td>15029</td>\n",
       "      <td>Z1F2PBHX</td>\n",
       "      <td>176857592</td>\n",
       "      <td>0</td>\n",
       "      <td>0</td>\n",
       "      <td>0</td>\n",
       "      <td>5</td>\n",
       "      <td>157410</td>\n",
       "      <td>0</td>\n",
       "      <td>0</td>\n",
       "      <td>0</td>\n",
       "      <td>0</td>\n",
       "    </tr>\n",
       "    <tr>\n",
       "      <th>24319</th>\n",
       "      <td>15030</td>\n",
       "      <td>Z1F2PBHX</td>\n",
       "      <td>242857056</td>\n",
       "      <td>0</td>\n",
       "      <td>0</td>\n",
       "      <td>0</td>\n",
       "      <td>5</td>\n",
       "      <td>157410</td>\n",
       "      <td>0</td>\n",
       "      <td>0</td>\n",
       "      <td>0</td>\n",
       "      <td>0</td>\n",
       "    </tr>\n",
       "    <tr>\n",
       "      <th>25031</th>\n",
       "      <td>15031</td>\n",
       "      <td>Z1F2PBHX</td>\n",
       "      <td>157304384</td>\n",
       "      <td>0</td>\n",
       "      <td>0</td>\n",
       "      <td>0</td>\n",
       "      <td>5</td>\n",
       "      <td>157414</td>\n",
       "      <td>0</td>\n",
       "      <td>0</td>\n",
       "      <td>0</td>\n",
       "      <td>0</td>\n",
       "    </tr>\n",
       "    <tr>\n",
       "      <th>25743</th>\n",
       "      <td>15032</td>\n",
       "      <td>Z1F2PBHX</td>\n",
       "      <td>53847624</td>\n",
       "      <td>0</td>\n",
       "      <td>0</td>\n",
       "      <td>0</td>\n",
       "      <td>5</td>\n",
       "      <td>157414</td>\n",
       "      <td>0</td>\n",
       "      <td>0</td>\n",
       "      <td>0</td>\n",
       "      <td>0</td>\n",
       "    </tr>\n",
       "    <tr>\n",
       "      <th>26455</th>\n",
       "      <td>15033</td>\n",
       "      <td>Z1F2PBHX</td>\n",
       "      <td>197796832</td>\n",
       "      <td>0</td>\n",
       "      <td>0</td>\n",
       "      <td>0</td>\n",
       "      <td>5</td>\n",
       "      <td>157414</td>\n",
       "      <td>0</td>\n",
       "      <td>0</td>\n",
       "      <td>0</td>\n",
       "      <td>0</td>\n",
       "    </tr>\n",
       "    <tr>\n",
       "      <th>27167</th>\n",
       "      <td>15034</td>\n",
       "      <td>Z1F2PBHX</td>\n",
       "      <td>147243080</td>\n",
       "      <td>0</td>\n",
       "      <td>0</td>\n",
       "      <td>0</td>\n",
       "      <td>5</td>\n",
       "      <td>157414</td>\n",
       "      <td>0</td>\n",
       "      <td>0</td>\n",
       "      <td>0</td>\n",
       "      <td>0</td>\n",
       "    </tr>\n",
       "    <tr>\n",
       "      <th>27879</th>\n",
       "      <td>15035</td>\n",
       "      <td>Z1F2PBHX</td>\n",
       "      <td>238956280</td>\n",
       "      <td>0</td>\n",
       "      <td>0</td>\n",
       "      <td>0</td>\n",
       "      <td>5</td>\n",
       "      <td>157415</td>\n",
       "      <td>0</td>\n",
       "      <td>0</td>\n",
       "      <td>0</td>\n",
       "      <td>0</td>\n",
       "    </tr>\n",
       "    <tr>\n",
       "      <th>28591</th>\n",
       "      <td>15036</td>\n",
       "      <td>Z1F2PBHX</td>\n",
       "      <td>103204112</td>\n",
       "      <td>0</td>\n",
       "      <td>0</td>\n",
       "      <td>0</td>\n",
       "      <td>5</td>\n",
       "      <td>157415</td>\n",
       "      <td>0</td>\n",
       "      <td>0</td>\n",
       "      <td>0</td>\n",
       "      <td>0</td>\n",
       "    </tr>\n",
       "    <tr>\n",
       "      <th>29302</th>\n",
       "      <td>15037</td>\n",
       "      <td>Z1F2PBHX</td>\n",
       "      <td>242794712</td>\n",
       "      <td>0</td>\n",
       "      <td>0</td>\n",
       "      <td>0</td>\n",
       "      <td>5</td>\n",
       "      <td>157415</td>\n",
       "      <td>0</td>\n",
       "      <td>0</td>\n",
       "      <td>0</td>\n",
       "      <td>0</td>\n",
       "    </tr>\n",
       "    <tr>\n",
       "      <th>30014</th>\n",
       "      <td>15038</td>\n",
       "      <td>Z1F2PBHX</td>\n",
       "      <td>171746664</td>\n",
       "      <td>0</td>\n",
       "      <td>0</td>\n",
       "      <td>0</td>\n",
       "      <td>5</td>\n",
       "      <td>157415</td>\n",
       "      <td>0</td>\n",
       "      <td>0</td>\n",
       "      <td>0</td>\n",
       "      <td>0</td>\n",
       "    </tr>\n",
       "    <tr>\n",
       "      <th>30726</th>\n",
       "      <td>15039</td>\n",
       "      <td>Z1F2PBHX</td>\n",
       "      <td>233634680</td>\n",
       "      <td>0</td>\n",
       "      <td>0</td>\n",
       "      <td>0</td>\n",
       "      <td>5</td>\n",
       "      <td>157415</td>\n",
       "      <td>0</td>\n",
       "      <td>0</td>\n",
       "      <td>0</td>\n",
       "      <td>0</td>\n",
       "    </tr>\n",
       "    <tr>\n",
       "      <th>31438</th>\n",
       "      <td>15040</td>\n",
       "      <td>Z1F2PBHX</td>\n",
       "      <td>56836144</td>\n",
       "      <td>0</td>\n",
       "      <td>0</td>\n",
       "      <td>0</td>\n",
       "      <td>5</td>\n",
       "      <td>157415</td>\n",
       "      <td>0</td>\n",
       "      <td>0</td>\n",
       "      <td>0</td>\n",
       "      <td>0</td>\n",
       "    </tr>\n",
       "    <tr>\n",
       "      <th>32150</th>\n",
       "      <td>15041</td>\n",
       "      <td>Z1F2PBHX</td>\n",
       "      <td>15240104</td>\n",
       "      <td>0</td>\n",
       "      <td>0</td>\n",
       "      <td>0</td>\n",
       "      <td>5</td>\n",
       "      <td>157415</td>\n",
       "      <td>0</td>\n",
       "      <td>0</td>\n",
       "      <td>0</td>\n",
       "      <td>0</td>\n",
       "    </tr>\n",
       "    <tr>\n",
       "      <th>32862</th>\n",
       "      <td>15042</td>\n",
       "      <td>Z1F2PBHX</td>\n",
       "      <td>100943576</td>\n",
       "      <td>0</td>\n",
       "      <td>0</td>\n",
       "      <td>0</td>\n",
       "      <td>5</td>\n",
       "      <td>157415</td>\n",
       "      <td>0</td>\n",
       "      <td>0</td>\n",
       "      <td>0</td>\n",
       "      <td>0</td>\n",
       "    </tr>\n",
       "    <tr>\n",
       "      <th>33574</th>\n",
       "      <td>15043</td>\n",
       "      <td>Z1F2PBHX</td>\n",
       "      <td>203196384</td>\n",
       "      <td>0</td>\n",
       "      <td>0</td>\n",
       "      <td>0</td>\n",
       "      <td>5</td>\n",
       "      <td>157424</td>\n",
       "      <td>0</td>\n",
       "      <td>0</td>\n",
       "      <td>0</td>\n",
       "      <td>0</td>\n",
       "    </tr>\n",
       "    <tr>\n",
       "      <th>34286</th>\n",
       "      <td>15044</td>\n",
       "      <td>Z1F2PBHX</td>\n",
       "      <td>134471760</td>\n",
       "      <td>0</td>\n",
       "      <td>0</td>\n",
       "      <td>0</td>\n",
       "      <td>5</td>\n",
       "      <td>157424</td>\n",
       "      <td>0</td>\n",
       "      <td>0</td>\n",
       "      <td>0</td>\n",
       "      <td>0</td>\n",
       "    </tr>\n",
       "    <tr>\n",
       "      <th>34998</th>\n",
       "      <td>15045</td>\n",
       "      <td>Z1F2PBHX</td>\n",
       "      <td>237995984</td>\n",
       "      <td>0</td>\n",
       "      <td>0</td>\n",
       "      <td>0</td>\n",
       "      <td>5</td>\n",
       "      <td>157424</td>\n",
       "      <td>0</td>\n",
       "      <td>0</td>\n",
       "      <td>0</td>\n",
       "      <td>0</td>\n",
       "    </tr>\n",
       "    <tr>\n",
       "      <th>35709</th>\n",
       "      <td>15046</td>\n",
       "      <td>Z1F2PBHX</td>\n",
       "      <td>72756656</td>\n",
       "      <td>0</td>\n",
       "      <td>0</td>\n",
       "      <td>0</td>\n",
       "      <td>5</td>\n",
       "      <td>157424</td>\n",
       "      <td>0</td>\n",
       "      <td>0</td>\n",
       "      <td>0</td>\n",
       "      <td>0</td>\n",
       "    </tr>\n",
       "    <tr>\n",
       "      <th>36420</th>\n",
       "      <td>15047</td>\n",
       "      <td>Z1F2PBHX</td>\n",
       "      <td>213073144</td>\n",
       "      <td>0</td>\n",
       "      <td>0</td>\n",
       "      <td>0</td>\n",
       "      <td>5</td>\n",
       "      <td>157424</td>\n",
       "      <td>0</td>\n",
       "      <td>0</td>\n",
       "      <td>0</td>\n",
       "      <td>0</td>\n",
       "    </tr>\n",
       "    <tr>\n",
       "      <th>37131</th>\n",
       "      <td>15048</td>\n",
       "      <td>Z1F2PBHX</td>\n",
       "      <td>102391480</td>\n",
       "      <td>0</td>\n",
       "      <td>0</td>\n",
       "      <td>0</td>\n",
       "      <td>5</td>\n",
       "      <td>157424</td>\n",
       "      <td>0</td>\n",
       "      <td>0</td>\n",
       "      <td>0</td>\n",
       "      <td>0</td>\n",
       "    </tr>\n",
       "    <tr>\n",
       "      <th>37805</th>\n",
       "      <td>15049</td>\n",
       "      <td>Z1F2PBHX</td>\n",
       "      <td>118763376</td>\n",
       "      <td>0</td>\n",
       "      <td>0</td>\n",
       "      <td>0</td>\n",
       "      <td>5</td>\n",
       "      <td>157424</td>\n",
       "      <td>0</td>\n",
       "      <td>0</td>\n",
       "      <td>0</td>\n",
       "      <td>0</td>\n",
       "    </tr>\n",
       "    <tr>\n",
       "      <th>38479</th>\n",
       "      <td>15050</td>\n",
       "      <td>Z1F2PBHX</td>\n",
       "      <td>208657752</td>\n",
       "      <td>0</td>\n",
       "      <td>0</td>\n",
       "      <td>0</td>\n",
       "      <td>5</td>\n",
       "      <td>157425</td>\n",
       "      <td>0</td>\n",
       "      <td>0</td>\n",
       "      <td>0</td>\n",
       "      <td>0</td>\n",
       "    </tr>\n",
       "    <tr>\n",
       "      <th>39153</th>\n",
       "      <td>15051</td>\n",
       "      <td>Z1F2PBHX</td>\n",
       "      <td>130636984</td>\n",
       "      <td>0</td>\n",
       "      <td>0</td>\n",
       "      <td>0</td>\n",
       "      <td>5</td>\n",
       "      <td>157425</td>\n",
       "      <td>0</td>\n",
       "      <td>0</td>\n",
       "      <td>0</td>\n",
       "      <td>0</td>\n",
       "    </tr>\n",
       "    <tr>\n",
       "      <th>39826</th>\n",
       "      <td>15052</td>\n",
       "      <td>Z1F2PBHX</td>\n",
       "      <td>148990936</td>\n",
       "      <td>0</td>\n",
       "      <td>0</td>\n",
       "      <td>0</td>\n",
       "      <td>5</td>\n",
       "      <td>157515</td>\n",
       "      <td>0</td>\n",
       "      <td>0</td>\n",
       "      <td>0</td>\n",
       "      <td>0</td>\n",
       "    </tr>\n",
       "    <tr>\n",
       "      <th>40498</th>\n",
       "      <td>15053</td>\n",
       "      <td>Z1F2PBHX</td>\n",
       "      <td>169414728</td>\n",
       "      <td>0</td>\n",
       "      <td>0</td>\n",
       "      <td>0</td>\n",
       "      <td>5</td>\n",
       "      <td>158528</td>\n",
       "      <td>0</td>\n",
       "      <td>0</td>\n",
       "      <td>0</td>\n",
       "      <td>0</td>\n",
       "    </tr>\n",
       "    <tr>\n",
       "      <th>41170</th>\n",
       "      <td>15054</td>\n",
       "      <td>Z1F2PBHX</td>\n",
       "      <td>193134176</td>\n",
       "      <td>0</td>\n",
       "      <td>0</td>\n",
       "      <td>0</td>\n",
       "      <td>5</td>\n",
       "      <td>159516</td>\n",
       "      <td>0</td>\n",
       "      <td>0</td>\n",
       "      <td>0</td>\n",
       "      <td>0</td>\n",
       "    </tr>\n",
       "    <tr>\n",
       "      <th>41843</th>\n",
       "      <td>15055</td>\n",
       "      <td>Z1F2PBHX</td>\n",
       "      <td>210885984</td>\n",
       "      <td>0</td>\n",
       "      <td>0</td>\n",
       "      <td>0</td>\n",
       "      <td>5</td>\n",
       "      <td>160496</td>\n",
       "      <td>0</td>\n",
       "      <td>0</td>\n",
       "      <td>0</td>\n",
       "      <td>0</td>\n",
       "    </tr>\n",
       "    <tr>\n",
       "      <th>42515</th>\n",
       "      <td>15056</td>\n",
       "      <td>Z1F2PBHX</td>\n",
       "      <td>28007536</td>\n",
       "      <td>0</td>\n",
       "      <td>0</td>\n",
       "      <td>0</td>\n",
       "      <td>5</td>\n",
       "      <td>161001</td>\n",
       "      <td>0</td>\n",
       "      <td>0</td>\n",
       "      <td>0</td>\n",
       "      <td>0</td>\n",
       "    </tr>\n",
       "    <tr>\n",
       "      <th>43187</th>\n",
       "      <td>15057</td>\n",
       "      <td>Z1F2PBHX</td>\n",
       "      <td>170476880</td>\n",
       "      <td>0</td>\n",
       "      <td>0</td>\n",
       "      <td>0</td>\n",
       "      <td>5</td>\n",
       "      <td>161003</td>\n",
       "      <td>0</td>\n",
       "      <td>0</td>\n",
       "      <td>0</td>\n",
       "      <td>0</td>\n",
       "    </tr>\n",
       "    <tr>\n",
       "      <th>43859</th>\n",
       "      <td>15058</td>\n",
       "      <td>Z1F2PBHX</td>\n",
       "      <td>129174904</td>\n",
       "      <td>0</td>\n",
       "      <td>0</td>\n",
       "      <td>0</td>\n",
       "      <td>5</td>\n",
       "      <td>161010</td>\n",
       "      <td>0</td>\n",
       "      <td>0</td>\n",
       "      <td>0</td>\n",
       "      <td>0</td>\n",
       "    </tr>\n",
       "    <tr>\n",
       "      <th>44531</th>\n",
       "      <td>15059</td>\n",
       "      <td>Z1F2PBHX</td>\n",
       "      <td>56744160</td>\n",
       "      <td>0</td>\n",
       "      <td>0</td>\n",
       "      <td>0</td>\n",
       "      <td>5</td>\n",
       "      <td>161010</td>\n",
       "      <td>0</td>\n",
       "      <td>0</td>\n",
       "      <td>0</td>\n",
       "      <td>0</td>\n",
       "    </tr>\n",
       "    <tr>\n",
       "      <th>45203</th>\n",
       "      <td>15060</td>\n",
       "      <td>Z1F2PBHX</td>\n",
       "      <td>208890824</td>\n",
       "      <td>0</td>\n",
       "      <td>0</td>\n",
       "      <td>0</td>\n",
       "      <td>5</td>\n",
       "      <td>161010</td>\n",
       "      <td>0</td>\n",
       "      <td>0</td>\n",
       "      <td>0</td>\n",
       "      <td>0</td>\n",
       "    </tr>\n",
       "    <tr>\n",
       "      <th>45875</th>\n",
       "      <td>15061</td>\n",
       "      <td>Z1F2PBHX</td>\n",
       "      <td>224299712</td>\n",
       "      <td>0</td>\n",
       "      <td>0</td>\n",
       "      <td>0</td>\n",
       "      <td>5</td>\n",
       "      <td>161010</td>\n",
       "      <td>0</td>\n",
       "      <td>0</td>\n",
       "      <td>0</td>\n",
       "      <td>0</td>\n",
       "    </tr>\n",
       "    <tr>\n",
       "      <th>46547</th>\n",
       "      <td>15062</td>\n",
       "      <td>Z1F2PBHX</td>\n",
       "      <td>68459096</td>\n",
       "      <td>0</td>\n",
       "      <td>0</td>\n",
       "      <td>0</td>\n",
       "      <td>5</td>\n",
       "      <td>161010</td>\n",
       "      <td>0</td>\n",
       "      <td>0</td>\n",
       "      <td>0</td>\n",
       "      <td>0</td>\n",
       "    </tr>\n",
       "    <tr>\n",
       "      <th>47219</th>\n",
       "      <td>15063</td>\n",
       "      <td>Z1F2PBHX</td>\n",
       "      <td>174441664</td>\n",
       "      <td>0</td>\n",
       "      <td>0</td>\n",
       "      <td>0</td>\n",
       "      <td>5</td>\n",
       "      <td>161010</td>\n",
       "      <td>0</td>\n",
       "      <td>0</td>\n",
       "      <td>0</td>\n",
       "      <td>0</td>\n",
       "    </tr>\n",
       "  </tbody>\n",
       "</table>\n",
       "</div>"
      ],
      "text/plain": [
       "        date    device  attribute1  attribute2  attribute3  attribute4  \\\n",
       "1162   15001  Z1F2PBHX   129475464           0           0           0   \n",
       "2325   15002  Z1F2PBHX   148229136           0           0           0   \n",
       "3488   15003  Z1F2PBHX   188059992           0           0           0   \n",
       "4650   15004  Z1F2PBHX   167365376           0           0           0   \n",
       "5811   15005  Z1F2PBHX   205455544           0           0           0   \n",
       "6865   15006  Z1F2PBHX   243630240           0           0           0   \n",
       "17196  15020  Z1F2PBHX   171318632           0           0           0   \n",
       "17908  15021  Z1F2PBHX   178270360           0           0           0   \n",
       "18620  15022  Z1F2PBHX   133112960           0           0           0   \n",
       "19332  15023  Z1F2PBHX   234895416           0           0           0   \n",
       "20044  15024  Z1F2PBHX    46939320           0           0           0   \n",
       "20756  15025  Z1F2PBHX    44864224           0           0           0   \n",
       "21468  15026  Z1F2PBHX   191817864           0           0           0   \n",
       "22180  15027  Z1F2PBHX    17191888           0           0           0   \n",
       "22892  15028  Z1F2PBHX   243935864           0           0           0   \n",
       "23607  15029  Z1F2PBHX   176857592           0           0           0   \n",
       "24319  15030  Z1F2PBHX   242857056           0           0           0   \n",
       "25031  15031  Z1F2PBHX   157304384           0           0           0   \n",
       "25743  15032  Z1F2PBHX    53847624           0           0           0   \n",
       "26455  15033  Z1F2PBHX   197796832           0           0           0   \n",
       "27167  15034  Z1F2PBHX   147243080           0           0           0   \n",
       "27879  15035  Z1F2PBHX   238956280           0           0           0   \n",
       "28591  15036  Z1F2PBHX   103204112           0           0           0   \n",
       "29302  15037  Z1F2PBHX   242794712           0           0           0   \n",
       "30014  15038  Z1F2PBHX   171746664           0           0           0   \n",
       "30726  15039  Z1F2PBHX   233634680           0           0           0   \n",
       "31438  15040  Z1F2PBHX    56836144           0           0           0   \n",
       "32150  15041  Z1F2PBHX    15240104           0           0           0   \n",
       "32862  15042  Z1F2PBHX   100943576           0           0           0   \n",
       "33574  15043  Z1F2PBHX   203196384           0           0           0   \n",
       "34286  15044  Z1F2PBHX   134471760           0           0           0   \n",
       "34998  15045  Z1F2PBHX   237995984           0           0           0   \n",
       "35709  15046  Z1F2PBHX    72756656           0           0           0   \n",
       "36420  15047  Z1F2PBHX   213073144           0           0           0   \n",
       "37131  15048  Z1F2PBHX   102391480           0           0           0   \n",
       "37805  15049  Z1F2PBHX   118763376           0           0           0   \n",
       "38479  15050  Z1F2PBHX   208657752           0           0           0   \n",
       "39153  15051  Z1F2PBHX   130636984           0           0           0   \n",
       "39826  15052  Z1F2PBHX   148990936           0           0           0   \n",
       "40498  15053  Z1F2PBHX   169414728           0           0           0   \n",
       "41170  15054  Z1F2PBHX   193134176           0           0           0   \n",
       "41843  15055  Z1F2PBHX   210885984           0           0           0   \n",
       "42515  15056  Z1F2PBHX    28007536           0           0           0   \n",
       "43187  15057  Z1F2PBHX   170476880           0           0           0   \n",
       "43859  15058  Z1F2PBHX   129174904           0           0           0   \n",
       "44531  15059  Z1F2PBHX    56744160           0           0           0   \n",
       "45203  15060  Z1F2PBHX   208890824           0           0           0   \n",
       "45875  15061  Z1F2PBHX   224299712           0           0           0   \n",
       "46547  15062  Z1F2PBHX    68459096           0           0           0   \n",
       "47219  15063  Z1F2PBHX   174441664           0           0           0   \n",
       "\n",
       "       attribute5  attribute6  attribute7  attribute8  attribute9  failure  \n",
       "1162            4      148008           0           0           0        0  \n",
       "2325            4      148008           0           0           0        0  \n",
       "3488            4      148008           0           0           0        0  \n",
       "4650            4      148745           0           0           0        0  \n",
       "5811            4      149672           0           0           0        0  \n",
       "6865            4      150588           0           0           0        0  \n",
       "17196           5      157075           0           0           0        0  \n",
       "17908           5      157122           0           0           0        0  \n",
       "18620           5      157403           0           0           0        0  \n",
       "19332           5      157404           0           0           0        0  \n",
       "20044           5      157404           0           0           0        0  \n",
       "20756           5      157405           0           0           0        0  \n",
       "21468           5      157405           0           0           0        0  \n",
       "22180           5      157410           0           0           0        0  \n",
       "22892           5      157410           0           0           0        0  \n",
       "23607           5      157410           0           0           0        0  \n",
       "24319           5      157410           0           0           0        0  \n",
       "25031           5      157414           0           0           0        0  \n",
       "25743           5      157414           0           0           0        0  \n",
       "26455           5      157414           0           0           0        0  \n",
       "27167           5      157414           0           0           0        0  \n",
       "27879           5      157415           0           0           0        0  \n",
       "28591           5      157415           0           0           0        0  \n",
       "29302           5      157415           0           0           0        0  \n",
       "30014           5      157415           0           0           0        0  \n",
       "30726           5      157415           0           0           0        0  \n",
       "31438           5      157415           0           0           0        0  \n",
       "32150           5      157415           0           0           0        0  \n",
       "32862           5      157415           0           0           0        0  \n",
       "33574           5      157424           0           0           0        0  \n",
       "34286           5      157424           0           0           0        0  \n",
       "34998           5      157424           0           0           0        0  \n",
       "35709           5      157424           0           0           0        0  \n",
       "36420           5      157424           0           0           0        0  \n",
       "37131           5      157424           0           0           0        0  \n",
       "37805           5      157424           0           0           0        0  \n",
       "38479           5      157425           0           0           0        0  \n",
       "39153           5      157425           0           0           0        0  \n",
       "39826           5      157515           0           0           0        0  \n",
       "40498           5      158528           0           0           0        0  \n",
       "41170           5      159516           0           0           0        0  \n",
       "41843           5      160496           0           0           0        0  \n",
       "42515           5      161001           0           0           0        0  \n",
       "43187           5      161003           0           0           0        0  \n",
       "43859           5      161010           0           0           0        0  \n",
       "44531           5      161010           0           0           0        0  \n",
       "45203           5      161010           0           0           0        0  \n",
       "45875           5      161010           0           0           0        0  \n",
       "46547           5      161010           0           0           0        0  \n",
       "47219           5      161010           0           0           0        0  "
      ]
     },
     "execution_count": 23,
     "metadata": {},
     "output_type": "execute_result"
    }
   ],
   "source": [
    "df.query('device == \"Z1F2PBHX\"').head(50)"
   ]
  },
  {
   "cell_type": "markdown",
   "metadata": {
    "pycharm": {
     "name": "#%% md\n"
    }
   },
   "source": [
    "Telemetry data ends when device fails and some attributes seem to be constant for each device so I looked at the mean and standard deviation of `attribute5` for devices that failed to see how many were constant."
   ]
  },
  {
   "cell_type": "code",
   "execution_count": 24,
   "metadata": {
    "ExecuteTime": {
     "end_time": "2019-09-20T00:17:09.087201Z",
     "start_time": "2019-09-20T00:17:09.075201Z"
    },
    "pycharm": {
     "is_executing": false,
     "name": "#%%\n"
    }
   },
   "outputs": [
    {
     "data": {
      "text/plain": [
       "array([ 2.90829694,  4.        ,  5.73076923,  5.85714286,  6.        ,\n",
       "        6.328     ,  6.33333333,  6.4       ,  6.53846154,  6.89447236,\n",
       "        7.        ,  7.01526718,  7.04964539,  7.5       ,  7.57142857,\n",
       "        7.74698795,  7.85714286,  7.89119171,  7.90232558,  7.92446043,\n",
       "        8.        ,  8.17283951,  8.72368421,  8.89756098,  8.90869565,\n",
       "        9.        ,  9.83464567,  9.87573964, 10.        , 10.28813559,\n",
       "       10.45454545, 11.        , 11.19230769, 11.53333333, 11.85810811,\n",
       "       12.        , 12.13793103, 12.72368421, 13.        , 13.01666667,\n",
       "       13.93814433, 14.        , 14.65263158, 14.66666667, 14.78672986,\n",
       "       15.71428571, 16.        , 16.856     , 19.        , 23.        ,\n",
       "       24.        , 25.        , 30.        , 30.5       , 33.775     ,\n",
       "       35.325     , 35.60869565, 35.72727273, 36.74285714, 40.1025641 ,\n",
       "       58.        , 64.        , 65.        , 90.        , 91.        ])"
      ]
     },
     "execution_count": 24,
     "metadata": {},
     "output_type": "execute_result"
    }
   ],
   "source": [
    "df[df['device'].isin(failed_devices)].groupby(\n",
    "    'device')['attribute5'].mean().sort_values().unique()"
   ]
  },
  {
   "cell_type": "code",
   "execution_count": 25,
   "metadata": {
    "ExecuteTime": {
     "end_time": "2019-09-20T00:17:09.103202Z",
     "start_time": "2019-09-20T00:17:09.088201Z"
    }
   },
   "outputs": [
    {
     "data": {
      "text/plain": [
       "array([0.        , 0.12308426, 0.12855587, 0.21798562, 0.24214463,\n",
       "       0.26473656, 0.28866965, 0.28923853, 0.29756675, 0.30396708,\n",
       "       0.30535241, 0.30800695, 0.31220841, 0.33085866, 0.35012408,\n",
       "       0.35186578, 0.37297133, 0.37541923, 0.3792809 , 0.40191848,\n",
       "       0.42290206, 0.4373806 , 0.44343957, 0.44643107, 0.45014618,\n",
       "       0.45226702, 0.45482588, 0.47137411, 0.49901088, 0.5       ,\n",
       "       0.50452498, 0.50990195, 0.51887452, 0.64387937, 0.73409355,\n",
       "       0.80675117, 0.87831007, 0.94020623, 0.94527391, 0.97931668,\n",
       "       1.0198039 , 1.26870619, 1.51185789, 1.54065777, 2.26778684,\n",
       "       3.01941768])"
      ]
     },
     "execution_count": 25,
     "metadata": {},
     "output_type": "execute_result"
    }
   ],
   "source": [
    "df[df['device'].isin(failed_devices)].groupby(\n",
    "    'device')['attribute5'].std().sort_values().unique()"
   ]
  },
  {
   "cell_type": "markdown",
   "metadata": {
    "pycharm": {
     "name": "#%% md\n"
    }
   },
   "source": [
    "Mean and standard deviation of `attribute5` for devices that didn't fail.  "
   ]
  },
  {
   "cell_type": "code",
   "execution_count": 26,
   "metadata": {
    "ExecuteTime": {
     "end_time": "2019-09-20T00:17:09.132199Z",
     "start_time": "2019-09-20T00:17:09.104201Z"
    },
    "pycharm": {
     "is_executing": false,
     "name": "#%%\n"
    },
    "scrolled": true
   },
   "outputs": [
    {
     "data": {
      "text/plain": [
       "array([ 1.        ,  2.        ,  2.97087379,  3.        ,  3.03289474,\n",
       "        3.38135593,  4.        ,  4.38135593,  4.4516129 ,  4.5       ,\n",
       "        4.81443299,  4.92771084,  5.        ,  5.22222222,  5.38135593,\n",
       "        5.5       ,  5.6       ,  5.7635468 ,  5.92579505,  5.9384058 ,\n",
       "        6.        ,  6.03289474,  6.11111111,  6.11458333,  6.218107  ,\n",
       "        6.40707965,  6.5       ,  6.8452381 ,  6.90721649,  6.91864407,\n",
       "        6.93617021,  6.95510204,  6.97029703,  6.97627119,  7.        ,\n",
       "        7.03289474,  7.40707965,  7.41818182,  7.43654822,  7.5       ,\n",
       "        7.66666667,  7.69230769,  7.89166667,  7.90721649,  7.91428571,\n",
       "        7.92250923,  7.92307692,  7.92579505,  7.97087379,  7.97849462,\n",
       "        8.        ,  8.03289474,  8.05357143,  8.05555556,  8.10714286,\n",
       "        8.17777778,  8.20205479,  8.31147541,  8.40707965,  8.42718447,\n",
       "        8.49411765,  8.5       ,  8.51612903,  8.75342466,  8.85365854,\n",
       "        8.9047619 ,  8.92070485,  8.92579505,  8.99056604,  9.        ,\n",
       "        9.03289474,  9.05357143,  9.19617225,  9.5       ,  9.58333333,\n",
       "        9.64925373,  9.91304348,  9.92250923,  9.925     ,  9.92579505,\n",
       "       10.        , 10.01644737, 10.03289474, 10.05357143, 10.11458333,\n",
       "       10.14652015, 10.15      , 10.20205479, 10.29801325, 10.5       ,\n",
       "       10.71631206, 10.91428571, 10.92579505, 10.97785978, 11.        ,\n",
       "       11.03289474, 11.04469274, 11.05357143, 11.15      , 11.20205479,\n",
       "       11.40707965, 11.5       , 11.73770492, 11.92579505, 12.        ,\n",
       "       12.11458333, 12.15      , 12.20205479, 12.23157895, 12.31578947,\n",
       "       12.44117647, 12.46268657, 12.5       , 12.52272727, 12.65991903,\n",
       "       12.71270718, 12.9047619 , 13.        , 13.03289474, 13.11458333,\n",
       "       13.15      , 13.31578947, 13.50295858, 13.52      , 13.71770335,\n",
       "       13.92571429, 13.92579505, 13.95510204, 13.97087379, 14.        ,\n",
       "       14.09473684, 14.11458333, 14.43265306, 14.94090909, 14.95510204,\n",
       "       14.97222222, 15.        , 15.13215859, 15.54545455, 15.66666667,\n",
       "       15.73913043, 15.81437126, 15.90721649, 16.        , 16.43265306,\n",
       "       16.56060606, 16.6       , 16.76      , 16.93333333, 17.        ,\n",
       "       17.34977578, 17.43265306, 17.5       , 18.        , 18.43265306,\n",
       "       19.        , 19.43265306, 20.        , 21.        , 21.43265306,\n",
       "       22.        , 22.7       , 23.        , 24.        , 25.        ,\n",
       "       30.90721649, 31.72164948, 31.81443299, 31.90721649, 31.97087379,\n",
       "       32.72164948, 32.90721649, 32.97087379, 33.90721649, 34.72164948,\n",
       "       35.90721649, 36.76734694, 36.90721649, 36.97087379, 37.76734694,\n",
       "       37.90721649, 38.90721649, 40.48163265, 57.        , 58.        ,\n",
       "       59.        , 60.        , 61.        , 62.        , 63.        ,\n",
       "       64.        , 66.        , 67.        , 68.        , 70.        ,\n",
       "       78.        , 89.        , 90.        , 92.        , 94.        ,\n",
       "       95.        , 98.        ])"
      ]
     },
     "execution_count": 26,
     "metadata": {},
     "output_type": "execute_result"
    }
   ],
   "source": [
    "df[~df['device'].isin(failed_devices)].groupby(\n",
    "    'device')['attribute5'].mean().sort_values().unique()"
   ]
  },
  {
   "cell_type": "code",
   "execution_count": 27,
   "metadata": {
    "ExecuteTime": {
     "end_time": "2019-09-20T00:17:09.162199Z",
     "start_time": "2019-09-20T00:17:09.133198Z"
    },
    "scrolled": true
   },
   "outputs": [
    {
     "data": {
      "text/plain": [
       "array([0.        , 0.09712859, 0.14532236, 0.14741173, 0.15246164,\n",
       "       0.1701884 , 0.22618201, 0.2363325 , 0.2457602 , 0.26054036,\n",
       "       0.26256844, 0.26256844, 0.26298776, 0.26505314, 0.26695874,\n",
       "       0.26786324, 0.26786324, 0.27384549, 0.28196295, 0.28196295,\n",
       "       0.28383562, 0.29163598, 0.29163598, 0.29163598, 0.29163598,\n",
       "       0.29590134, 0.31210409, 0.31722063, 0.32019046, 0.32019046,\n",
       "       0.35427637, 0.35781765, 0.35783904, 0.36001241, 0.36384982,\n",
       "       0.38236392, 0.38236392, 0.38236392, 0.38236392, 0.38236392,\n",
       "       0.39350235, 0.40222221, 0.40544243, 0.41024082, 0.42595406,\n",
       "       0.43588989, 0.44897776, 0.45114834, 0.45114834, 0.45114834,\n",
       "       0.45114834, 0.45236402, 0.45890743, 0.4650063 , 0.46992319,\n",
       "       0.47016235, 0.47469801, 0.47756693, 0.48230956, 0.49099025,\n",
       "       0.49099025, 0.49238049, 0.49238049, 0.50035051, 0.50090827,\n",
       "       0.50103341, 0.5014424 , 0.50147711, 0.52207265, 0.52223297,\n",
       "       0.52223297, 0.52601495, 0.55538575, 0.56553401, 0.58327197,\n",
       "       0.58327197, 0.63444127, 0.64333955, 0.64491891, 0.76822128,\n",
       "       0.78734125, 0.78734125, 0.80414429, 0.82967232, 0.87490795,\n",
       "       0.87490795, 0.87490795, 0.89220218, 0.91112854, 0.92060726,\n",
       "       0.92462967, 0.93597653, 0.9486833 , 0.97455071, 0.98292376,\n",
       "       0.99335562, 1.        , 1.        , 1.0010366 , 1.0010366 ,\n",
       "       1.04176356, 1.10575213, 1.11506082, 1.12163475, 1.23719441,\n",
       "       1.26291256, 1.461599  , 1.5015549 , 1.5015549 , 1.5015549 ,\n",
       "       1.5666989 , 1.72616547, 1.82229418, 1.8924953 , 2.08893187])"
      ]
     },
     "execution_count": 27,
     "metadata": {},
     "output_type": "execute_result"
    }
   ],
   "source": [
    "df[~df['device'].isin(failed_devices)].groupby(\n",
    "    'device')['attribute5'].std().sort_values().unique()"
   ]
  },
  {
   "cell_type": "markdown",
   "metadata": {},
   "source": [
    "I looked at the distribution of `attribute5` to see if there are any values associated with failing or not failing.  However the distribution for both seems to be about the same."
   ]
  },
  {
   "cell_type": "code",
   "execution_count": 28,
   "metadata": {
    "ExecuteTime": {
     "end_time": "2019-09-20T00:17:09.630198Z",
     "start_time": "2019-09-20T00:17:09.163198Z"
    }
   },
   "outputs": [
    {
     "data": {
      "image/png": "[encoded data removed]",
      "text/plain": [
       "<Figure size 720x504 with 1 Axes>"
      ]
     },
     "metadata": {
      "needs_background": "light"
     },
     "output_type": "display_data"
    }
   ],
   "source": [
    "# Create figure.\n",
    "plt.figure(figsize=(10, 7))\n",
    "\n",
    "# Create two histograms of observations.\n",
    "plt.hist(df[df['device'].isin(failed_devices)]['attribute5'],\n",
    "         bins=90,\n",
    "         color='blue',\n",
    "         alpha=0.6,\n",
    "         label='Failed')\n",
    "\n",
    "plt.hist(df[~df['device'].isin(failed_devices)]['attribute5'],\n",
    "         bins=90,\n",
    "         color='orange',\n",
    "         alpha=0.6,\n",
    "         label='not-Failed')\n",
    "\n",
    "# Label axes.\n",
    "plt.title('Distribution of Attribute 5', fontsize=22)\n",
    "plt.ylabel('Frequency', fontsize=18)\n",
    "plt.xlabel('Value of Attribute 5', fontsize=18)\n",
    "\n",
    "# Create legend.\n",
    "plt.legend(fontsize=20)"
   ]
  },
  {
   "cell_type": "markdown",
   "metadata": {
    "pycharm": {
     "name": "#%% md\n"
    }
   },
   "source": [
    "`attribute5` is mostly the same for each device and the standard deviations were also very small so I doubt there will be much predicting power from it."
   ]
  },
  {
   "cell_type": "markdown",
   "metadata": {},
   "source": [
    "### Telemetry progression of the failed devices"
   ]
  },
  {
   "cell_type": "code",
   "execution_count": 29,
   "metadata": {
    "ExecuteTime": {
     "end_time": "2019-09-20T00:17:09.688197Z",
     "start_time": "2019-09-20T00:17:09.631200Z"
    },
    "scrolled": true
   },
   "outputs": [
    {
     "name": "stderr",
     "output_type": "stream",
     "text": [
      "C:\\Users\\flake\\Anaconda3\\envs\\ga_dsi\\lib\\site-packages\\ipykernel_launcher.py:1: SettingWithCopyWarning: \n",
      "A value is trying to be set on a copy of a slice from a DataFrame\n",
      "\n",
      "See the caveats in the documentation: http://pandas.pydata.org/pandas-docs/stable/user_guide/indexing.html#returning-a-view-versus-a-copy\n",
      "  \"\"\"Entry point for launching an IPython kernel.\n"
     ]
    },
    {
     "data": {
      "application/vnd.jupyter.widget-view+json": {
       "model_id": "2d749ab298e64d89b89c11056c66acac",
       "version_major": 2,
       "version_minor": 0
      },
      "text/plain": [
       "QgridWidget(grid_options={'fullWidthRows': True, 'syncColumnCellResize': True, 'forceFitColumns': True, 'defau…"
      ]
     },
     "metadata": {},
     "output_type": "display_data"
    }
   ],
   "source": [
    "failed_df.sort_values(by='date', inplace=True)\n",
    "failed_grid = qgrid.QGridWidget(df=failed_df, show_toolbar=True)\n",
    "failed_grid"
   ]
  },
  {
   "cell_type": "markdown",
   "metadata": {},
   "source": [
    "I used qgrid to look at all how failed devices' telemetry changed over time.  There were a few patterns that showed up for a few devices but didn't hold true for others.  Overall, I got the idea of the scale of the attributes and some notion how they changed over time for each device and how they varied between devices but it did not find any strong indications of which features would be best for modeling.  "
   ]
  }
 ],
 "metadata": {
  "gist": {
   "data": {
    "description": "instantiate qgrid",
    "public": false
   },
   "id": ""
  },
  "kernelspec": {
   "display_name": "Python 3",
   "language": "python",
   "name": "python3"
  },
  "language_info": {
   "codemirror_mode": {
    "name": "ipython",
    "version": 3
   },
   "file_extension": ".py",
   "mimetype": "text/x-python",
   "name": "python",
   "nbconvert_exporter": "python",
   "pygments_lexer": "ipython3",
   "version": "3.7.4"
  },
  "pycharm": {
   "stem_cell": {
    "cell_type": "raw",
    "source": [],
    "metadata": {
     "collapsed": false
    }
   }
  },
  "toc": {
   "base_numbering": 1,
   "nav_menu": {},
   "number_sections": true,
   "sideBar": true,
   "skip_h1_title": false,
   "title_cell": "Table of Contents",
   "title_sidebar": "Contents",
   "toc_cell": false,
   "toc_position": {},
   "toc_section_display": true,
   "toc_window_display": false
  }
 },
 "nbformat": 4,
 "nbformat_minor": 1
}